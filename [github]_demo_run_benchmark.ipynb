{
  "cells": [
    {
      "cell_type": "markdown",
      "metadata": {
        "id": "JUyOIsvigY7N"
      },
      "source": [
        "# Colab Setup\n",
        "\n",
        "This notebook requires a GPU runtime."
      ]
    },
    {
      "cell_type": "code",
      "execution_count": 1,
      "metadata": {
        "id": "flbgMtAlcLn1"
      },
      "outputs": [],
      "source": [
        "%load_ext autoreload\n",
        "%autoreload 2"
      ]
    },
    {
      "cell_type": "code",
      "execution_count": 2,
      "metadata": {
        "colab": {
          "base_uri": "https://localhost:8080/"
        },
        "id": "W93pPcdQgULQ",
        "outputId": "f8855bd9-a518-4350-bfe7-839b5b40764d"
      },
      "outputs": [],
      "source": [
        "#%%bash\n",
        "\n",
        "#git clone https://github.com/explanare/ravel.git\n",
        "#git clone https://github.com/stanfordnlp/pyvene.git\n",
        "\n",
        "#pip install accelerate\n",
        "#pip install datasets\n",
        "\n",
        "# cd pyvene\n",
        "# git checkout d29f9591ca61753d66ba25f6cc3a4c05bab48480"
      ]
    },
    {
      "cell_type": "code",
      "execution_count": 3,
      "metadata": {
        "id": "0zLdMswKcLn1"
      },
      "outputs": [],
      "source": [
        "import numpy as np\n",
        "import random\n",
        "import sys\n",
        "import torch\n",
        "\n",
        "import numpy as np\n",
        "import random\n",
        "import torch\n",
        "import torch.nn as nn\n",
        "import pyvene as pv\n",
        "\n",
        "import accelerate\n",
        "from huggingface_hub import hf_hub_download\n",
        "\n",
        "RAVEL_LIB_DIR = 'src'\n",
        "RAVEL_SCRIPT_DIR = 'scripts'\n",
        "PYVENE_LIB_DIR = 'pyvene'\n",
        "\n",
        "sys.path.append(RAVEL_LIB_DIR)\n",
        "sys.path.append(RAVEL_SCRIPT_DIR)\n",
        "sys.path.append(PYVENE_LIB_DIR)\n",
        "\n",
        "def set_seed(seed):\n",
        "    random.seed(seed)\n",
        "    np.random.seed(seed)\n",
        "    torch.manual_seed(seed)\n",
        "    torch.cuda.manual_seed_all(seed)\n",
        "\n",
        "set_seed(0)\n",
        "\n",
        "device = \"cpu\"\n",
        "if torch.backends.mps.is_available():\n",
        "    device = \"mps\"\n",
        "elif torch.cuda.is_available():\n",
        "    device = \"cuda\"\n",
        "\n",
        "#!mkdir models\n",
        "#!mkdir data\n",
        "\n",
        "MODEL_DIR = 'models'\n",
        "DATA_DIR = 'data'"
      ]
    },
    {
      "cell_type": "code",
      "execution_count": 4,
      "metadata": {},
      "outputs": [],
      "source": [
        "device = \"cpu\"\n",
        "if torch.backends.mps.is_available():\n",
        "    device = \"mps\"\n",
        "elif torch.cuda.is_available():\n",
        "    device = \"cuda\""
      ]
    },
    {
      "cell_type": "markdown",
      "metadata": {
        "id": "a9-AQQvZdOJV"
      },
      "source": [
        "# Model"
      ]
    },
    {
      "cell_type": "code",
      "execution_count": 5,
      "metadata": {
        "colab": {
          "base_uri": "https://localhost:8080/",
          "height": 345,
          "referenced_widgets": [
            "e6421f67cbeb4fd3ab7bb3264ee51df4",
            "473247a28332437d8254c896e6c57051",
            "1d4d674929df41adb6a45acc74e0863f",
            "25c03fbbdef4497397f1ab4ac36d8e30",
            "08ae93f57daa4569ba4a3e4c405ce8da",
            "70b94189e15148739dad7db7aaf8ab42",
            "0ed867cdc75540ecafa3cccda8d9855e",
            "72da486212cb432783f334f069225239",
            "ea5c4813efee43b39f2aef43ff754405",
            "545982efc183497484490d5f4f802869",
            "584b3a66e9a8494bacb5183aa92509bd",
            "c24cdc8074d6446ba36beb7ced513ad6",
            "defc4a44496140c7b4c5708b95960f96",
            "7d88ad9cef3b4995af4f8163af5b544d",
            "5f588a37541d4f13aa3b007150267804",
            "645ba29fb79748bf86a3553b970f22c2",
            "5cf0ada5f9b3495290f9fda95cdedc66",
            "005eed6540744f089e737fa1ff10079e",
            "fbba2db931df4d3d8f62380a1abcd558",
            "3479d2307a7947b5b10b2db1d780363b",
            "eac9aa0e807a4b3782a5d7235f59cbbd",
            "e0dd09f7c65848968cd77384fd731b4c",
            "446a9f40e3b94b7199e7b51717a814b7",
            "6adf85b11a484a9d9c22da15a4475d08",
            "a0c6f760286f40958d6239a4686a4559",
            "3d103360c58341e49c42a853c753e3c7",
            "458471f2712a43e5bf837c63bb6cb3f3",
            "84b20a28aaa94ba6887b0908abbdb797",
            "401b8866435b459ab499fa33db9d3120",
            "3d1321cc589a49e8afda9be94788153d",
            "0517c508b4fe4fc6b25296267753eda3",
            "1425f96afea341e28b63324ed030c42a",
            "105afa2bfd8f417f9c152369a82b5d43",
            "1b713e51221243e8b07c78e1e97dc4c4",
            "4f7b2ef7654a4ea88beb36bf39fb78e4",
            "26c0a67949044205b2607a4bd83b3527",
            "47801322a28140c4bdc4d912c77603d1",
            "d2494418df4843e1a6fafaec3045633c",
            "f336d3c4d8d142b4b3295d4a232fc8df",
            "f59f25c5edec4a3cb0296fcbbde59147",
            "57c0ac34b3c34488886ad748560a2e37",
            "756eba6c613d438fbb44fb089357824f",
            "d44c221686964c09ad24f72f87bb2733",
            "4e11a4930771477ca7dc59672e4e4f78",
            "7648cba6581c41d6807c44a1e6ec46f0",
            "9f397d441944401a9cdf31cd8cd3bb7a",
            "66d0a163396346dd8df1d3b0b7176b71",
            "bb4e97fa97b841dabdd6f48ac99b5be4",
            "fd6a5b0a0f8b45bcb9648656ce63ad4e",
            "d8ee427e21724c469ffe33de51ff4b3b",
            "13d390959219401990e19a402647d806",
            "d69cf08b63f44492954c30edb2c28439",
            "9f0846b1fb584b2589d8ae22e1b27faf",
            "d755d2bda2224d9cab2a6c1d40aac6e8",
            "6df188f81f354898a3e417b56f9f5acb",
            "6512fee1d64d432a91033ec043132684",
            "241d686011a845bea660c4870f808595",
            "12f4cb88ea9f48f4aed19ed1e44e6e29",
            "aa0e37bc24bb4efc81aa94288df79ea1",
            "4eec5229825e40bbaa19e5a10fa5bda5",
            "ebba9c999eaf42eaad6c021b34d624f7",
            "0c97a854107a48279be70b32eeefbe93",
            "82f63a30f5cd4bf1b5fab69872179dde",
            "52906e1969034d4a8c3070847d016b6f",
            "1d60c64cbe684ac9bd9c997679f7fa44",
            "6f5958342c684172a4339eaf48212a6b",
            "b83340500412489284f23181b7faa5f5",
            "481b28c71e7c4fe6a26c08b4e8b36395",
            "783f3cf86af745e7a35c97283a137322",
            "b380e2bab84f49a29405f1caa46e4672",
            "e7f9648d3ff540c6b529927e01d4d542",
            "0acc718373c0425bbf77f8c22aeb0b38",
            "863fecc9fa2148f8a80f731fc9d0ab3d",
            "8352bec67456474ca5ea922ee20a08d5",
            "2aedc3d191bc43289ade6eb2e7879f0f",
            "92eddac2de68402592536aa4d8132e88",
            "55b97afaf5a14d4f9d24c17dfb158b68"
          ]
        },
        "id": "IrrLMNHoqAiF",
        "outputId": "8e546588-a4e7-4b20-cb51-e030c70a0947"
      },
      "outputs": [],
      "source": [
        "# from transformers import AutoConfig, LlamaForCausalLM, AutoTokenizer\n",
        "\n",
        "# model_id = \"TinyLlama/TinyLlama-1.1B-intermediate-step-1431k-3T\"\n",
        "\n",
        "# tokenizer = AutoTokenizer.from_pretrained(model_id, cache_dir=MODEL_DIR)\n",
        "# model = LlamaForCausalLM.from_pretrained(\n",
        "#     model_id, low_cpu_mem_usage=True, device_map='auto', cache_dir=MODEL_DIR,\n",
        "#     torch_dtype=torch.bfloat16)\n",
        "# model = model.eval()\n",
        "# tokenizer.pad_token = tokenizer.eos_token\n",
        "# tokenizer.padding_side = 'left'\n",
        "\n",
        "# VOCAB = sorted(tokenizer.vocab, key=tokenizer.vocab.get)"
      ]
    },
    {
      "cell_type": "code",
      "execution_count": 6,
      "metadata": {},
      "outputs": [
        {
          "data": {
            "application/vnd.jupyter.widget-view+json": {
              "model_id": "5739162476b84cd989cdb7cbca008189",
              "version_major": 2,
              "version_minor": 0
            },
            "text/plain": [
              "Loading checkpoint shards:   0%|          | 0/3 [00:00<?, ?it/s]"
            ]
          },
          "metadata": {},
          "output_type": "display_data"
        }
      ],
      "source": [
        "# Load model\n",
        "from transformers import AutoModelForCausalLM, AutoTokenizer\n",
        "\n",
        "with open('hf_token.txt', 'r') as f:\n",
        "    hf_token = f.read().strip()\n",
        "\n",
        "model_id = \"google/gemma-2-2b\"\n",
        "model_name = \"gemma-2-2b\"\n",
        "\n",
        "torch.set_grad_enabled(False) # avoid blowing up mem\n",
        "model = AutoModelForCausalLM.from_pretrained(\n",
        "    model_id,\n",
        "    cache_dir=MODEL_DIR,\n",
        "    token=hf_token,\n",
        "    device_map=device,\n",
        "    low_cpu_mem_usage=True,\n",
        "    attn_implementation=\"eager\"\n",
        ")\n",
        "\n",
        "tokenizer =  AutoTokenizer.from_pretrained(\n",
        "    model_id,\n",
        "    cache_dir=MODEL_DIR,\n",
        "    token=hf_token,\n",
        ")\n",
        "tokenizer.pad_token = tokenizer.eos_token\n",
        "tokenizer.padding_side = 'left'\n",
        "VOCAB = sorted(tokenizer.vocab, key=tokenizer.vocab.get)\n",
        "\n",
        "layer_idx = 18"
      ]
    },
    {
      "cell_type": "code",
      "execution_count": 7,
      "metadata": {},
      "outputs": [],
      "source": [
        "from nnsight import NNsight\n",
        "nnsight_model = NNsight(model)\n",
        "nnsight_tracer_kwargs = {'scan': True, 'validate': False, 'use_cache': False, 'output_attentions': False}"
      ]
    },
    {
      "cell_type": "markdown",
      "metadata": {
        "id": "dkttf-519P79"
      },
      "source": [
        "# Dataset"
      ]
    },
    {
      "cell_type": "markdown",
      "metadata": {
        "id": "ZWqnOFocmtxI"
      },
      "source": [
        "**Download the RAVEL-TinyLlama instance (tinyllama.tgz) from [Google Drive](https://drive.google.com/file/d/1Vyet8flNLiL_nOKTy-BsDCr35zX730Ol/view?usp=sharing)**. The instance contains four files:\n",
        "\n",
        "* Training data for DAS & MDAS: [`tinyllama_city_train.json`](https://drive.google.com/file/d/1NWdEjkisvN_1p7fGg7qwgEAQkfJhjSrQ/view?usp=drive_link)\n",
        "\n",
        "* Entity val/test data: [`tinyllama_city_entity_test.json`](https://drive.google.com/file/d/1kXGuL_Picc4aHuTc2XpyaLBZFaji0bxC/view?usp=drive_link)\n",
        "\n",
        "* Context val/test data: [`tinyllama_city_context_test.json`](https://drive.google.com/file/d/1c8VPfg4dHDwtej31lB9DFEpI31loBBCb/view?usp=drive_link)\n",
        "\n",
        "* Intervention locations: [`tinyllama_city_prompt_to_entity_position.json`](https://drive.google.com/file/d/1DtAfnSKMRso7RAphjkp3hMjvFw7HcazB/view?usp=drive_link)\n"
      ]
    },
    {
      "cell_type": "code",
      "execution_count": 8,
      "metadata": {
        "id": "SWYtKfM2pGMH"
      },
      "outputs": [],
      "source": [
        "# %%bash\n",
        "\n",
        "# tar -xzf tinyllama.tgz -C /content/data/\n",
        "# mkdir data/base\n",
        "# tar -xvf /content/ravel/data.tgz -C data/base --strip-components=1"
      ]
    },
    {
      "cell_type": "code",
      "execution_count": 9,
      "metadata": {
        "colab": {
          "base_uri": "https://localhost:8080/"
        },
        "id": "1jPOMM9W0-BL",
        "outputId": "2f5bba88-bd36-44bb-a268-9317129d122e"
      },
      "outputs": [
        {
          "name": "stdout",
          "output_type": "stream",
          "text": [
            "#Training examples=9984, #Validation examples=870, #Test examples=891\n"
          ]
        }
      ],
      "source": [
        "import json\n",
        "import os\n",
        "import random\n",
        "\n",
        "import datasets\n",
        "from datasets import Dataset\n",
        "\n",
        "\n",
        "instance = model_name\n",
        "entity_type = 'city'\n",
        "INPUT_MAX_LEN = 48\n",
        "FEATURE_TYPES = datasets.Features({\"input\": datasets.Value(\"string\"), \"label\": datasets.Value(\"string\"),\n",
        "                              \"source_input\": datasets.Value(\"string\"), \"source_label\": datasets.Value(\"string\"),\n",
        "                              \"inv_label\": datasets.Value(\"string\"),\n",
        "                              'split': datasets.Value(\"string\"), 'source_split': datasets.Value(\"string\"),\n",
        "                              'entity': datasets.Value(\"string\"), 'source_entity': datasets.Value(\"string\")})\n",
        "\n",
        "\n",
        "# Load training dataset.\n",
        "split_to_raw_example = json.load(open(os.path.join(DATA_DIR, f'{instance}/{instance}_{entity_type}_train.json'), 'r'))\n",
        "# Load validation + test dataset.\n",
        "split_to_raw_example.update(json.load(open(os.path.join(DATA_DIR, f'{instance}/{instance}_{entity_type}_context_test.json'), 'r')))\n",
        "split_to_raw_example.update(json.load(open(os.path.join(DATA_DIR, f'{instance}/{instance}_{entity_type}_entity_test.json'), 'r')))\n",
        "# Prepend an extra token to avoid tokenization changes for Llama tokenizer.\n",
        "# Each sequence will start with <s> _ 0\n",
        "SOS_PAD = '0'\n",
        "NUM_SOS_TOKENS = 3\n",
        "for split in split_to_raw_example:\n",
        "  for i in range(len(split_to_raw_example[split])):\n",
        "    split_to_raw_example[split][i]['inv_label'] = SOS_PAD + split_to_raw_example[split][i]['inv_label']\n",
        "    split_to_raw_example[split][i]['label'] = SOS_PAD + split_to_raw_example[split][i]['label']\n",
        "\n",
        "\n",
        "# Load attributes (tasks) to prompt mapping.\n",
        "ALL_ATTR_TO_PROMPTS = json.load(open(os.path.join(DATA_DIR, 'base', f'ravel_{entity_type}_attribute_to_prompts.json')))\n",
        "\n",
        "# Load prompt to intervention location mapping.\n",
        "split_to_entity_pos = json.load(open(os.path.join(DATA_DIR, instance, f'{instance}_{entity_type}_prompt_to_entity_position.json')))\n",
        "SPLIT_TO_INV_LOCATIONS = {\n",
        "    f'{task}{split}': {'max_input_length': INPUT_MAX_LEN,\n",
        "                       'inv_position': [INPUT_MAX_LEN + pos]}\n",
        "    for task, pos in split_to_entity_pos.items()\n",
        "    for split in ('-train', '-test', '-val', '')\n",
        "}\n",
        "assert(min([min(v['inv_position']) for v in SPLIT_TO_INV_LOCATIONS.values()]) > 0)\n",
        "\n",
        "\n",
        "# Preprocess the dataset.\n",
        "def filter_inv_example(example):\n",
        "  return (example['label'] != example['inv_label'] and\n",
        "          example['source_split'] in SPLIT_TO_INV_LOCATIONS and\n",
        "          example['split'] in SPLIT_TO_INV_LOCATIONS)\n",
        "\n",
        "for split in split_to_raw_example:\n",
        "  random.shuffle(split_to_raw_example[split])\n",
        "  split_to_raw_example[split] = list(filter(filter_inv_example, split_to_raw_example[split]))\n",
        "  if len(split_to_raw_example[split]) == 0:\n",
        "    print('Empty split: \"%s\"' % split)\n",
        "# Remove empty splits.\n",
        "split_to_raw_example = {k: v for k, v in split_to_raw_example.items() if len(v) > 0}\n",
        "print(f\"#Training examples={sum(map(len, [v for k, v in split_to_raw_example.items() if k.endswith('-train')]))}, \"\n",
        "      f\"#Validation examples={sum(map(len, [v for k, v in split_to_raw_example.items() if k.endswith('-val')]))}, \"\n",
        "      f\"#Test examples={sum(map(len, [v for k, v in split_to_raw_example.items() if k.endswith('-test')]))}\")\n",
        "split_to_dataset = {split: Dataset.from_list(\n",
        "    split_to_raw_example[split], features=FEATURE_TYPES)\n",
        "                    for split in split_to_raw_example}\n",
        "\n",
        "# #Training examples=116728, #Validation examples=20516, #Test examples=22497"
      ]
    },
    {
      "cell_type": "markdown",
      "metadata": {
        "id": "iKpdF24zzJN-"
      },
      "source": [
        "# Sparse Autoencoder (SAE)"
      ]
    },
    {
      "cell_type": "markdown",
      "metadata": {
        "id": "umZuIUk2DZaO"
      },
      "source": [
        "## Training\n",
        "\n",
        "We will train a sparse autoencoder on entity representations extracted offline.\n",
        "\n",
        "* Download entity representations extracted from the Wikipedia dataset [here](https://drive.google.com/file/d/1hZ-Nv3ehf0Ok4ic3ybe-DATEh-HRjYkt/view?usp=drive_link)"
      ]
    },
    {
      "cell_type": "code",
      "execution_count": 10,
      "metadata": {
        "colab": {
          "base_uri": "https://localhost:8080/"
        },
        "id": "XmtffTWJkrJY",
        "outputId": "7f243b42-e04b-4aa0-9123-9ac0cd055977"
      },
      "outputs": [],
      "source": [
        "# from src.utils.dataset_utils import HDF5Dataset\n",
        "\n",
        "\n",
        "# file_path = os.path.join(DATA_DIR, \"wikipedia_20220301_city_tinyllama_layer14_features_200k.hdf5\")\n",
        "# TRAINING_BATCH_SIZE = 32\n",
        "# train_dataset = HDF5Dataset(file_path, sample_range=None)\n",
        "# val_dataset = HDF5Dataset(file_path, sample_range=list(range(80, 128)))\n",
        "# wiki_train_dataloader = torch.utils.data.DataLoader(train_dataset, batch_size=TRAINING_BATCH_SIZE, shuffle=True)\n",
        "# wiki_val_dataloader = torch.utils.data.DataLoader(val_dataset, batch_size=TRAINING_BATCH_SIZE, shuffle=True)"
      ]
    },
    {
      "cell_type": "code",
      "execution_count": 11,
      "metadata": {
        "cellView": "form",
        "colab": {
          "base_uri": "https://localhost:8080/"
        },
        "id": "UIZ91X8nxFRa",
        "outputId": "722da858-159d-4782-b282-233e00da3885"
      },
      "outputs": [],
      "source": [
        "# task_name = 'tinyllama-layer14-dim8192-reg0.5-ep5-sae-city_wikipedia_200k' #@param\n",
        "# task_name"
      ]
    },
    {
      "cell_type": "code",
      "execution_count": 12,
      "metadata": {
        "colab": {
          "base_uri": "https://localhost:8080/"
        },
        "id": "wzRVRB6DDZYe",
        "outputId": "f50c6403-49d9-4c75-b0f3-eb828c3948f7"
      },
      "outputs": [],
      "source": [
        "# from train_sae import train_sae\n",
        "\n",
        "\n",
        "# config = {\n",
        "#     'task_name': task_name,\n",
        "#     'reg_coeff': float(re.search('reg([\\d.]+)', task_name).group(1)),\n",
        "#     'input_dim': model.config.hidden_size,\n",
        "#     'latent_dim': int(re.search('dim(\\d+)', task_name).group(1)),\n",
        "#     'learning_rate': 1e-4,\n",
        "#     'weight_decay': 1e-4,\n",
        "#     'end_learning_rate_ratio': 0.5,\n",
        "#     'num_epochs': int(re.search('ep(\\d+)', task_name).group(1)),\n",
        "#     'model_dir': MODEL_DIR,\n",
        "#     'log_dir': os.path.join(MODEL_DIR, 'logs', task_name),\n",
        "# }\n",
        "\n",
        "# # Training metrics are logged to the Tensorboard at http://localhost:6006/.\n",
        "# autoencoder = train_sae(config, wiki_train_dataloader, wiki_val_dataloader)"
      ]
    },
    {
      "cell_type": "markdown",
      "metadata": {},
      "source": [
        "## Gemma 2 2B SAE Setup"
      ]
    },
    {
      "cell_type": "code",
      "execution_count": 13,
      "metadata": {},
      "outputs": [],
      "source": [
        "sae_repo_id = \"google/gemma-scope-2b-pt-res\"\n",
        "# sae_filename = \"layer_20/width_16k/average_l0_71/params.npz\"\n",
        "#sae_filename = \"layer_14/width_16k/average_l0_43/params.npz\"\n",
        "#sae_filename = \"layer_10/width_16k/average_l0_77/params.npz\"\n",
        "sae_filename = \"layer_18/width_16k/average_l0_74/params.npz\"\n",
        "\n",
        "layer_idx = 18\n",
        "\n",
        "autoencoder_run_name = (sae_repo_id + '-' + sae_filename.replace('/', '-')).replace('.npz', '')\n",
        "\n",
        "path_to_params = hf_hub_download(\n",
        "    repo_id=sae_repo_id,\n",
        "    filename=sae_filename,\n",
        "    force_download=False,\n",
        "    cache_dir= os.path.join(MODEL_DIR, model_name),\n",
        ")\n",
        "params = np.load(path_to_params)\n",
        "pt_params = {k: torch.from_numpy(v).to(device) for k, v in params.items()}\n",
        "\n",
        "\n",
        "\n",
        "class JumpReluAutoEncoder(torch.nn.Module):\n",
        "    \"\"\"Sparse Autoencoder with a two-layer encoder and a two-layer decoder.\"\"\"\n",
        "\n",
        "    def __init__(self, embed_dim, latent_dim, device):\n",
        "        super().__init__()\n",
        "        self.dtype = torch.float32\n",
        "        self.embed_dim = embed_dim\n",
        "        self.latent_dim = latent_dim\n",
        "        self.W_enc = nn.Parameter(torch.empty(embed_dim, latent_dim))\n",
        "        self.b_enc = nn.Parameter(torch.zeros(latent_dim))\n",
        "        self.W_dec = nn.Parameter(torch.empty(latent_dim, embed_dim))\n",
        "        self.b_dec = nn.Parameter(torch.zeros(embed_dim))\n",
        "        self.threshold = nn.Parameter(torch.zeros(latent_dim))\n",
        "        self.autoencoder_losses = {}\n",
        "\n",
        "    def encode(self, x, normalize_input=False):\n",
        "        if normalize_input:\n",
        "            raise ValueError(\"Not supported\")\n",
        "            x = x - self.decoder[0].bias\n",
        "        pre_jump = x @ self.W_enc + self.b_enc\n",
        "\n",
        "        f = nn.ReLU()(pre_jump * (pre_jump > self.threshold))\n",
        "        # Decoder weights are not normalized. Thus we have to compensate here to get comparabe feature activations.\n",
        "        f = f * self.W_dec.norm(dim=1)\n",
        "        return f\n",
        "\n",
        "    def decode(self, z):\n",
        "        # Decoder weights are not normalized. Thus we have to compensate here to get comparabe feature activations.\n",
        "        z = z / self.W_dec.norm(dim=1)\n",
        "        return z @ self.W_dec + self.b_dec\n",
        "\n",
        "    def forward(self, base):\n",
        "        base_type = base.dtype\n",
        "        base = base.to(self.dtype)\n",
        "        self.autoencoder_losses.clear()\n",
        "        z = self.encode(base)\n",
        "        base_reconstruct = self.decode(z)\n",
        "        # The sparsity objective.\n",
        "        l1_loss = torch.nn.functional.l1_loss(z, torch.zeros_like(z))\n",
        "        # The reconstruction objective.\n",
        "        l2_loss = torch.mean((base_reconstruct - base)**2)\n",
        "        self.autoencoder_losses['l1_loss'] = l1_loss\n",
        "        self.autoencoder_losses['l2_loss'] = l2_loss\n",
        "        return {'latent': z, 'output': base_reconstruct.to(base_type)}\n",
        "\n",
        "    def get_autoencoder_losses(self):\n",
        "        return self.autoencoder_losses\n",
        "\n",
        "    @classmethod\n",
        "    def from_pretrained(\n",
        "        cls,\n",
        "        path: str | None = None, \n",
        "        load_from_sae_lens: bool = False,\n",
        "        device: torch.device | None = None,\n",
        "        **kwargs,\n",
        "    ):\n",
        "        \"\"\"\n",
        "        Load a pretrained autoencoder from a file.\n",
        "        If sae_lens=True, then pass **kwargs to sae_lens's\n",
        "        loading function.\n",
        "        \"\"\"\n",
        "        state_dict = torch.load(path)\n",
        "        latent_dim, embed_dim = state_dict['W_enc'].shape\n",
        "        autoencoder = cls(embed_dim, latent_dim, device)\n",
        "        autoencoder.load_state_dict(state_dict)\n",
        "\n",
        "\n",
        "\n",
        "embed_dim = params['W_enc'].shape[0]\n",
        "latent_dim = params['W_enc'].shape[1]\n",
        "\n",
        "sae = JumpReluAutoEncoder(\n",
        "    embed_dim=embed_dim,\n",
        "    latent_dim=latent_dim,\n",
        "    device=device,\n",
        ")\n",
        "sae.load_state_dict(pt_params)\n",
        "sae.to(device)\n",
        "\n",
        "autoencoder = sae"
      ]
    },
    {
      "cell_type": "markdown",
      "metadata": {
        "id": "LBClAbyY0Tm0"
      },
      "source": [
        "## Feature Selection"
      ]
    },
    {
      "cell_type": "code",
      "execution_count": 14,
      "metadata": {
        "id": "mf6E0eudgO2F"
      },
      "outputs": [],
      "source": [
        "# autoencoder_run_name = 'tinyllama-layer14-dim8192-reg0.5-ep5-sae-city_wikipedia_200k.pt'\n",
        "# autoencoder = torch.load(os.path.join(MODEL_DIR, autoencoder_run_name)).to(device)"
      ]
    },
    {
      "cell_type": "code",
      "execution_count": 15,
      "metadata": {
        "colab": {
          "base_uri": "https://localhost:8080/"
        },
        "id": "1OeMovewbVdp",
        "outputId": "8e00026e-b2a6-4524-fa9e-94dce75065ed"
      },
      "outputs": [
        {
          "name": "stdout",
          "output_type": "stream",
          "text": [
            "city 18\n",
            "#unique labels=89 ['Albania', 'Angola', 'Argentina', 'Australia', 'Bangladesh', 'Belarus', 'Belize', 'Benin', 'Bolivia', 'Bosnia and Herzegovina', 'Botswana', 'Brazil', 'Bulgaria', 'Cameroon', 'Canada', 'Chile', 'China', 'Colombia', 'Croatia', 'Cuba', 'Cyprus', 'Denmark', 'Egypt', 'Estonia', 'Finland', 'France', 'Germany', 'Greenland', 'Guinea', 'Guyana', 'Honduras', 'Hungary', 'India', 'Indonesia', 'Iran', 'Iraq', 'Ireland', 'Italy', 'Japan', 'Kenya', 'Lesotho', 'Liberia', 'Libya', 'Lithuania', 'Madagascar', 'Malawi', 'Malaysia', 'Mali', 'Mexico', 'Mongolia', 'Morocco', 'Mozambique', 'Myanmar', 'Namibia', 'New Zealand', 'Nicaragua', 'Niger', 'Nigeria', 'Norway', 'Pakistan', 'Papua New Guinea', 'Peru', 'Poland', 'Portugal', 'Romania', 'Russia', 'Senegal', 'Sierra Leone', 'South Africa', 'South Korea', 'South Sudan', 'Spain', 'Sri Lanka', 'Sudan', 'Swaziland', 'Sweden', 'Switzerland', 'Syria', 'Taiwan', 'Tanzania', 'Thailand', 'Turkey', 'Uganda', 'Ukraine', 'Uzbekistan', 'Venezuela', 'Yemen', 'Zambia', 'Zimbabwe']\n"
          ]
        }
      ],
      "source": [
        "# Load the RAVEL dataset.\n",
        "import json\n",
        "\n",
        "from src.utils.dataset_utils import load_selected_entity_representation_with_label\n",
        "\n",
        "\n",
        "entity_type = 'city'\n",
        "layer = 18\n",
        "print(entity_type, layer)\n",
        "\n",
        "model_type = model_name\n",
        "splits = ['train', 'val_entity', 'val_context']\n",
        "feature_hdf5_path = os.path.join(DATA_DIR, f'ravel_{entity_type}_{model_type}_layer{layer}_representation.hdf5')\n",
        "entity_attr_to_label = json.load(open(os.path.join(DATA_DIR, 'base', f'ravel_{entity_type}_entity_attributes.json')))\n",
        "X, Y, sorted_unique_label = load_selected_entity_representation_with_label(feature_hdf5_path, entity_attr_to_label, splits, [\"Country\"])"
      ]
    },
    {
      "cell_type": "code",
      "execution_count": 16,
      "metadata": {
        "id": "sPF6FR8zvwvJ"
      },
      "outputs": [],
      "source": [
        "# Run feature selection.\n",
        "import numpy as np\n",
        "\n",
        "from src.methods.select_features import select_features_with_classifier\n",
        "\n",
        "intervention_dim_to_eval = [\n",
        "    ('reconstruction', None),\n",
        "    ('dim%d' % autoencoder.latent_dim, range(autoencoder.latent_dim))]\n",
        "\n",
        "attr = 'Country'\n",
        "coeff_to_kept_dims = select_features_with_classifier(\n",
        "    autoencoder.encode, torch.from_numpy(X[attr]['train']).to(device), Y[attr]['train'])\n",
        "for kept_dim in coeff_to_kept_dims.values():\n",
        "  intervention_dim_to_eval.append(('dim%d' % len(kept_dim), kept_dim))\n",
        "# Random baselines.\n",
        "for i in [64, 512]:\n",
        "    kept_dim = np.random.permutation(autoencoder.latent_dim)[:i]\n",
        "    intervention_dim_to_eval.append(('random_dim%d' % len(kept_dim), kept_dim))"
      ]
    },
    {
      "cell_type": "markdown",
      "metadata": {
        "id": "B0npE3xlExIz"
      },
      "source": [
        "## Evaluation"
      ]
    },
    {
      "cell_type": "code",
      "execution_count": 17,
      "metadata": {
        "colab": {
          "base_uri": "https://localhost:8080/"
        },
        "id": "CF6JzDbPzIu8",
        "outputId": "7abbaeb2-c41a-46db-b338-1b2aa43d00c1"
      },
      "outputs": [],
      "source": [
        "# # # Run eval\n",
        "# import re\n",
        "\n",
        "# from src.utils.intervention_utils import load_intervenable_with_autoencoder, eval_with_interventions, remove_all_forward_hooks\n",
        "# from src.utils.metric_utils import compute_metrics\n",
        "\n",
        "# eval_split_to_dataset = {k: v for k, v in split_to_dataset.items()\n",
        "#                          if k.endswith('-test') or k.endswith('-val')\n",
        "#                          }\n",
        "\n",
        "# target_task = 'Country'\n",
        "# max_new_tokens = 3\n",
        "# layer = int(re.search(r'layer(\\d+)', autoencoder_run_name).group(1))\n",
        "# print(f'Layer={layer}')\n",
        "\n",
        "# for inv_name, inv_dims in intervention_dim_to_eval:\n",
        "#   if inv_name == 'reconstruction':\n",
        "#     continue\n",
        "#   intervenable = load_intervenable_with_autoencoder(model, autoencoder, inv_dims, layer)\n",
        "#   intervenable.set_device(\"cuda\")\n",
        "#   intervenable.disable_model_gradients()\n",
        "#   split_to_eval_metrics = eval_with_interventions(\n",
        "#       intervenable, eval_split_to_dataset, SPLIT_TO_INV_LOCATIONS, tokenizer,\n",
        "#       max_new_tokens=max_new_tokens,\n",
        "#       compute_metrics_fn=compute_metrics,\n",
        "#       eval_batch_size=128,\n",
        "#       debug_print=False)\n",
        "#   json.dump(split_to_eval_metrics, open(os.path.join(MODEL_DIR, f'{autoencoder_run_name.split(\".pt\")[0]}_{inv_name}_{max_new_tokens}tok_{target_task}.json'), 'w'))\n",
        "#   remove_all_forward_hooks(intervenable)\n",
        "#   del intervenable"
      ]
    },
    {
      "cell_type": "code",
      "execution_count": 18,
      "metadata": {},
      "outputs": [
        {
          "name": "stdout",
          "output_type": "stream",
          "text": [
            "8\n"
          ]
        }
      ],
      "source": [
        "eval_split_to_dataset = {k: v for k, v in split_to_dataset.items()\n",
        "                         if k.endswith('-test') or k.endswith('-val')\n",
        "                         }\n",
        "print(len(eval_split_to_dataset))"
      ]
    },
    {
      "cell_type": "code",
      "execution_count": 19,
      "metadata": {},
      "outputs": [
        {
          "name": "stdout",
          "output_type": "stream",
          "text": [
            "prompt1 base_token decoded: Paris\n",
            "prompt1 source_token decoded: Tokyo\n",
            "prompt2 base_token decoded:  London\n",
            "prompt2 source_token decoded: Berlin\n",
            "counterfactual_out_tokens decoded: ['Paris is in the country of France', 'The main language spoken in the city of London is English']\n",
            "counterfactual_out_tokens decoded: ['Paris is in the country of France.', 'The main language spoken in the city of London is English.']\n",
            "counterfactual_out_tokens decoded: ['Paris is in the country of France. It', 'The main language spoken in the city of London is English. However']\n"
          ]
        }
      ],
      "source": [
        "from src.utils.updated_intervention_utils import nnsight_intervention, eval_with_interventions\n",
        "\n",
        "batch_size = 2\n",
        "intervention_dims = range(autoencoder.latent_dim)\n",
        "base_promts  = ['Paris is in the country of', 'The main language spoken in the city of London is']\n",
        "source_prompts = ['Tokyo is big.', 'Berlin is exciting.']\n",
        "n_generated_tokens = 3\n",
        "add_reconstruction_error = True\n",
        "\n",
        "base_tok = tokenizer(base_promts, return_tensors='pt', padding=\"max_length\", truncation=True, max_length=INPUT_MAX_LEN)\n",
        "source_tok = tokenizer(source_prompts, return_tensors='pt', padding=\"max_length\", truncation=True, max_length=INPUT_MAX_LEN)\n",
        "base_tok = model.prepare_inputs_for_generation(**base_tok)\n",
        "source_tok = model.prepare_inputs_for_generation(**source_tok)\n",
        "base_inv_pos = torch.ones(batch_size, device=device, dtype=torch.int) * -1\n",
        "source_inv_pos = torch.ones(batch_size, device=device, dtype=torch.int) * -1\n",
        "base_inv_pos = torch.tensor([[42], [46]], dtype=torch.int)\n",
        "\n",
        "# # Tinyllama\n",
        "# source_inv_pos = torch.tensor([[44], [43]], dtype=torch.int)\n",
        "\n",
        "# Gemma2-2b\n",
        "source_inv_pos = torch.tensor([[44], [44]], dtype=torch.int)\n",
        "\n",
        "# print(f'base_inv_pos: {base_inv_pos}')\n",
        "# print(f'source_inv_pos: {source_inv_pos}')\n",
        "\n",
        "# for tok_ids in source_tok['input_ids']:\n",
        "#     for j, tok in enumerate(tok_ids):\n",
        "#         print(f'{j}, tok: {tokenizer.decode(tok)}')\n",
        "\n",
        "\n",
        "# for i in torch.arange(1, len(base_tok['input_ids'][0]), device=device, dtype=torch.int) * -1:\n",
        "    # if i == 10:\n",
        "    #         break\n",
        "#     print(f'i: {i}')\n",
        "#     base_inv_pos = torch.tensor([[i]])\n",
        "print(f'prompt1 base_token decoded: {tokenizer.decode(base_tok[\"input_ids\"][0][base_inv_pos[0][0]])}')\n",
        "print(f'prompt1 source_token decoded: {tokenizer.decode(source_tok[\"input_ids\"][0][source_inv_pos[0][0]])}')\n",
        "print(f'prompt2 base_token decoded: {tokenizer.decode(base_tok[\"input_ids\"][1][base_inv_pos[1][0]])}')\n",
        "print(f'prompt2 source_token decoded: {tokenizer.decode(source_tok[\"input_ids\"][1][source_inv_pos[1][0]])}')\n",
        "\n",
        "inputs = {\n",
        "    'input_ids': base_tok['input_ids'].to(device),\n",
        "    'attention_mask': base_tok['attention_mask'].to(device),\n",
        "    'position_ids': base_tok['position_ids'].to(device),\n",
        "    'source_input_ids': source_tok['input_ids'].to(device),\n",
        "    'source_attention_mask': source_tok['attention_mask'].to(device),\n",
        "    'source_position_ids': source_tok['position_ids'].to(device),\n",
        "}\n",
        "\n",
        "\n",
        "counterfactual_out_tokens = nnsight_intervention(\n",
        "    nnsight_model,\n",
        "    nnsight_tracer_kwargs,\n",
        "    layer_idx,\n",
        "    autoencoder,\n",
        "    intervention_dims,\n",
        "    inputs,\n",
        "    None, #split_to_inv_locations is not used in the test\n",
        "    n_generated_tokens,\n",
        "    device,\n",
        "    tokenizer,\n",
        "    add_reconstruction_error,\n",
        "    inv_positions=(base_inv_pos, source_inv_pos),\n",
        "    verbose=True\n",
        "    )\n",
        "    "
      ]
    },
    {
      "cell_type": "code",
      "execution_count": 20,
      "metadata": {},
      "outputs": [],
      "source": [
        "def compute_metrics(tokenizer, eval_preds, eval_labels, pad_token_id, last_n_tokens=1, **kwargs):\n",
        "    \"\"\"Computes squence-level and token-level accuracy.\"\"\"\n",
        "    total_count, total_token_count = 0, 0\n",
        "    correct_count, correct_token_count = 0, 0\n",
        "    for eval_pred, eval_label in zip(eval_preds, eval_labels):\n",
        "        actual_test_labels = eval_label[:, -last_n_tokens:]\n",
        "        if len(eval_pred.shape) == 3:\n",
        "            # eval_preds is in the form of logits.\n",
        "            pred_test_labels = torch.argmax(eval_pred[:, -last_n_tokens:], dim=-1)\n",
        "        else:\n",
        "            # eval_preds is in the form of token ids.\n",
        "            pred_test_labels = eval_pred[:, -last_n_tokens:]\n",
        "        padding_tokens = torch.logical_or(\n",
        "            actual_test_labels == pad_token_id, actual_test_labels < 0\n",
        "        )\n",
        "        match_tokens = actual_test_labels == pred_test_labels\n",
        "        correct_labels = torch.logical_or(match_tokens, padding_tokens)\n",
        "        total_count += len(correct_labels)\n",
        "        correct_count += torch.all(correct_labels, axis=-1).float().sum().tolist()\n",
        "        total_token_count += (~padding_tokens).float().sum().tolist()\n",
        "        correct_token_count += (~padding_tokens & match_tokens).float().sum().tolist()\n",
        "    accuracy = round(correct_count / total_count, 2)\n",
        "    token_accuracy = round(correct_token_count / total_token_count, 2)\n",
        "    return {\"accuracy\": accuracy, \"token_accuracy\": token_accuracy}\n",
        "\n",
        "def compute_metrics_string_matching(tokenizer, eval_preds, eval_labels, last_n_tokens, **kwargs):\n",
        "    \"\"\"Computes squence-level and string-level accuracy.\"\"\"\n",
        "    total_count = 0\n",
        "    correct_count = 0\n",
        "\n",
        "    eval_preds = torch.cat(eval_preds, dim=0)\n",
        "    eval_labels = torch.cat(eval_labels, dim=0)[:, -last_n_tokens:]\n",
        "    eval_preds_str = tokenizer.batch_decode(eval_preds, skip_special_tokens=True)\n",
        "    eval_labels_str = tokenizer.batch_decode(eval_labels, skip_special_tokens=True)\n",
        "    eval_labels_str = [l[1:].strip() for l in eval_labels_str]\n",
        "\n",
        "    for p, l in zip(eval_preds_str, eval_labels_str):\n",
        "        # print(f'p: {p}, l: {l}')\n",
        "        total_count += 1\n",
        "        if l.lower() in p.lower():\n",
        "            correct_count += 1\n",
        "\n",
        "    accuracy = round(correct_count / total_count, 2)\n",
        "    return {\"accuracy\": accuracy}   "
      ]
    },
    {
      "cell_type": "code",
      "execution_count": 21,
      "metadata": {},
      "outputs": [
        {
          "data": {
            "text/plain": [
              "{'input': 'city: Mocuba, country:',\n",
              " 'label': '0 Mozambique',\n",
              " 'source_input': 'in the city. Duisburg also',\n",
              " 'source_label': ' has a large number of industrial companies',\n",
              " 'inv_label': '0 Germany',\n",
              " 'split': 'city: %s, country:',\n",
              " 'source_split': 'in the city. %s also',\n",
              " 'entity': 'Mocuba',\n",
              " 'source_entity': 'Duisburg'}"
            ]
          },
          "execution_count": 21,
          "metadata": {},
          "output_type": "execute_result"
        }
      ],
      "source": [
        "next(iter(eval_split_to_dataset['city: %s, country:-val']))"
      ]
    },
    {
      "cell_type": "code",
      "execution_count": 24,
      "metadata": {},
      "outputs": [],
      "source": [
        "import re\n",
        "# replace slashes with underscores\n",
        "autoencoder_run_name_clean = re.sub(r'/', '_', autoencoder_run_name)"
      ]
    },
    {
      "cell_type": "code",
      "execution_count": 25,
      "metadata": {},
      "outputs": [
        {
          "name": "stdout",
          "output_type": "stream",
          "text": [
            "Layer=18\n",
            "Intervention_dims=range(0, 16384)\n"
          ]
        },
        {
          "name": "stderr",
          "output_type": "stream",
          "text": [
            "  0%|          | 0/8 [00:00<?, ?it/s]"
          ]
        },
        {
          "data": {
            "application/vnd.jupyter.widget-view+json": {
              "model_id": "17c77aef6c38491dab6c2cb4377248ab",
              "version_major": 2,
              "version_minor": 0
            },
            "text/plain": [
              "Map:   0%|          | 0/362 [00:00<?, ? examples/s]"
            ]
          },
          "metadata": {},
          "output_type": "display_data"
        },
        {
          "data": {
            "application/vnd.jupyter.widget-view+json": {
              "model_id": "2ff7fa6f5b6d453d86d74a299199cbfd",
              "version_major": 2,
              "version_minor": 0
            },
            "text/plain": [
              "Map:   0%|          | 0/362 [00:00<?, ? examples/s]"
            ]
          },
          "metadata": {},
          "output_type": "display_data"
        },
        {
          "name": "stdout",
          "output_type": "stream",
          "text": [
            "64\n",
            "64\n",
            "64\n",
            "64\n",
            "64\n",
            "42\n"
          ]
        },
        {
          "name": "stderr",
          "output_type": "stream",
          "text": [
            " 12%|█▎        | 1/8 [01:05<07:38, 65.43s/it]"
          ]
        },
        {
          "name": "stdout",
          "output_type": "stream",
          "text": [
            "\n",
            " 'city: %s, country:-val': {'base_labels': {'accuracy': 0.91}, 'labels': {'accuracy': 0.08}}\n"
          ]
        },
        {
          "data": {
            "application/vnd.jupyter.widget-view+json": {
              "model_id": "d7488f12e5474cf4b747b6d0380d0eaf",
              "version_major": 2,
              "version_minor": 0
            },
            "text/plain": [
              "Map:   0%|          | 0/368 [00:00<?, ? examples/s]"
            ]
          },
          "metadata": {},
          "output_type": "display_data"
        },
        {
          "data": {
            "application/vnd.jupyter.widget-view+json": {
              "model_id": "19c8d7d764d24e1aa7e5f0057f227c10",
              "version_major": 2,
              "version_minor": 0
            },
            "text/plain": [
              "Map:   0%|          | 0/368 [00:00<?, ? examples/s]"
            ]
          },
          "metadata": {},
          "output_type": "display_data"
        },
        {
          "name": "stdout",
          "output_type": "stream",
          "text": [
            "64\n",
            "64\n",
            "64\n",
            "64\n",
            "64\n",
            "48\n"
          ]
        },
        {
          "name": "stderr",
          "output_type": "stream",
          "text": [
            " 25%|██▌       | 2/8 [02:16<06:53, 68.85s/it]"
          ]
        },
        {
          "name": "stdout",
          "output_type": "stream",
          "text": [
            "\n",
            " 'city to country: Sydney is in Australia. %s is in-test': {'base_labels': {'accuracy': 0.98}, 'labels': {'accuracy': 0.06}}\n"
          ]
        },
        {
          "data": {
            "application/vnd.jupyter.widget-view+json": {
              "model_id": "dc6ea6ff07664630bcacaa036d6033fb",
              "version_major": 2,
              "version_minor": 0
            },
            "text/plain": [
              "Map:   0%|          | 0/167 [00:00<?, ? examples/s]"
            ]
          },
          "metadata": {},
          "output_type": "display_data"
        },
        {
          "data": {
            "application/vnd.jupyter.widget-view+json": {
              "model_id": "b7e32bc423e241f5b3c16c941651e3fa",
              "version_major": 2,
              "version_minor": 0
            },
            "text/plain": [
              "Map:   0%|          | 0/167 [00:00<?, ? examples/s]"
            ]
          },
          "metadata": {},
          "output_type": "display_data"
        },
        {
          "name": "stdout",
          "output_type": "stream",
          "text": [
            "64\n",
            "64\n",
            "39\n"
          ]
        },
        {
          "name": "stderr",
          "output_type": "stream",
          "text": [
            " 38%|███▊      | 3/8 [02:52<04:28, 53.63s/it]"
          ]
        },
        {
          "name": "stdout",
          "output_type": "stream",
          "text": [
            "\n",
            " 'city to country: Tokyo is in Japan. %s is in-test': {'base_labels': {'accuracy': 0.98}, 'labels': {'accuracy': 0.04}}\n"
          ]
        },
        {
          "data": {
            "application/vnd.jupyter.widget-view+json": {
              "model_id": "e21863b5280548a79e329f7ea963e8da",
              "version_major": 2,
              "version_minor": 0
            },
            "text/plain": [
              "Map:   0%|          | 0/174 [00:00<?, ? examples/s]"
            ]
          },
          "metadata": {},
          "output_type": "display_data"
        },
        {
          "data": {
            "application/vnd.jupyter.widget-view+json": {
              "model_id": "f174c73e264846b8a4c20990e5cebe1b",
              "version_major": 2,
              "version_minor": 0
            },
            "text/plain": [
              "Map:   0%|          | 0/174 [00:00<?, ? examples/s]"
            ]
          },
          "metadata": {},
          "output_type": "display_data"
        },
        {
          "name": "stdout",
          "output_type": "stream",
          "text": [
            "64\n",
            "64\n",
            "46\n"
          ]
        },
        {
          "name": "stderr",
          "output_type": "stream",
          "text": [
            " 50%|█████     | 4/8 [03:34<03:16, 49.02s/it]"
          ]
        },
        {
          "name": "stdout",
          "output_type": "stream",
          "text": [
            "\n",
            " 'city to country: Tokyo is in Japan. %s is in-val': {'base_labels': {'accuracy': 0.99}, 'labels': {'accuracy': 0.01}}\n"
          ]
        },
        {
          "data": {
            "application/vnd.jupyter.widget-view+json": {
              "model_id": "864e6b334eff4341ab9e8911e2815241",
              "version_major": 2,
              "version_minor": 0
            },
            "text/plain": [
              "Map:   0%|          | 0/175 [00:00<?, ? examples/s]"
            ]
          },
          "metadata": {},
          "output_type": "display_data"
        },
        {
          "data": {
            "application/vnd.jupyter.widget-view+json": {
              "model_id": "3fa64736bb8a4092a0ec41b376bf9db4",
              "version_major": 2,
              "version_minor": 0
            },
            "text/plain": [
              "Map:   0%|          | 0/175 [00:00<?, ? examples/s]"
            ]
          },
          "metadata": {},
          "output_type": "display_data"
        },
        {
          "name": "stdout",
          "output_type": "stream",
          "text": [
            "64\n",
            "64\n",
            "47\n"
          ]
        },
        {
          "name": "stderr",
          "output_type": "stream",
          "text": [
            " 62%|██████▎   | 5/8 [04:18<02:22, 47.34s/it]"
          ]
        },
        {
          "name": "stdout",
          "output_type": "stream",
          "text": [
            "\n",
            " 'city to country: Toronto is in Canada. %s is in-test': {'base_labels': {'accuracy': 0.98}, 'labels': {'accuracy': 0.03}}\n"
          ]
        },
        {
          "data": {
            "application/vnd.jupyter.widget-view+json": {
              "model_id": "4600e05fe80d46e2af9d3488cb78a102",
              "version_major": 2,
              "version_minor": 0
            },
            "text/plain": [
              "Map:   0%|          | 0/168 [00:00<?, ? examples/s]"
            ]
          },
          "metadata": {},
          "output_type": "display_data"
        },
        {
          "data": {
            "application/vnd.jupyter.widget-view+json": {
              "model_id": "48670df83b164ec1bda707a542c1f381",
              "version_major": 2,
              "version_minor": 0
            },
            "text/plain": [
              "Map:   0%|          | 0/168 [00:00<?, ? examples/s]"
            ]
          },
          "metadata": {},
          "output_type": "display_data"
        },
        {
          "name": "stdout",
          "output_type": "stream",
          "text": [
            "64\n",
            "64\n",
            "40\n"
          ]
        },
        {
          "name": "stderr",
          "output_type": "stream",
          "text": [
            " 75%|███████▌  | 6/8 [05:04<01:34, 47.03s/it]"
          ]
        },
        {
          "name": "stdout",
          "output_type": "stream",
          "text": [
            "\n",
            " 'city to country: Toronto is in Canada. %s is in-val': {'base_labels': {'accuracy': 0.99}, 'labels': {'accuracy': 0.02}}\n"
          ]
        },
        {
          "data": {
            "application/vnd.jupyter.widget-view+json": {
              "model_id": "7ac0430c166047f6babad024a0d72458",
              "version_major": 2,
              "version_minor": 0
            },
            "text/plain": [
              "Map:   0%|          | 0/181 [00:00<?, ? examples/s]"
            ]
          },
          "metadata": {},
          "output_type": "display_data"
        },
        {
          "data": {
            "application/vnd.jupyter.widget-view+json": {
              "model_id": "1f064d17e3d14348bcf1e19884290fde",
              "version_major": 2,
              "version_minor": 0
            },
            "text/plain": [
              "Map:   0%|          | 0/181 [00:00<?, ? examples/s]"
            ]
          },
          "metadata": {},
          "output_type": "display_data"
        },
        {
          "name": "stdout",
          "output_type": "stream",
          "text": [
            "64\n",
            "64\n",
            "53\n"
          ]
        },
        {
          "name": "stderr",
          "output_type": "stream",
          "text": [
            " 88%|████████▊ | 7/8 [05:53<00:47, 47.69s/it]"
          ]
        },
        {
          "name": "stdout",
          "output_type": "stream",
          "text": [
            "\n",
            " 'city to country: St. Petersburg is in Russia. %s is in-test': {'base_labels': {'accuracy': 0.99}, 'labels': {'accuracy': 0.03}}\n"
          ]
        },
        {
          "data": {
            "application/vnd.jupyter.widget-view+json": {
              "model_id": "b8705d64c7e94157881e524c5313c340",
              "version_major": 2,
              "version_minor": 0
            },
            "text/plain": [
              "Map:   0%|          | 0/166 [00:00<?, ? examples/s]"
            ]
          },
          "metadata": {},
          "output_type": "display_data"
        },
        {
          "data": {
            "application/vnd.jupyter.widget-view+json": {
              "model_id": "4ef56af9a75b4b8c926cfba462877c75",
              "version_major": 2,
              "version_minor": 0
            },
            "text/plain": [
              "Map:   0%|          | 0/166 [00:00<?, ? examples/s]"
            ]
          },
          "metadata": {},
          "output_type": "display_data"
        },
        {
          "name": "stdout",
          "output_type": "stream",
          "text": [
            "64\n",
            "64\n",
            "38\n"
          ]
        },
        {
          "name": "stderr",
          "output_type": "stream",
          "text": [
            "100%|██████████| 8/8 [06:34<00:00, 49.30s/it]\n"
          ]
        },
        {
          "name": "stdout",
          "output_type": "stream",
          "text": [
            "\n",
            " 'city to country: St. Petersburg is in Russia. %s is in-val': {'base_labels': {'accuracy': 1.0}, 'labels': {'accuracy': 0.04}}\n",
            "Intervention_dims=[  108   221   232   253   387   448   479   598   753   785   882   900\n",
            "   921  1223  1269  1297  1439  1450  1466  1467  1474  1506  1570  1645\n",
            "  1713  1753  1780  1890  1921  2127  2230  2301  2336  2341  2419  2448\n",
            "  2504  2508  2515  2742  2762  2807  2855  2983  3006  3183  3204  3232\n",
            "  3314  3347  3376  3383  3409  3533  3554  3572  3629  3639  3656  3825\n",
            "  3831  3851  3902  3934  4107  4182  4183  4212  4247  4277  4308  4320\n",
            "  4367  4385  4502  4505  4523  4558  4618  4621  4651  4707  4769  4777\n",
            "  4825  4875  5008  5049  5062  5199  5313  5338  5343  5384  5486  5540\n",
            "  5803  5855  5898  5961  6145  6200  6227  6331  6395  6462  6600  6694\n",
            "  6722  6790  6876  6884  6902  7073  7124  7195  7268  7337  7373  7405\n",
            "  7430  7474  7477  7535  7598  7607  7618  7660  7840  7845  7863  7868\n",
            "  7918  8023  8073  8095  8121  8153  8159  8188  8214  8219  8229  8370\n",
            "  8418  8571  8938  8964  8967  9024  9099  9144  9316  9360  9392  9487\n",
            "  9506  9512  9633  9759  9835  9853 10052 10108 10136 10197 10228 10287\n",
            " 10379 10502 10545 10572 10583 10612 10628 10636 10637 10649 10678 10729\n",
            " 10806 10857 10918 10927 11053 11079 11129 11180 11268 11271 11334 11337\n",
            " 11338 11350 11389 11483 11674 11706 11823 11843 11918 12018 12192 12225\n",
            " 12306 12485 12490 12514 12569 12584 12644 12699 12778 12797 12823 13163\n",
            " 13234 13320 13349 13383 13490 13783 14048 14120 14133 14167 14195 14196\n",
            " 14309 14366 14528 14796 14829 14868 14945 15106 15134 15243 15383 15394\n",
            " 15460 15542 15766 15925 15998 16061 16095 16158 16176 16336]\n"
          ]
        },
        {
          "name": "stderr",
          "output_type": "stream",
          "text": [
            "  0%|          | 0/8 [00:00<?, ?it/s]"
          ]
        },
        {
          "data": {
            "application/vnd.jupyter.widget-view+json": {
              "model_id": "6aa95864dd1043588d8b508441370531",
              "version_major": 2,
              "version_minor": 0
            },
            "text/plain": [
              "Map:   0%|          | 0/362 [00:00<?, ? examples/s]"
            ]
          },
          "metadata": {},
          "output_type": "display_data"
        },
        {
          "data": {
            "application/vnd.jupyter.widget-view+json": {
              "model_id": "07d04f3450c24244bd237d03f918d172",
              "version_major": 2,
              "version_minor": 0
            },
            "text/plain": [
              "Map:   0%|          | 0/362 [00:00<?, ? examples/s]"
            ]
          },
          "metadata": {},
          "output_type": "display_data"
        },
        {
          "name": "stdout",
          "output_type": "stream",
          "text": [
            "64\n",
            "64\n",
            "64\n",
            "64\n",
            "64\n",
            "42\n"
          ]
        },
        {
          "name": "stderr",
          "output_type": "stream",
          "text": [
            " 12%|█▎        | 1/8 [01:31<10:43, 91.94s/it]"
          ]
        },
        {
          "name": "stdout",
          "output_type": "stream",
          "text": [
            "\n",
            " 'city: %s, country:-val': {'base_labels': {'accuracy': 0.98}, 'labels': {'accuracy': 0.01}}\n"
          ]
        },
        {
          "data": {
            "application/vnd.jupyter.widget-view+json": {
              "model_id": "85089509de7b46068d4c6167b4eecc6f",
              "version_major": 2,
              "version_minor": 0
            },
            "text/plain": [
              "Map:   0%|          | 0/368 [00:00<?, ? examples/s]"
            ]
          },
          "metadata": {},
          "output_type": "display_data"
        },
        {
          "data": {
            "application/vnd.jupyter.widget-view+json": {
              "model_id": "0d7ed70cbe1246258116abfa5f75764b",
              "version_major": 2,
              "version_minor": 0
            },
            "text/plain": [
              "Map:   0%|          | 0/368 [00:00<?, ? examples/s]"
            ]
          },
          "metadata": {},
          "output_type": "display_data"
        },
        {
          "name": "stdout",
          "output_type": "stream",
          "text": [
            "64\n",
            "64\n",
            "64\n",
            "64\n",
            "64\n",
            "48\n"
          ]
        },
        {
          "name": "stderr",
          "output_type": "stream",
          "text": [
            " 25%|██▌       | 2/8 [03:06<09:21, 93.52s/it]"
          ]
        },
        {
          "name": "stdout",
          "output_type": "stream",
          "text": [
            "\n",
            " 'city to country: Sydney is in Australia. %s is in-test': {'base_labels': {'accuracy': 0.98}, 'labels': {'accuracy': 0.05}}\n"
          ]
        },
        {
          "data": {
            "application/vnd.jupyter.widget-view+json": {
              "model_id": "353a9e01c1584ac29ed5f2a28375a2f1",
              "version_major": 2,
              "version_minor": 0
            },
            "text/plain": [
              "Map:   0%|          | 0/167 [00:00<?, ? examples/s]"
            ]
          },
          "metadata": {},
          "output_type": "display_data"
        },
        {
          "data": {
            "application/vnd.jupyter.widget-view+json": {
              "model_id": "9a888cd16bbf47528f4ef1724a336293",
              "version_major": 2,
              "version_minor": 0
            },
            "text/plain": [
              "Map:   0%|          | 0/167 [00:00<?, ? examples/s]"
            ]
          },
          "metadata": {},
          "output_type": "display_data"
        },
        {
          "name": "stdout",
          "output_type": "stream",
          "text": [
            "64\n",
            "64\n",
            "39\n"
          ]
        },
        {
          "name": "stderr",
          "output_type": "stream",
          "text": [
            " 38%|███▊      | 3/8 [04:01<06:20, 76.13s/it]"
          ]
        },
        {
          "name": "stdout",
          "output_type": "stream",
          "text": [
            "\n",
            " 'city to country: Tokyo is in Japan. %s is in-test': {'base_labels': {'accuracy': 0.99}, 'labels': {'accuracy': 0.03}}\n"
          ]
        },
        {
          "data": {
            "application/vnd.jupyter.widget-view+json": {
              "model_id": "93158390ff584f9fb121ce788c2f25b7",
              "version_major": 2,
              "version_minor": 0
            },
            "text/plain": [
              "Map:   0%|          | 0/174 [00:00<?, ? examples/s]"
            ]
          },
          "metadata": {},
          "output_type": "display_data"
        },
        {
          "data": {
            "application/vnd.jupyter.widget-view+json": {
              "model_id": "b32c5bbd9eef4437978a2271bf033e9a",
              "version_major": 2,
              "version_minor": 0
            },
            "text/plain": [
              "Map:   0%|          | 0/174 [00:00<?, ? examples/s]"
            ]
          },
          "metadata": {},
          "output_type": "display_data"
        },
        {
          "name": "stdout",
          "output_type": "stream",
          "text": [
            "64\n",
            "64\n",
            "46\n"
          ]
        },
        {
          "name": "stderr",
          "output_type": "stream",
          "text": [
            " 50%|█████     | 4/8 [04:57<04:32, 68.09s/it]"
          ]
        },
        {
          "name": "stdout",
          "output_type": "stream",
          "text": [
            "\n",
            " 'city to country: Tokyo is in Japan. %s is in-val': {'base_labels': {'accuracy': 0.99}, 'labels': {'accuracy': 0.01}}\n"
          ]
        },
        {
          "data": {
            "application/vnd.jupyter.widget-view+json": {
              "model_id": "78ee78ff2a3a4dbaa6fc63295a489202",
              "version_major": 2,
              "version_minor": 0
            },
            "text/plain": [
              "Map:   0%|          | 0/175 [00:00<?, ? examples/s]"
            ]
          },
          "metadata": {},
          "output_type": "display_data"
        },
        {
          "data": {
            "application/vnd.jupyter.widget-view+json": {
              "model_id": "36774550600049e28963d05d7e32a2fb",
              "version_major": 2,
              "version_minor": 0
            },
            "text/plain": [
              "Map:   0%|          | 0/175 [00:00<?, ? examples/s]"
            ]
          },
          "metadata": {},
          "output_type": "display_data"
        },
        {
          "name": "stdout",
          "output_type": "stream",
          "text": [
            "64\n",
            "64\n",
            "47\n"
          ]
        },
        {
          "name": "stderr",
          "output_type": "stream",
          "text": [
            " 62%|██████▎   | 5/8 [05:45<03:02, 60.88s/it]"
          ]
        },
        {
          "name": "stdout",
          "output_type": "stream",
          "text": [
            "\n",
            " 'city to country: Toronto is in Canada. %s is in-test': {'base_labels': {'accuracy': 0.99}, 'labels': {'accuracy': 0.02}}\n"
          ]
        },
        {
          "data": {
            "application/vnd.jupyter.widget-view+json": {
              "model_id": "0d449a09b9cb4f89b89ca9b2749b0cf9",
              "version_major": 2,
              "version_minor": 0
            },
            "text/plain": [
              "Map:   0%|          | 0/168 [00:00<?, ? examples/s]"
            ]
          },
          "metadata": {},
          "output_type": "display_data"
        },
        {
          "data": {
            "application/vnd.jupyter.widget-view+json": {
              "model_id": "9f372cb2bc164a0f910c03a778bc27f7",
              "version_major": 2,
              "version_minor": 0
            },
            "text/plain": [
              "Map:   0%|          | 0/168 [00:00<?, ? examples/s]"
            ]
          },
          "metadata": {},
          "output_type": "display_data"
        },
        {
          "name": "stdout",
          "output_type": "stream",
          "text": [
            "64\n",
            "64\n",
            "40\n"
          ]
        },
        {
          "name": "stderr",
          "output_type": "stream",
          "text": [
            " 75%|███████▌  | 6/8 [06:39<01:56, 58.38s/it]"
          ]
        },
        {
          "name": "stdout",
          "output_type": "stream",
          "text": [
            "\n",
            " 'city to country: Toronto is in Canada. %s is in-val': {'base_labels': {'accuracy': 1.0}, 'labels': {'accuracy': 0.02}}\n"
          ]
        },
        {
          "data": {
            "application/vnd.jupyter.widget-view+json": {
              "model_id": "862920744be946148474fd5976eb93b1",
              "version_major": 2,
              "version_minor": 0
            },
            "text/plain": [
              "Map:   0%|          | 0/181 [00:00<?, ? examples/s]"
            ]
          },
          "metadata": {},
          "output_type": "display_data"
        },
        {
          "data": {
            "application/vnd.jupyter.widget-view+json": {
              "model_id": "105aecd56396494091acd458778b7586",
              "version_major": 2,
              "version_minor": 0
            },
            "text/plain": [
              "Map:   0%|          | 0/181 [00:00<?, ? examples/s]"
            ]
          },
          "metadata": {},
          "output_type": "display_data"
        },
        {
          "name": "stdout",
          "output_type": "stream",
          "text": [
            "64\n",
            "64\n",
            "53\n"
          ]
        },
        {
          "name": "stderr",
          "output_type": "stream",
          "text": [
            " 88%|████████▊ | 7/8 [07:33<00:56, 56.87s/it]"
          ]
        },
        {
          "name": "stdout",
          "output_type": "stream",
          "text": [
            "\n",
            " 'city to country: St. Petersburg is in Russia. %s is in-test': {'base_labels': {'accuracy': 0.99}, 'labels': {'accuracy': 0.03}}\n"
          ]
        },
        {
          "data": {
            "application/vnd.jupyter.widget-view+json": {
              "model_id": "8c661ad9cff3451b98d00cc713c5936a",
              "version_major": 2,
              "version_minor": 0
            },
            "text/plain": [
              "Map:   0%|          | 0/166 [00:00<?, ? examples/s]"
            ]
          },
          "metadata": {},
          "output_type": "display_data"
        },
        {
          "data": {
            "application/vnd.jupyter.widget-view+json": {
              "model_id": "3b78da9e69ae41cb823226247a324ea1",
              "version_major": 2,
              "version_minor": 0
            },
            "text/plain": [
              "Map:   0%|          | 0/166 [00:00<?, ? examples/s]"
            ]
          },
          "metadata": {},
          "output_type": "display_data"
        },
        {
          "name": "stdout",
          "output_type": "stream",
          "text": [
            "64\n",
            "64\n"
          ]
        },
        {
          "name": "stderr",
          "output_type": "stream",
          "text": [
            " 88%|████████▊ | 7/8 [07:56<01:08, 68.03s/it]\n"
          ]
        },
        {
          "ename": "KeyboardInterrupt",
          "evalue": "",
          "output_type": "error",
          "traceback": [
            "\u001b[0;31m---------------------------------------------------------------------------\u001b[0m",
            "\u001b[0;31mKeyboardInterrupt\u001b[0m                         Traceback (most recent call last)",
            "Cell \u001b[0;32mIn[25], line 18\u001b[0m\n\u001b[1;32m     16\u001b[0m   \u001b[38;5;28;01mcontinue\u001b[39;00m\n\u001b[1;32m     17\u001b[0m \u001b[38;5;28mprint\u001b[39m(\u001b[38;5;124mf\u001b[39m\u001b[38;5;124m'\u001b[39m\u001b[38;5;124mIntervention_dims=\u001b[39m\u001b[38;5;132;01m{\u001b[39;00minv_dims\u001b[38;5;132;01m}\u001b[39;00m\u001b[38;5;124m'\u001b[39m)\n\u001b[0;32m---> 18\u001b[0m split_to_eval_metrics \u001b[38;5;241m=\u001b[39m \u001b[43meval_with_interventions\u001b[49m\u001b[43m(\u001b[49m\n\u001b[1;32m     19\u001b[0m \u001b[43m  \u001b[49m\u001b[43mhf_model\u001b[49m\u001b[38;5;241;43m=\u001b[39;49m\u001b[43mmodel\u001b[49m\u001b[43m,\u001b[49m\n\u001b[1;32m     20\u001b[0m \u001b[43m  \u001b[49m\u001b[43mnnsight_model\u001b[49m\u001b[38;5;241;43m=\u001b[39;49m\u001b[43mnnsight_model\u001b[49m\u001b[43m,\u001b[49m\n\u001b[1;32m     21\u001b[0m \u001b[43m  \u001b[49m\u001b[43mnnsight_tracer_kwargs\u001b[49m\u001b[38;5;241;43m=\u001b[39;49m\u001b[43mnnsight_tracer_kwargs\u001b[49m\u001b[43m,\u001b[49m\n\u001b[1;32m     22\u001b[0m \u001b[43m  \u001b[49m\u001b[43msplit_to_dataset\u001b[49m\u001b[38;5;241;43m=\u001b[39;49m\u001b[43meval_split_to_dataset\u001b[49m\u001b[43m,\u001b[49m\n\u001b[1;32m     23\u001b[0m \u001b[43m  \u001b[49m\u001b[43msplit_to_inv_locations\u001b[49m\u001b[38;5;241;43m=\u001b[39;49m\u001b[43mSPLIT_TO_INV_LOCATIONS\u001b[49m\u001b[43m,\u001b[49m\n\u001b[1;32m     24\u001b[0m \u001b[43m  \u001b[49m\u001b[43mtokenizer\u001b[49m\u001b[38;5;241;43m=\u001b[39;49m\u001b[43mtokenizer\u001b[49m\u001b[43m,\u001b[49m\n\u001b[1;32m     25\u001b[0m \u001b[43m  \u001b[49m\u001b[43mmax_new_tokens\u001b[49m\u001b[38;5;241;43m=\u001b[39;49m\u001b[43mmax_new_tokens\u001b[49m\u001b[43m,\u001b[49m\n\u001b[1;32m     26\u001b[0m \u001b[43m  \u001b[49m\u001b[43minv_dims\u001b[49m\u001b[38;5;241;43m=\u001b[39;49m\u001b[43minv_dims\u001b[49m\u001b[43m,\u001b[49m\n\u001b[1;32m     27\u001b[0m \u001b[43m  \u001b[49m\u001b[43mcompute_metrics_fn\u001b[49m\u001b[38;5;241;43m=\u001b[39;49m\u001b[43mcompute_metrics_string_matching\u001b[49m\u001b[43m,\u001b[49m\n\u001b[1;32m     28\u001b[0m \u001b[43m  \u001b[49m\u001b[43mautoencoder\u001b[49m\u001b[38;5;241;43m=\u001b[39;49m\u001b[43mautoencoder\u001b[49m\u001b[43m,\u001b[49m\n\u001b[1;32m     29\u001b[0m \u001b[43m  \u001b[49m\u001b[43mlayer_idx\u001b[49m\u001b[38;5;241;43m=\u001b[39;49m\u001b[43mlayer_idx\u001b[49m\u001b[43m,\u001b[49m\n\u001b[1;32m     30\u001b[0m \u001b[43m  \u001b[49m\u001b[43meval_batch_size\u001b[49m\u001b[38;5;241;43m=\u001b[39;49m\u001b[38;5;241;43m64\u001b[39;49m\u001b[43m,\u001b[49m\u001b[43m \u001b[49m\u001b[38;5;66;43;03m# batchsize=32 yields 21GB RAM usage with RTX A6000\u001b[39;49;00m\n\u001b[1;32m     31\u001b[0m \u001b[43m  \u001b[49m\u001b[43mdebug_print\u001b[49m\u001b[38;5;241;43m=\u001b[39;49m\u001b[38;5;28;43;01mFalse\u001b[39;49;00m\u001b[43m,\u001b[49m\n\u001b[1;32m     32\u001b[0m \u001b[43m  \u001b[49m\u001b[43muse_nnsight_replication\u001b[49m\u001b[38;5;241;43m=\u001b[39;49m\u001b[43muse_nnsight_replication\u001b[49m\u001b[43m,\u001b[49m\n\u001b[1;32m     33\u001b[0m \u001b[43m  \u001b[49m\u001b[43mdevice\u001b[49m\u001b[38;5;241;43m=\u001b[39;49m\u001b[43mdevice\u001b[49m\u001b[43m,\u001b[49m\n\u001b[1;32m     34\u001b[0m \u001b[43m\u001b[49m\u001b[43m)\u001b[49m\n\u001b[1;32m     35\u001b[0m json\u001b[38;5;241m.\u001b[39mdump(split_to_eval_metrics, \u001b[38;5;28mopen\u001b[39m(os\u001b[38;5;241m.\u001b[39mpath\u001b[38;5;241m.\u001b[39mjoin(MODEL_DIR, \u001b[38;5;124mf\u001b[39m\u001b[38;5;124m'\u001b[39m\u001b[38;5;132;01m{\u001b[39;00mautoencoder_run_name_clean\u001b[38;5;241m.\u001b[39msplit(\u001b[38;5;124m\"\u001b[39m\u001b[38;5;124m.pt\u001b[39m\u001b[38;5;124m\"\u001b[39m)[\u001b[38;5;241m0\u001b[39m]\u001b[38;5;132;01m}\u001b[39;00m\u001b[38;5;124m_\u001b[39m\u001b[38;5;132;01m{\u001b[39;00minv_name\u001b[38;5;132;01m}\u001b[39;00m\u001b[38;5;124m_\u001b[39m\u001b[38;5;132;01m{\u001b[39;00mmax_new_tokens\u001b[38;5;132;01m}\u001b[39;00m\u001b[38;5;124mtok_\u001b[39m\u001b[38;5;132;01m{\u001b[39;00mtarget_task\u001b[38;5;132;01m}\u001b[39;00m\u001b[38;5;124m.json\u001b[39m\u001b[38;5;124m'\u001b[39m), \u001b[38;5;124m'\u001b[39m\u001b[38;5;124mw\u001b[39m\u001b[38;5;124m'\u001b[39m))\n",
            "File \u001b[0;32m~/Projects/ravel/src/utils/updated_intervention_utils.py:197\u001b[0m, in \u001b[0;36meval_with_interventions\u001b[0;34m(hf_model, nnsight_model, nnsight_tracer_kwargs, split_to_dataset, split_to_inv_locations, tokenizer, inv_dims, compute_metrics_fn, autoencoder, layer_idx, max_new_tokens, eval_batch_size, debug_print, forward_only, use_nnsight_replication, device)\u001b[0m\n\u001b[1;32m    186\u001b[0m \u001b[38;5;28;01melse\u001b[39;00m:\n\u001b[1;32m    187\u001b[0m     base_outputs \u001b[38;5;241m=\u001b[39m hf_model\u001b[38;5;241m.\u001b[39mgenerate(\n\u001b[1;32m    188\u001b[0m         inputs[\u001b[38;5;124m\"\u001b[39m\u001b[38;5;124minput_ids\u001b[39m\u001b[38;5;124m\"\u001b[39m],\n\u001b[1;32m    189\u001b[0m         attention_mask\u001b[38;5;241m=\u001b[39minputs[\u001b[38;5;124m\"\u001b[39m\u001b[38;5;124mattention_mask\u001b[39m\u001b[38;5;124m\"\u001b[39m],\n\u001b[0;32m   (...)\u001b[0m\n\u001b[1;32m    194\u001b[0m         output_scores\u001b[38;5;241m=\u001b[39m\u001b[38;5;28;01mTrue\u001b[39;00m,\n\u001b[1;32m    195\u001b[0m     )\n\u001b[1;32m    196\u001b[0m     counterfactual_out_tokens \u001b[38;5;241m=\u001b[39m nnsight_intervention(\n\u001b[0;32m--> 197\u001b[0m         nnsight_model,\n\u001b[1;32m    198\u001b[0m         nnsight_tracer_kwargs,\n\u001b[1;32m    199\u001b[0m         layer_idx,\n\u001b[1;32m    200\u001b[0m         autoencoder,\n\u001b[1;32m    201\u001b[0m         inv_dims,\n\u001b[1;32m    202\u001b[0m         inputs,\n\u001b[1;32m    203\u001b[0m         split_to_inv_locations,\n\u001b[1;32m    204\u001b[0m         n_generated_tokens\u001b[38;5;241m=\u001b[39mmax_new_tokens,\n\u001b[1;32m    205\u001b[0m         device\u001b[38;5;241m=\u001b[39mdevice,\n\u001b[1;32m    206\u001b[0m         tokenizer\u001b[38;5;241m=\u001b[39mtokenizer,\n\u001b[1;32m    207\u001b[0m         add_reconstruction_error\u001b[38;5;241m=\u001b[39m\u001b[38;5;28;01mTrue\u001b[39;00m,\n\u001b[1;32m    208\u001b[0m     )\n\u001b[1;32m    209\u001b[0m     eval_preds\u001b[38;5;241m.\u001b[39mappend(counterfactual_out_tokens)\n\u001b[1;32m    211\u001b[0m \u001b[38;5;28;01mfor\u001b[39;00m label_type \u001b[38;5;129;01min\u001b[39;00m [\u001b[38;5;124m\"\u001b[39m\u001b[38;5;124mbase_labels\u001b[39m\u001b[38;5;124m\"\u001b[39m, \u001b[38;5;124m\"\u001b[39m\u001b[38;5;124mlabels\u001b[39m\u001b[38;5;124m\"\u001b[39m]:\n",
            "File \u001b[0;32m~/Projects/ravel/src/utils/updated_intervention_utils.py:64\u001b[0m, in \u001b[0;36mnnsight_intervention\u001b[0;34m(nnsight_model, nnsight_tracer_kwargs, layer, autoencoder, inv_dims, inputs, split_to_inv_locations, n_generated_tokens, device, tokenizer, add_reconstruction_error, inv_positions, verbose)\u001b[0m\n\u001b[1;32m     62\u001b[0m generated_pos_ids \u001b[38;5;241m=\u001b[39m torch\u001b[38;5;241m.\u001b[39mzeros_like(generated_inputs, device\u001b[38;5;241m=\u001b[39mdevice, dtype\u001b[38;5;241m=\u001b[39minputs[\u001b[38;5;124m'\u001b[39m\u001b[38;5;124minput_ids\u001b[39m\u001b[38;5;124m'\u001b[39m]\u001b[38;5;241m.\u001b[39mdtype)\n\u001b[1;32m     63\u001b[0m \u001b[38;5;28;01mfor\u001b[39;00m batch_idx \u001b[38;5;129;01min\u001b[39;00m \u001b[38;5;28mrange\u001b[39m(batch_size):\n\u001b[0;32m---> 64\u001b[0m     generated_pos_ids[batch_idx, \u001b[38;5;241m-\u001b[39mn_tokens[batch_idx]:] \u001b[38;5;241m=\u001b[39m \u001b[43mtorch\u001b[49m\u001b[38;5;241;43m.\u001b[39;49m\u001b[43marange\u001b[49m\u001b[43m(\u001b[49m\u001b[43mn_tokens\u001b[49m\u001b[43m[\u001b[49m\u001b[43mbatch_idx\u001b[49m\u001b[43m]\u001b[49m\u001b[43m,\u001b[49m\u001b[43m \u001b[49m\u001b[43mdevice\u001b[49m\u001b[38;5;241;43m=\u001b[39;49m\u001b[43mdevice\u001b[49m\u001b[43m,\u001b[49m\u001b[43m \u001b[49m\u001b[43mdtype\u001b[49m\u001b[38;5;241;43m=\u001b[39;49m\u001b[43minputs\u001b[49m\u001b[43m[\u001b[49m\u001b[38;5;124;43m'\u001b[39;49m\u001b[38;5;124;43minput_ids\u001b[39;49m\u001b[38;5;124;43m'\u001b[39;49m\u001b[43m]\u001b[49m\u001b[38;5;241;43m.\u001b[39;49m\u001b[43mdtype\u001b[49m\u001b[43m)\u001b[49m\n\u001b[1;32m     66\u001b[0m \u001b[38;5;28;01mfor\u001b[39;00m i \u001b[38;5;129;01min\u001b[39;00m \u001b[38;5;28mrange\u001b[39m(n_generated_tokens):\n\u001b[1;32m     67\u001b[0m     \u001b[38;5;28;01mwith\u001b[39;00m torch\u001b[38;5;241m.\u001b[39mno_grad(), nnsight_model\u001b[38;5;241m.\u001b[39mtrace(generated_inputs, attention_mask\u001b[38;5;241m=\u001b[39mgenerated_attn_mask, position_ids\u001b[38;5;241m=\u001b[39mgenerated_pos_ids, \u001b[38;5;241m*\u001b[39m\u001b[38;5;241m*\u001b[39mnnsight_tracer_kwargs):\n",
            "\u001b[0;31mKeyboardInterrupt\u001b[0m: "
          ]
        }
      ],
      "source": [
        "use_nnsight_replication = True\n",
        "\n",
        "# Run eval\n",
        "import re\n",
        "\n",
        "eval_split_to_dataset = {k: v for k, v in split_to_dataset.items()\n",
        "                         if k.endswith('-test') or k.endswith('-val')\n",
        "                         }\n",
        "\n",
        "target_task = 'Country'\n",
        "max_new_tokens = 3\n",
        "print(f'Layer={layer_idx}')\n",
        "\n",
        "for inv_name, inv_dims in intervention_dim_to_eval:\n",
        "  if inv_name == 'reconstruction':\n",
        "    continue\n",
        "  print(f'Intervention_dims={inv_dims}')\n",
        "  split_to_eval_metrics = eval_with_interventions(\n",
        "    hf_model=model,\n",
        "    nnsight_model=nnsight_model,\n",
        "    nnsight_tracer_kwargs=nnsight_tracer_kwargs,\n",
        "    split_to_dataset=eval_split_to_dataset,\n",
        "    split_to_inv_locations=SPLIT_TO_INV_LOCATIONS,\n",
        "    tokenizer=tokenizer,\n",
        "    max_new_tokens=max_new_tokens,\n",
        "    inv_dims=inv_dims,\n",
        "    compute_metrics_fn=compute_metrics_string_matching,\n",
        "    autoencoder=autoencoder,\n",
        "    layer_idx=layer_idx,\n",
        "    eval_batch_size=64, # batchsize=32 yields 21GB RAM usage with RTX A6000\n",
        "    debug_print=False,\n",
        "    use_nnsight_replication=use_nnsight_replication,\n",
        "    device=device,\n",
        "  )\n",
        "  json.dump(split_to_eval_metrics, open(os.path.join(MODEL_DIR, f'{autoencoder_run_name_clean.split(\".pt\")[0]}_{inv_name}_{max_new_tokens}tok_{target_task}.json'), 'w'))"
      ]
    },
    {
      "cell_type": "markdown",
      "metadata": {
        "id": "XuMUHhoBohzd"
      },
      "source": [
        "# Distributed Alignment Search (DAS/MDAS)"
      ]
    },
    {
      "cell_type": "markdown",
      "metadata": {
        "id": "onC3-T2h0ulg"
      },
      "source": [
        "## Training"
      ]
    },
    {
      "cell_type": "code",
      "execution_count": null,
      "metadata": {
        "colab": {
          "base_uri": "https://localhost:8080/"
        },
        "id": "5DGCvKEQxYsU",
        "outputId": "c9913675-0723-45ca-f0a8-2cbbd37368cb"
      },
      "outputs": [
        {
          "name": "stdout",
          "output_type": "stream",
          "text": [
            "tinyllama-layer14-dim64-baseline_daslora_3tok_Country_len48_pose_ep3_cause20000\n",
            "Training Tasks: {'Country': 'match_source'}\n",
            "Training tasks matching source label: ['Country']\n"
          ]
        },
        {
          "name": "stderr",
          "output_type": "stream",
          "text": [
            "Map: 100%|████████████████████████| 19055/19055 [01:01<00:00, 311.43 examples/s]\n",
            "Map: 100%|███████████████████████| 19055/19055 [00:02<00:00, 6469.51 examples/s]\n"
          ]
        },
        {
          "name": "stdout",
          "output_type": "stream",
          "text": [
            "Model trainable parameters:  0\n",
            "Intervention trainable parameters:  131072\n"
          ]
        },
        {
          "name": "stderr",
          "output_type": "stream",
          "text": [
            "Epoch: 0:   0%|              | 2/1190 [00:01<08:36,  2.30it/s, loss=5.51, acc=0]"
          ]
        },
        {
          "name": "stdout",
          "output_type": "stream",
          "text": [
            "\n",
            "Tokens to intervene:\n",
            "['city to country: St. Petersburg is in Russia. Erfurt is in', '[{\"city\": \"Lyon\", \"country\": \"', '[{\"city\": \"Odense\", \"country\": \"']\n",
            "['[{\"city\": \"Toronto\", \"lat\": \"43.7\"}, {\"city\": \"Turku\", \"lat\": \"', '[{\"city\": \"Toronto\", \"continent\": \"North America\"}, {\"city\": \"Catania\", \"continent\": \"', '[{\"city\": \"Cape Town\", \"timezone\": \"UTC+02:00\"}, {\"city\": \"Coimbra\", \"timezone\": \"UTC']\n",
            "Base: ['furt', 'on', 'se', 'zburg', 'ry', 'airo', 'heim', 'illy', 'ere', 'm', 'ore', 'rey', 'urn', 'ur', 'hai', 'a']\n",
            "Source: ['ku', 'ania', 'bra', 'al', 'ya', 'ong', 'az', 'asi', 'de', 'bon', 'ingen', 'erta', 'ologne', 'ers', 'Lyon', 'ara']\n",
            "Output: ['Germany. The', 'Francey\",', 'Denugal', 'Gugal', 'Guapan\",', 'Egyptailand.', 'Germany. The', 'Indajia', 'Finina\",', 'Germany. The', 'Beplands', 'My\",', 'Swermany', 'Ind\", <', 'Ch\", <', 'Ty\",']\n",
            "Label     : ['Finland</s></s>', 'Italy</s>', 'Portugal', 'Portugal', 'Japan</s>', 'Thailand</s>', 'Iran</s></s>', 'Romania', 'China</s>', 'Portugal</s></s>', 'Netherlands', 'Italy</s>', 'Germany', 'France</s></s>', 'France</s></s>', 'Italy</s>']\n",
            "Base Label: ['Germany</s></s>', 'France</s></s>', 'Denmark</s>', 'Germany', 'Guinea</s>', 'Egypt</s></s>', 'Germany</s></s>', 'India</s>', 'Finland</s>', 'Germany</s></s>', 'Bangl', 'Mexico', 'Switzerland</s>', 'India</s>', 'China</s>', 'Turkey']\n",
            "\n",
            "Tokens to intervene:\n",
            "['[{\"city\": \"Paris\", \"country\": \"France\"}, {\"city\": \"Troyes\", \"country\": \"', 'city to country: St. Petersburg is in Russia. Luoyang is in', '[{\"city\": \"St. Petersburg\", \"country\": \"Russia\"}, {\"city\": \"Lisbon\", \"country\": \"']\n",
            "['The economy of Denizli is dominated by a handful', '[{\"city\": \"Rome\", \"lat\": \"42\"}, {\"city\": \"Nagoya\", \"lat\": \"', 'Charles Marquet was a French naturalist who was born in Beziers in 1820 and died in Toulouse in 1900']\n",
            "Base: ['yes', 'ang', 'bon', 'an', 'en', 'airo', 'amo', 'ologne', 'ney', 'res', 'ong', 'gat', 'ang', 'ina', 'na', 'on']\n",
            "Source: ['li', 'ya', 'ers', 'achi', 'Split', 'de', 'urn', 'an', 'en', 'ur', 'ang', 'burg', 'Split', 'os', 'eli', 'und']\n",
            "Output: ['Francerokey', 'China. The', 'Port\"}, <', 'Al.istan', 'Germanyatia.', 'Eina\"', 'Italitzerland\"},', 'Germany. The', 'Austral\", <', 'Alia\",', 'Thiaia', 'Termany', 'Malambatia', 'Bermce', 'Bang. The', 'Francereeany']\n",
            "Label     : ['Turkey', 'Japan</s></s>', 'France</s></s>', 'Pakistan', 'Croatia</s>', 'China</s>', 'Switzerland</s>', 'Iran</s></s>', 'France</s></s>', 'India</s>', 'Indonesia', 'Germany', 'Croatia', 'Greece', 'Finland</s></s>', 'Germany']\n",
            "Base Label: ['France</s></s>', 'China</s></s>', 'Portugal', 'Albania', 'Germany</s></s>', 'Egypt</s>', 'Italy</s>', 'Germany</s></s>', 'Australia</s>', 'Albania', 'Thailand</s>', 'Turkey', 'Malaysia', 'Brazil', 'Bangladesh', 'France</s></s>']\n"
          ]
        },
        {
          "name": "stderr",
          "output_type": "stream",
          "text": [
            "Epoch: 0:   0%|              | 4/1190 [00:01<04:22,  4.52it/s, loss=5.71, acc=0]"
          ]
        },
        {
          "name": "stdout",
          "output_type": "stream",
          "text": [
            "\n",
            "Tokens to intervene:\n",
            "['[{\"city\": \"Paris\", \"country\": \"France\"}, {\"city\": \"Lausanne\", \"country\": \"', 'city to country: Rome is in Italy. Bryansk is in', 'city to country: St. Petersburg is in Russia. Bytom is in']\n",
            "['[{\"city\": \"Bangkok\", \"long\": \"100.5\"}, {\"city\": \"Dortmund\", \"long\": \"', 'The first season that Angers debuted in the French second division was in 1945', '[{\"city\": \"New York City\", \"continent\": \"North America\"}, {\"city\": \"Orebro\", \"continent\": \"']\n",
            "Base: ['anne', 'ansk', 'tom', 'h', 'ore', 'ag', 'un', 'ova', 'urn', 'au', 'de', 'as', 'yz', 'ansk', 'un', 'ne']\n",
            "Source: ['mund', 'ers', 'bro', 'os', 'imo', 'ota', 'ang', 'ille', 'urg', 'berg', 'ur', 'a', 'en', 'yes', 'imo', 'stone']\n",
            "Output: ['Sweneany', 'Russia. The', 'Poland. The', 'Malermce', 'Indada\",', 'Poland. The', 'Indaysia', 'R\" <', 'Swermany', 'Swermany', 'China. The', 'Burkey', 'Switzerland. The', 'Pol\", <', 'Indada\",', 'Mimbia']\n",
            "Label     : ['Germany', 'France</s></s>', 'Sweden</s></s>', 'Greece', 'Canada</s>', 'Chile</s></s>', 'Malaysia', 'France</s></s>', 'Germany', 'Germany', 'India</s></s>', 'Turkey', 'France</s></s>', 'France</s></s>', 'Canada</s>', 'Zambia']\n",
            "Base Label: ['Switzerland</s>', 'Russia</s></s>', 'Poland</s></s>', 'Malaysia', 'India</s>', 'Poland</s></s>', 'Indonesia', 'Romania', 'Switzerland</s>', 'Switzerland</s>', 'China</s></s>', 'Bulg', 'Switzerland</s></s>', 'Poland</s>', 'Indonesia', 'Mali</s>']\n"
          ]
        },
        {
          "name": "stderr",
          "output_type": "stream",
          "text": [
            "Epoch: 0: 100%|████████| 1190/1190 [02:19<00:00,  8.53it/s, loss=0.44, acc=0.87]\n",
            "Epoch: 1:   0%|              | 2/1190 [00:00<02:26,  8.13it/s, loss=0.03, acc=1]"
          ]
        },
        {
          "name": "stdout",
          "output_type": "stream",
          "text": [
            "\n",
            "Tokens to intervene:\n",
            "['\"lang\": \"English\"}, {\"city\": \"Karachi\", \"country\": \"', 'city to country: St. Petersburg is in Russia. Skopje is in', '[{\"city\": \"Vyborg\", \"country\": \"']\n",
            "['[{\"city\": \"Toronto\", \"lat\": \"43.7\"}, {\"city\": \"Maradi\", \"lat\": \"', 'It is often seen as a cultural challenge to the youth culture in the provincial capital of Surabaya', 'Babugarh Chavani is located almost 7 km away from Hapur towards Holy Pilgrimage Garhmukteshwar after crossing toll bridge near']\n",
            "Base: ['achi', 'je', 'borg', 'ag', 'asso', 'illy', 'iga', 'iga', 'ong', 'gia', 'ague', 'ong', 'is', 'en', 'ille', 'u']\n",
            "Source: ['adi', 'aya', 'ur', 'urg', 'oder', 'achi', 'tom', 'jo', 'iga', 'het', 'i', 'ang', 'ama', 'rey', 'ita', 'ville']\n",
            "Output: ['Nigeria', 'Indonesia.', 'India\",', 'Germany', 'Albania.', 'Pakistan. The', 'Poland. The', 'Sweden\"},', 'Indonesia', 'Bangl', 'Finland\"', 'Malaysia', 'Japan\"', 'Mexico', 'Japan. The', 'Gabon.']\n",
            "Label     : ['Niger</s>', 'Indonesia</s>', 'India</s>', 'Germany', 'Albania</s>', 'Pakistan</s></s>', 'Poland</s></s>', 'Sweden</s>', 'Indonesia', 'Bangl', 'Finland</s>', 'Malaysia', 'Japan</s>', 'Mexico', 'Japan</s></s>', 'Gabon</s>']\n",
            "Base Label: ['Pakistan', 'Macedonia', 'Russia</s>', 'Poland</s>', 'Mali</s>', 'India</s></s>', 'Latvia</s>', 'Latvia</s>', 'Thailand</s>', 'Italy</s>', 'Colombia', 'Thailand</s>', 'Tunis', 'France</s></s>', 'France</s></s>', 'Japan</s></s>']\n",
            "\n",
            "Tokens to intervene:\n",
            "['[{\"city\": \"Tumaco\", \"country\": \"', 'city to country: Rome is in Italy. Barisal is in', '[{\"city\": \"St. Petersburg\", \"country\": \"Russia\"}, {\"city\": \"Libreville\", \"country\": \"']\n",
            "['[{\"city\": \"Toronto\", \"continent\": \"North America\"}, {\"city\": \"Novara\", \"continent\": \"', 'The economy of Malmo is dominated by a handful', '[{\"city\": \"New York City\", \"lang\": \"English\"}, {\"city\": \"Medellin\", \"lang\": \"']\n",
            "Base: ['aco', 'al', 'ville', 'hen', 'Split', 'abad', 'in', 'erta', 'na', 'ovo', 'ague', 'u', 'lier', 'ik', 'sk', 'res']\n",
            "Source: ['ara', 'mo', 'in', 'anne', 'est', 'is', 'rita', 'al', 'al', 'tom', 'on', 'ara', 'oro', 'de', 'ik', 'ala']\n",
            "Output: ['Italy\",', 'Sweden. The', 'Colombia', 'Switzerland\"', 'Romania', 'Tunisia', 'Romania.', 'India\",', 'Portugal', 'Poland\",', 'France\"}, <', 'Italy. The', 'Japan. The', 'China\"', 'Bulg', 'Greece']\n",
            "Label     : ['Italy</s>', 'Sweden</s></s>', 'Colombia', 'Switzerland</s>', 'Romania', 'Tunisia', 'Romania</s>', 'India</s>', 'Portugal', 'Poland</s>', 'France</s></s>', 'Italy</s></s>', 'Japan</s></s>', 'China</s>', 'Bulg', 'Greece']\n",
            "Base Label: ['Colombia', 'Bangladesh', 'Gabon', 'China</s>', 'Croatia', 'India</s></s>', 'Germany</s></s>', 'Italy</s>', 'Italy</s>', 'Bulg', 'Colombia', 'Estonia</s>', 'France</s></s>', 'Bulg', 'Russia</s>', 'Albania']\n"
          ]
        },
        {
          "name": "stderr",
          "output_type": "stream",
          "text": [
            "Epoch: 1:   0%|              | 4/1190 [00:00<02:19,  8.50it/s, loss=0.03, acc=1]"
          ]
        },
        {
          "name": "stdout",
          "output_type": "stream",
          "text": [
            "\n",
            "Tokens to intervene:\n",
            "['city to country: Rome is in Italy. Kelang is in', 'city to country: Rome is in Italy. Sliven is in', 'city to country: Rome is in Italy. Sapporo is in']\n",
            "[' \"country\": \"United Kingdom\"}, {\"city\": \"Jena\", \"language\": \"', 'Its name would subsequently metamorphose into Grenoble', '[{\"city\": \"Wurzburg\", \"official language\": \"']\n",
            "Base: ['ang', 'iven', 'oro', 'un', 'ia', 'ang', 'stone', 'gia', 'a', 'a', 'is', 'achi', 'i', 'iga', 'iven', 'ore']\n",
            "Source: ['ena', 'ble', 'zburg', 'rive', 'antes', 'gia', 'und', 'on', 'os', 'berg', 'i', 'al', 'ne', 'ama', 'ansk', 'u']\n",
            "Output: ['Germany. The', 'France. The', 'Germany. The', 'France\", <', 'France\" <', 'Italy\"', 'Sweden. The', 'France. The', 'Brazil', 'Germany. The', 'Finland. The', 'Bangl', 'Ukraine', 'Japan\"},', 'Russia\"},', 'Japan\",']\n",
            "Label     : ['Germany</s></s>', 'France</s></s>', 'Germany</s></s>', 'France</s></s>', 'France</s></s>', 'Italy</s>', 'Sweden</s></s>', 'France</s></s>', 'Brazil', 'Germany</s></s>', 'Finland</s></s>', 'Bangl', 'Ukraine', 'Japan</s>', 'Russia</s>', 'Japan</s>']\n",
            "Base Label: ['Malaysia</s>', 'Bulgaria</s>', 'Japan</s></s>', 'Indonesia', 'Bulg', 'China</s>', 'Zambia', 'Italy</s></s>', 'Romania', 'Portugal</s></s>', 'Tunisia', 'Pakistan', 'Finland</s>', 'Latvia</s>', 'Bulg', 'Bangl']\n"
          ]
        },
        {
          "name": "stderr",
          "output_type": "stream",
          "text": [
            "Epoch: 1: 100%|███████████| 1190/1190 [02:18<00:00,  8.59it/s, loss=0.03, acc=1]\n",
            "Epoch: 2:   0%|              | 2/1190 [00:00<02:27,  8.06it/s, loss=0.02, acc=1]"
          ]
        },
        {
          "name": "stdout",
          "output_type": "stream",
          "text": [
            "\n",
            "Tokens to intervene:\n",
            "['city to country: Rome is in Italy. Kursk is in', '[{\"city\": \"St. Petersburg\", \"country\": \"Russia\"}, {\"city\": \"Bielefeld\", \"country\": \"', '[{\"city\": \"Paris\", \"country\": \"France\"}, {\"city\": \"Troyes\", \"country\": \"']\n",
            "['[{\"city\": \"Hapur\", \"official language\": \"', '[{\"city\": \"Sydney\", \"long\": \"151.2\"}, {\"city\": \"Turnovo\", \"long\": \"', '[{\"city\": \"Beijing\", \"lat\": \"40\"}, {\"city\": \"Riga\", \"lat\": \"']\n",
            "Base: ['sk', 'feld', 'yes', 'ori', 'ini', 'yan', 'i', 'het', 'ia', 'yz', 'je', 'lier', 'antes', 'ai', 'at', 'urn']\n",
            "Source: ['ur', 'ovo', 'iga', 'ore', 'sk', 'in', 'ya', 'achi', 'ori', 'usa', 'ava', 'al', 'an', 'a', 'mund', 'se']\n",
            "Output: ['India. The', 'Bulg', 'Latvia\"', 'India. The', 'Russia\",', 'Colombia', 'Japan. The', 'Pakistan. The', 'Japan. The', 'Italy\",', 'Slovak', 'Bangladesh', 'Albania', 'Turkey', 'Germany. The', 'Denmark\",']\n",
            "Label     : ['India</s></s>', 'Bulg', 'Latvia</s>', 'India</s></s>', 'Russia</s>', 'Colombia', 'Japan</s></s>', 'Pakistan</s></s>', 'Japan</s></s>', 'Italy</s>', 'Slovak', 'Bangladesh', 'Albania', 'Turkey', 'Germany</s></s>', 'Denmark</s>']\n",
            "Base Label: ['Russia</s></s>', 'Germany', 'France</s></s>', 'Japan</s></s>', 'Greece', 'China</s>', 'Finland</s></s>', 'Bangladesh', 'Bulgaria</s>', 'Switzerland</s>', 'Macedonia', 'France</s></s>', 'France</s></s>', 'Japan</s>', 'India</s></s>', 'Switzerland</s>']\n",
            "\n",
            "Tokens to intervene:\n",
            "['city to country: St. Petersburg is in Russia. Conakry is in', '[{\"city\": \"St. Petersburg\", \"country\": \"Russia\"}, {\"city\": \"Shkoder\", \"country\": \"', 'city to country: Rome is in Italy. Ipoh is in']\n",
            "['[{\"city\": \"Bangkok\", \"long\": \"100.5\"}, {\"city\": \"Panipat\", \"long\": \"', '[{\"city\": \"Rio de Janeiro\", \"timezone\": \"UTC-03:00\"}, {\"city\": \"Riga\", \"timezone\": \"UTC', ' the climate of Cologne in the year 2050 would']\n",
            "Base: ['ry', 'oder', 'h', 'oder', 'ota', 'a', 'house', 'het', 'os', 'ille', 'ansk', 'ry', 'usa', 'ik', 'Berlin', 'ur']\n",
            "Source: ['at', 'iga', 'ologne', 'Split', 'aru', 'ashi', 'oro', 'ita', 'ingen', 'und', 'ya', 'ori', 'sk', 'zo', 'ay', 'gia']\n",
            "Output: ['India. The', 'Latvia\"},', 'Germany. The', 'Croatia', 'Japan\"', 'Japan\",', 'Japan\",', 'Japan. The', 'Netherlands', 'Sweden. The', 'Japan\"', 'Japan\"},', 'Russia. The', 'Italy. The', 'Venezuela. The', 'Italy\"']\n",
            "Label     : ['India</s></s>', 'Latvia</s>', 'Germany</s></s>', 'Croatia', 'Japan</s>', 'Japan</s>', 'Japan</s>', 'Japan</s></s>', 'Netherlands', 'Sweden</s></s>', 'Japan</s>', 'Japan</s>', 'Russia</s></s>', 'Italy</s></s>', 'Venezuela</s></s>', 'Italy</s>']\n",
            "Base Label: ['Guinea</s></s>', 'Albania', 'Malaysia</s>', 'Albania', 'Chile</s>', 'Turkey', 'France</s></s>', 'Bangladesh', 'Brazil', 'France</s></s>', 'Russia</s>', 'Guinea</s>', 'Italy</s></s>', 'Bulgaria</s>', 'Germany</s></s>', 'India</s>']\n"
          ]
        },
        {
          "name": "stderr",
          "output_type": "stream",
          "text": [
            "Epoch: 2:   0%|              | 4/1190 [00:00<02:21,  8.36it/s, loss=0.02, acc=1]"
          ]
        },
        {
          "name": "stdout",
          "output_type": "stream",
          "text": [
            "\n",
            "Tokens to intervene:\n",
            "['[{\"city\": \"Luoyang\", \"country\": \"', 'city to country: St. Petersburg is in Russia. Konya is in', '[{\"city\": \"Paris\", \"country\": \"France\"}, {\"city\": \"Nantes\", \"country\": \"']\n",
            "['[{\"city\": \"Toronto\", \"lat\": \"43.7\"}, {\"city\": \"Turku\", \"lat\": \"', '[{\"city\": \"Rome\", \"lat\": \"41.9\"}, {\"city\": \"Toulon\", \"lat\": \"', 'Lakes of Appenzell Innerrhoden']\n",
            "Base: ['ang', 'a', 'antes', 'ansk', 'bro', 'eli', 'zburg', 'oder', 'aru', 'grade', 'je', 'sk', 'iu', 'os', 'at', 'eli']\n",
            "Source: ['ku', 'on', 'ell', 'burg', 'ia', 'ansk', 'pole', 'u', 'bon', 'h', 'furt', 'aco', 'i', 'al', 'itar', 'se']\n",
            "Output: ['Finland\",', 'France. The', 'Switzerland\"', 'Germany', 'Bulg', 'Russia\",', 'Poland\",', 'Japan\"', 'Portugal. The', 'Malaysia', 'Germany', 'Colombia. The', 'Finland\"', 'Portugal', 'Indonesia', 'Denmark\"},']\n",
            "Label     : ['Finland</s>', 'France</s></s>', 'Switzerland</s>', 'Germany', 'Bulg', 'Russia</s>', 'Poland</s>', 'Japan</s>', 'Portugal</s></s>', 'Malaysia', 'Germany', 'Colombia</s></s>', 'Finland</s>', 'Portugal', 'Indonesia', 'Denmark</s>']\n",
            "Base Label: ['China</s>', 'Turkey</s></s>', 'France</s></s>', 'Poland</s>', 'Sweden</s>', 'Finland</s>', 'Germany', 'Albania', 'Japan</s></s>', 'Serbia</s>', 'Macedonia', 'Belarus</s>', 'Romania', 'Greece', 'India</s>', 'Finland</s>']\n"
          ]
        },
        {
          "name": "stderr",
          "output_type": "stream",
          "text": [
            "Epoch: 2: 100%|███████████| 1190/1190 [02:18<00:00,  8.58it/s, loss=0.02, acc=1]\n",
            "Epoch: 100%|█████████████████████████████████████| 3/3 [06:56<00:00, 138.91s/it]\n"
          ]
        },
        {
          "name": "stdout",
          "output_type": "stream",
          "text": [
            "Model saved to /scr-ssd/hij/models/tinyllama-layer14-dim64-baseline_daslora_3tok_Country_len48_pose_ep3_cause20000.pt\n"
          ]
        },
        {
          "name": "stderr",
          "output_type": "stream",
          "text": [
            "Map: 100%|████████████████████████████| 546/546 [00:00<00:00, 761.72 examples/s]\n",
            "Map: 100%|███████████████████████████| 546/546 [00:00<00:00, 7380.08 examples/s]\n"
          ]
        },
        {
          "name": "stdout",
          "output_type": "stream",
          "text": [
            "\n",
            " 'city: %s, country:-val': {'base_labels': {'accuracy': 0.01, 'token_accuracy': 0.02}, 'labels': {'accuracy': 0.98, 'token_accuracy': 0.97}}\n"
          ]
        },
        {
          "name": "stderr",
          "output_type": "stream",
          "text": [
            "Map: 100%|████████████████████████████| 551/551 [00:00<00:00, 755.81 examples/s]\n",
            "Map: 100%|███████████████████████████| 551/551 [00:00<00:00, 7204.28 examples/s]\n"
          ]
        },
        {
          "name": "stdout",
          "output_type": "stream",
          "text": [
            "\n",
            " '[{\"city\": \"Hong Kong\", \"country\": \"China\"}, {\"city\": \"%s\", \"country\": \"-test': {'base_labels': {'accuracy': 0.0, 'token_accuracy': 0.01}, 'labels': {'accuracy': 0.99, 'token_accuracy': 0.99}}\n"
          ]
        },
        {
          "name": "stderr",
          "output_type": "stream",
          "text": [
            "Map: 100%|████████████████████████████| 550/550 [00:00<00:00, 761.51 examples/s]\n",
            "Map: 100%|███████████████████████████| 550/550 [00:00<00:00, 7329.18 examples/s]\n"
          ]
        },
        {
          "name": "stdout",
          "output_type": "stream",
          "text": [
            "\n",
            " '[{\"city\": \"Beijing\", \"country\": \"China\"}, {\"city\": \"%s\", \"country\": \"-val': {'base_labels': {'accuracy': 0.0, 'token_accuracy': 0.02}, 'labels': {'accuracy': 0.99, 'token_accuracy': 0.99}}\n"
          ]
        },
        {
          "name": "stderr",
          "output_type": "stream",
          "text": [
            "Map: 100%|████████████████████████████| 533/533 [00:00<00:00, 760.36 examples/s]\n",
            "Map: 100%|███████████████████████████| 533/533 [00:00<00:00, 7229.34 examples/s]\n"
          ]
        },
        {
          "name": "stdout",
          "output_type": "stream",
          "text": [
            "\n",
            " 'city to country: Sydney is in Australia. %s is in-test': {'base_labels': {'accuracy': 0.0, 'token_accuracy': 0.02}, 'labels': {'accuracy': 0.98, 'token_accuracy': 0.97}}\n"
          ]
        },
        {
          "name": "stderr",
          "output_type": "stream",
          "text": [
            "Map: 100%|████████████████████████████| 550/550 [00:00<00:00, 759.64 examples/s]\n",
            "Map: 100%|███████████████████████████| 550/550 [00:00<00:00, 7394.59 examples/s]\n"
          ]
        },
        {
          "name": "stdout",
          "output_type": "stream",
          "text": [
            "\n",
            " '[{\"city\": \"Sydney\", \"country\": \"Australia\"}, {\"city\": \"%s\", \"country\": \"-test': {'base_labels': {'accuracy': 0.01, 'token_accuracy': 0.03}, 'labels': {'accuracy': 0.99, 'token_accuracy': 0.99}}\n"
          ]
        },
        {
          "name": "stderr",
          "output_type": "stream",
          "text": [
            "Map: 100%|████████████████████████████| 536/536 [00:00<00:00, 759.11 examples/s]\n",
            "Map: 100%|███████████████████████████| 536/536 [00:00<00:00, 7163.06 examples/s]\n"
          ]
        },
        {
          "name": "stdout",
          "output_type": "stream",
          "text": [
            "\n",
            " '[{\"city\": \"Bangkok\", \"country\": \"Thailand\"}, {\"city\": \"%s\", \"country\": \"-test': {'base_labels': {'accuracy': 0.0, 'token_accuracy': 0.02}, 'labels': {'accuracy': 0.99, 'token_accuracy': 0.99}}\n"
          ]
        },
        {
          "name": "stderr",
          "output_type": "stream",
          "text": [
            "Map: 100%|████████████████████████████| 294/294 [00:00<00:00, 762.58 examples/s]\n",
            "Map: 100%|███████████████████████████| 294/294 [00:00<00:00, 7264.02 examples/s]\n"
          ]
        },
        {
          "name": "stdout",
          "output_type": "stream",
          "text": [
            "\n",
            " ' \"language\": \"English\"}, {\"city\": \"%s\", \"continent\": \"-test': {'base_labels': {'accuracy': 0.04, 'token_accuracy': 0.07}, 'labels': {'accuracy': 0.85, 'token_accuracy': 0.85}}\n"
          ]
        },
        {
          "name": "stderr",
          "output_type": "stream",
          "text": [
            "Map: 100%|████████████████████████████| 346/346 [00:00<00:00, 773.05 examples/s]\n",
            "Map: 100%|███████████████████████████| 346/346 [00:00<00:00, 6965.08 examples/s]\n"
          ]
        },
        {
          "name": "stdout",
          "output_type": "stream",
          "text": [
            "\n",
            " 'city: %s, continent:-test': {'base_labels': {'accuracy': 0.06, 'token_accuracy': 0.07}, 'labels': {'accuracy': 0.71, 'token_accuracy': 0.61}}\n"
          ]
        },
        {
          "name": "stderr",
          "output_type": "stream",
          "text": [
            "Map: 100%|████████████████████████████| 343/343 [00:00<00:00, 761.90 examples/s]\n",
            "Map: 100%|███████████████████████████| 343/343 [00:00<00:00, 6937.05 examples/s]\n"
          ]
        },
        {
          "name": "stdout",
          "output_type": "stream",
          "text": [
            "\n",
            " '[{\"city\": \"Los Angeles\", \"continent\": \"North America\"}, {\"city\": \"%s\", \"continent\": \"-test': {'base_labels': {'accuracy': 0.13, 'token_accuracy': 0.12}, 'labels': {'accuracy': 0.77, 'token_accuracy': 0.71}}\n"
          ]
        },
        {
          "name": "stderr",
          "output_type": "stream",
          "text": [
            "Map: 100%|████████████████████████████| 303/303 [00:00<00:00, 759.38 examples/s]\n",
            "Map: 100%|████████████████████████████| 303/303 [00:00<00:00, 957.24 examples/s]\n"
          ]
        },
        {
          "name": "stdout",
          "output_type": "stream",
          "text": [
            "\n",
            " '[{\"city\": \"Mexico City\", \"continent\": \"North America\"}, {\"city\": \"%s\", \"continent\": \"-val': {'base_labels': {'accuracy': 0.1, 'token_accuracy': 0.1}, 'labels': {'accuracy': 0.79, 'token_accuracy': 0.71}}\n"
          ]
        },
        {
          "name": "stderr",
          "output_type": "stream",
          "text": [
            "Map: 100%|████████████████████████████| 325/325 [00:00<00:00, 766.10 examples/s]\n",
            "Map: 100%|███████████████████████████| 325/325 [00:00<00:00, 6252.78 examples/s]\n"
          ]
        },
        {
          "name": "stdout",
          "output_type": "stream",
          "text": [
            "\n",
            " '%s is a city located in the continent of-val': {'base_labels': {'accuracy': 0.19, 'token_accuracy': 0.19}, 'labels': {'accuracy': 0.6, 'token_accuracy': 0.47}}\n"
          ]
        },
        {
          "name": "stderr",
          "output_type": "stream",
          "text": [
            "Map: 100%|████████████████████████████| 603/603 [00:00<00:00, 762.57 examples/s]\n",
            "Map: 100%|███████████████████████████| 603/603 [00:00<00:00, 7281.90 examples/s]\n"
          ]
        },
        {
          "name": "stdout",
          "output_type": "stream",
          "text": [
            "\n",
            " '[{\"city\": \"St. Petersburg\", \"lat\": \"59.9\"}, {\"city\": \"%s\", \"lat\": \"-test': {'base_labels': {'accuracy': 0.03, 'token_accuracy': 0.16}, 'labels': {'accuracy': 0.39, 'token_accuracy': 0.6}}\n"
          ]
        },
        {
          "name": "stderr",
          "output_type": "stream",
          "text": [
            "Map: 100%|████████████████████████████| 599/599 [00:00<00:00, 763.95 examples/s]\n",
            "Map: 100%|███████████████████████████| 599/599 [00:00<00:00, 7763.13 examples/s]\n"
          ]
        },
        {
          "name": "stdout",
          "output_type": "stream",
          "text": [
            "\n",
            " '[{\"city\": \"Paris\", \"lat\": \"49\"}, {\"city\": \"%s\", \"lat\": \"-test': {'base_labels': {'accuracy': 0.05, 'token_accuracy': 0.21}, 'labels': {'accuracy': 0.3, 'token_accuracy': 0.55}}\n"
          ]
        },
        {
          "name": "stderr",
          "output_type": "stream",
          "text": [
            "Map: 100%|████████████████████████████| 598/598 [00:00<00:00, 763.59 examples/s]\n",
            "Map: 100%|███████████████████████████| 598/598 [00:00<00:00, 7156.02 examples/s]\n"
          ]
        },
        {
          "name": "stdout",
          "output_type": "stream",
          "text": [
            "\n",
            " '[{\"city\": \"Paris\", \"lat\": \"48.9\"}, {\"city\": \"%s\", \"lat\": \"-test': {'base_labels': {'accuracy': 0.04, 'token_accuracy': 0.18}, 'labels': {'accuracy': 0.34, 'token_accuracy': 0.56}}\n"
          ]
        },
        {
          "name": "stderr",
          "output_type": "stream",
          "text": [
            "Map: 100%|████████████████████████████| 603/603 [00:00<00:00, 762.88 examples/s]\n",
            "Map: 100%|███████████████████████████| 603/603 [00:00<00:00, 7140.28 examples/s]\n"
          ]
        },
        {
          "name": "stdout",
          "output_type": "stream",
          "text": [
            "\n",
            " '[{\"city\": \"Beijing\", \"lat\": \"39.9\"}, {\"city\": \"%s\", \"lat\": \"-val': {'base_labels': {'accuracy': 0.05, 'token_accuracy': 0.18}, 'labels': {'accuracy': 0.41, 'token_accuracy': 0.62}}\n"
          ]
        },
        {
          "name": "stderr",
          "output_type": "stream",
          "text": [
            "Map: 100%|████████████████████████████| 582/582 [00:00<00:00, 779.25 examples/s]\n",
            "Map: 100%|███████████████████████████| 582/582 [00:00<00:00, 7219.58 examples/s]\n"
          ]
        },
        {
          "name": "stdout",
          "output_type": "stream",
          "text": [
            "\n",
            " 'city: %s, latitude: (-test': {'base_labels': {'accuracy': 0.04, 'token_accuracy': 0.19}, 'labels': {'accuracy': 0.36, 'token_accuracy': 0.58}}\n"
          ]
        },
        {
          "name": "stderr",
          "output_type": "stream",
          "text": [
            "Map: 100%|████████████████████████████| 596/596 [00:00<00:00, 767.07 examples/s]\n",
            "Map: 100%|███████████████████████████| 596/596 [00:00<00:00, 7338.32 examples/s]\n"
          ]
        },
        {
          "name": "stdout",
          "output_type": "stream",
          "text": [
            "\n",
            " '[{\"city\": \"Tokyo\", \"lat\": \"36\"}, {\"city\": \"%s\", \"lat\": \"-test': {'base_labels': {'accuracy': 0.05, 'token_accuracy': 0.18}, 'labels': {'accuracy': 0.32, 'token_accuracy': 0.53}}\n"
          ]
        },
        {
          "name": "stderr",
          "output_type": "stream",
          "text": [
            "Map: 100%|████████████████████████████| 595/595 [00:00<00:00, 762.24 examples/s]\n",
            "Map: 100%|███████████████████████████| 595/595 [00:00<00:00, 7149.33 examples/s]\n"
          ]
        },
        {
          "name": "stdout",
          "output_type": "stream",
          "text": [
            "\n",
            " 'SF has a longitude of 122.4194° W. %s has a longitude of -val': {'base_labels': {'accuracy': 0.18, 'token_accuracy': 0.38}, 'labels': {'accuracy': 0.34, 'token_accuracy': 0.57}}\n"
          ]
        },
        {
          "name": "stderr",
          "output_type": "stream",
          "text": [
            "Map: 100%|████████████████████████████| 593/593 [00:00<00:00, 775.42 examples/s]\n",
            "Map: 100%|███████████████████████████| 593/593 [00:00<00:00, 7423.19 examples/s]\n"
          ]
        },
        {
          "name": "stdout",
          "output_type": "stream",
          "text": [
            "\n",
            " 'city: %s, longitude: -test': {'base_labels': {'accuracy': 0.06, 'token_accuracy': 0.2}, 'labels': {'accuracy': 0.28, 'token_accuracy': 0.53}}\n"
          ]
        },
        {
          "name": "stderr",
          "output_type": "stream",
          "text": [
            "Map: 100%|████████████████████████████| 589/589 [00:00<00:00, 765.62 examples/s]\n",
            "Map: 100%|███████████████████████████| 589/589 [00:00<00:00, 7295.26 examples/s]\n"
          ]
        },
        {
          "name": "stdout",
          "output_type": "stream",
          "text": [
            "\n",
            " ' \"lat\": \"37.7749° N\"}, {\"city\": \"%s\", \"long\": \"-test': {'base_labels': {'accuracy': 0.06, 'token_accuracy': 0.21}, 'labels': {'accuracy': 0.35, 'token_accuracy': 0.58}}\n"
          ]
        },
        {
          "name": "stderr",
          "output_type": "stream",
          "text": [
            "Map: 100%|████████████████████████████| 601/601 [00:00<00:00, 763.45 examples/s]\n",
            "Map: 100%|███████████████████████████| 601/601 [00:00<00:00, 7424.12 examples/s]\n"
          ]
        },
        {
          "name": "stdout",
          "output_type": "stream",
          "text": [
            "\n",
            " '[{\"city\": \"Kuala Lumpur\", \"long\": \"101.7\"}, {\"city\": \"%s\", \"long\": \"-test': {'base_labels': {'accuracy': 0.07, 'token_accuracy': 0.23}, 'labels': {'accuracy': 0.3, 'token_accuracy': 0.51}}\n"
          ]
        },
        {
          "name": "stderr",
          "output_type": "stream",
          "text": [
            "Map: 100%|████████████████████████████| 609/609 [00:00<00:00, 763.38 examples/s]\n",
            "Map: 100%|███████████████████████████| 609/609 [00:00<00:00, 7266.37 examples/s]\n"
          ]
        },
        {
          "name": "stdout",
          "output_type": "stream",
          "text": [
            "\n",
            " '[{\"city\": \"San Francisco\", \"long\": \"122.4\"}, {\"city\": \"%s\", \"long\": \"-test': {'base_labels': {'accuracy': 0.04, 'token_accuracy': 0.19}, 'labels': {'accuracy': 0.26, 'token_accuracy': 0.49}}\n"
          ]
        },
        {
          "name": "stderr",
          "output_type": "stream",
          "text": [
            "Map: 100%|████████████████████████████| 520/520 [00:00<00:00, 779.72 examples/s]\n",
            "Map: 100%|███████████████████████████| 520/520 [00:00<00:00, 7582.76 examples/s]\n"
          ]
        },
        {
          "name": "stdout",
          "output_type": "stream",
          "text": [
            "\n",
            " 'The longitude of %s is -val': {'base_labels': {'accuracy': 0.08, 'token_accuracy': 0.3}, 'labels': {'accuracy': 0.31, 'token_accuracy': 0.55}}\n"
          ]
        },
        {
          "name": "stderr",
          "output_type": "stream",
          "text": [
            "Map: 100%|████████████████████████████| 590/590 [00:00<00:00, 766.71 examples/s]\n",
            "Map: 100%|███████████████████████████| 590/590 [00:00<00:00, 1870.17 examples/s]\n"
          ]
        },
        {
          "name": "stdout",
          "output_type": "stream",
          "text": [
            "\n",
            " \"The city of %s's official language is-val\": {'base_labels': {'accuracy': 0.06, 'token_accuracy': 0.06}, 'labels': {'accuracy': 0.88, 'token_accuracy': 0.85}}\n"
          ]
        },
        {
          "name": "stderr",
          "output_type": "stream",
          "text": [
            "Map: 100%|████████████████████████████| 584/584 [00:00<00:00, 758.03 examples/s]\n",
            "Map: 100%|███████████████████████████| 584/584 [00:00<00:00, 7612.33 examples/s]\n"
          ]
        },
        {
          "name": "stdout",
          "output_type": "stream",
          "text": [
            "\n",
            " ' \"continent\": \"Asia\"}, {\"city\": \"%s\", \"language\": \"-test': {'base_labels': {'accuracy': 0.0, 'token_accuracy': 0.02}, 'labels': {'accuracy': 0.73, 'token_accuracy': 0.77}}\n"
          ]
        },
        {
          "name": "stderr",
          "output_type": "stream",
          "text": [
            "Map: 100%|████████████████████████████| 593/593 [00:00<00:00, 754.98 examples/s]\n",
            "Map: 100%|███████████████████████████| 593/593 [00:00<00:00, 7241.88 examples/s]\n"
          ]
        },
        {
          "name": "stdout",
          "output_type": "stream",
          "text": [
            "\n",
            " '[{\"city\": \"Bangkok\", \"lang\": \"Thai\"}, {\"city\": \"%s\", \"lang\": \"-test': {'base_labels': {'accuracy': 0.02, 'token_accuracy': 0.03}, 'labels': {'accuracy': 0.84, 'token_accuracy': 0.85}}\n"
          ]
        },
        {
          "name": "stderr",
          "output_type": "stream",
          "text": [
            "Map: 100%|████████████████████████████| 584/584 [00:00<00:00, 757.11 examples/s]\n",
            "Map: 100%|███████████████████████████| 584/584 [00:00<00:00, 7301.36 examples/s]\n"
          ]
        },
        {
          "name": "stdout",
          "output_type": "stream",
          "text": [
            "\n",
            " 'People in Hong Kong speak Chinese, English. People in %s speak-test': {'base_labels': {'accuracy': 0.03, 'token_accuracy': 0.04}, 'labels': {'accuracy': 0.87, 'token_accuracy': 0.81}}\n"
          ]
        },
        {
          "name": "stderr",
          "output_type": "stream",
          "text": [
            "Map: 100%|████████████████████████████| 393/393 [00:00<00:00, 756.43 examples/s]\n",
            "Map: 100%|███████████████████████████| 393/393 [00:00<00:00, 7422.71 examples/s]\n"
          ]
        },
        {
          "name": "stdout",
          "output_type": "stream",
          "text": [
            "\n",
            " \"The city of %s's government offer services in the following languages:-test\": {'base_labels': {'accuracy': 0.11, 'token_accuracy': 0.1}, 'labels': {'accuracy': 0.51, 'token_accuracy': 0.47}}\n"
          ]
        },
        {
          "name": "stderr",
          "output_type": "stream",
          "text": [
            "Map: 100%|████████████████████████████| 594/594 [00:00<00:00, 761.88 examples/s]\n",
            "Map: 100%|███████████████████████████| 594/594 [00:00<00:00, 7436.18 examples/s]\n"
          ]
        },
        {
          "name": "stdout",
          "output_type": "stream",
          "text": [
            "\n",
            " 'People in Beijing speak Chinese. People in %s speak-test': {'base_labels': {'accuracy': 0.02, 'token_accuracy': 0.03}, 'labels': {'accuracy': 0.83, 'token_accuracy': 0.76}}\n"
          ]
        },
        {
          "name": "stderr",
          "output_type": "stream",
          "text": [
            "Map: 100%|████████████████████████████| 580/580 [00:00<00:00, 760.76 examples/s]\n",
            "Map: 100%|███████████████████████████| 580/580 [00:00<00:00, 6873.89 examples/s]\n"
          ]
        },
        {
          "name": "stdout",
          "output_type": "stream",
          "text": [
            "\n",
            " 'People in St. Petersburg speak Russian. People in %s speak-val': {'base_labels': {'accuracy': 0.02, 'token_accuracy': 0.03}, 'labels': {'accuracy': 0.86, 'token_accuracy': 0.81}}\n"
          ]
        },
        {
          "name": "stderr",
          "output_type": "stream",
          "text": [
            "Map: 100%|██████████████████████████████| 13/13 [00:00<00:00, 570.05 examples/s]\n",
            "Map: 100%|█████████████████████████████| 13/13 [00:00<00:00, 1162.65 examples/s]\n"
          ]
        },
        {
          "name": "stdout",
          "output_type": "stream",
          "text": [
            "\n",
            " 'The IANA time zone identifier for %s is-test': {'base_labels': {'accuracy': 0.23, 'token_accuracy': 0.21}, 'labels': {'accuracy': 0.15, 'token_accuracy': 0.23}}\n"
          ]
        },
        {
          "name": "stderr",
          "output_type": "stream",
          "text": [
            "Map: 100%|████████████████████████████| 544/544 [00:00<00:00, 751.58 examples/s]\n",
            "Map: 100%|███████████████████████████| 544/544 [00:00<00:00, 6938.81 examples/s]\n"
          ]
        },
        {
          "name": "stdout",
          "output_type": "stream",
          "text": [
            "\n",
            " '[{\"city\": \"Paris\", \"timezone\": \"UTC+01:00\"}, {\"city\": \"%s\", \"timezone\": \"UTC-test': {'base_labels': {'accuracy': 0.08, 'token_accuracy': 0.63}, 'labels': {'accuracy': 0.69, 'token_accuracy': 0.88}}\n"
          ]
        },
        {
          "name": "stderr",
          "output_type": "stream",
          "text": [
            "Map: 100%|████████████████████████████| 562/562 [00:00<00:00, 744.60 examples/s]\n",
            "Map: 100%|███████████████████████████| 562/562 [00:00<00:00, 7366.25 examples/s]\n"
          ]
        },
        {
          "name": "stdout",
          "output_type": "stream",
          "text": [
            "\n",
            " '[{\"city\": \"Rome\", \"timezone\": \"UTC+02:00\"}, {\"city\": \"%s\", \"timezone\": \"UTC-val': {'base_labels': {'accuracy': 0.11, 'token_accuracy': 0.63}, 'labels': {'accuracy': 0.65, 'token_accuracy': 0.87}}\n"
          ]
        },
        {
          "name": "stderr",
          "output_type": "stream",
          "text": [
            "Map: 100%|████████████████████████████| 585/585 [00:00<00:00, 764.75 examples/s]\n",
            "Map: 100%|███████████████████████████| 585/585 [00:00<00:00, 6894.18 examples/s]\n"
          ]
        },
        {
          "name": "stdout",
          "output_type": "stream",
          "text": [
            "\n",
            " 'city: %s, timezone: UTC-test': {'base_labels': {'accuracy': 0.07, 'token_accuracy': 0.5}, 'labels': {'accuracy': 0.53, 'token_accuracy': 0.75}}\n"
          ]
        },
        {
          "name": "stderr",
          "output_type": "stream",
          "text": [
            "Map: 100%|████████████████████████████| 313/313 [00:00<00:00, 759.76 examples/s]\n",
            "Map: 100%|███████████████████████████| 313/313 [00:00<00:00, 7173.55 examples/s]\n"
          ]
        },
        {
          "name": "stdout",
          "output_type": "stream",
          "text": [
            "\n",
            " 'city: %s, UTC offset:-test': {'base_labels': {'accuracy': 0.08, 'token_accuracy': 0.49}, 'labels': {'accuracy': 0.5, 'token_accuracy': 0.71}}\n"
          ]
        },
        {
          "name": "stderr",
          "output_type": "stream",
          "text": [
            "Map: 100%|████████████████████████████| 559/559 [00:00<00:00, 756.42 examples/s]\n",
            "Map: 100%|███████████████████████████| 559/559 [00:00<00:00, 7678.25 examples/s]\n"
          ]
        },
        {
          "name": "stdout",
          "output_type": "stream",
          "text": [
            "\n",
            " '[{\"city\": \"%s\", \"timezone\": \"UTC-val': {'base_labels': {'accuracy': 0.05, 'token_accuracy': 0.53}, 'labels': {'accuracy': 0.59, 'token_accuracy': 0.8}}\n"
          ]
        },
        {
          "name": "stderr",
          "output_type": "stream",
          "text": [
            "Map: 100%|████████████████████████████| 552/552 [00:00<00:00, 747.37 examples/s]\n",
            "Map: 100%|███████████████████████████| 552/552 [00:00<00:00, 7259.43 examples/s]\n"
          ]
        },
        {
          "name": "stdout",
          "output_type": "stream",
          "text": [
            "\n",
            " '[{\"city\": \"Rome\", \"timezone\": \"UTC+1:00\"}, {\"city\": \"%s\", \"timezone\": \"UTC-val': {'base_labels': {'accuracy': 0.11, 'token_accuracy': 0.58}, 'labels': {'accuracy': 0.52, 'token_accuracy': 0.8}}\n"
          ]
        },
        {
          "name": "stderr",
          "output_type": "stream",
          "text": [
            "Map: 100%|████████████████████████████| 301/301 [00:00<00:00, 746.44 examples/s]\n",
            "Map: 100%|███████████████████████████| 301/301 [00:00<00:00, 6349.96 examples/s]\n"
          ]
        },
        {
          "name": "stdout",
          "output_type": "stream",
          "text": [
            "\n",
            " '[{\"city\": \"St. Petersburg\", \"country\": \"Russia\"}, {\"city\": \"%s\", \"country\": \"-test': {'base_labels': {'accuracy': 0.03, 'token_accuracy': 0.04}, 'labels': {'accuracy': 0.83, 'token_accuracy': 0.82}}\n"
          ]
        },
        {
          "name": "stderr",
          "output_type": "stream",
          "text": [
            "Map: 100%|████████████████████████████| 430/430 [00:00<00:00, 745.84 examples/s]\n",
            "Map: 100%|███████████████████████████| 430/430 [00:00<00:00, 6668.21 examples/s]\n"
          ]
        },
        {
          "name": "stdout",
          "output_type": "stream",
          "text": [
            "\n",
            " '[{\"city\": \"St. Petersburg\", \"country\": \"Russia\"}, {\"city\": \"%s\", \"country\": \"-val': {'base_labels': {'accuracy': 0.04, 'token_accuracy': 0.05}, 'labels': {'accuracy': 0.89, 'token_accuracy': 0.89}}\n"
          ]
        },
        {
          "name": "stderr",
          "output_type": "stream",
          "text": [
            "Map: 100%|████████████████████████████| 304/304 [00:00<00:00, 757.06 examples/s]\n",
            "Map: 100%|████████████████████████████| 304/304 [00:00<00:00, 959.75 examples/s]\n"
          ]
        },
        {
          "name": "stdout",
          "output_type": "stream",
          "text": [
            "\n",
            " '\"lang\": \"English\"}, {\"city\": \"%s\", \"country\": \"-test': {'base_labels': {'accuracy': 0.03, 'token_accuracy': 0.03}, 'labels': {'accuracy': 0.88, 'token_accuracy': 0.88}}\n"
          ]
        },
        {
          "name": "stderr",
          "output_type": "stream",
          "text": [
            "Map: 100%|████████████████████████████| 423/423 [00:00<00:00, 753.74 examples/s]\n",
            "Map: 100%|███████████████████████████| 423/423 [00:00<00:00, 7010.42 examples/s]\n"
          ]
        },
        {
          "name": "stdout",
          "output_type": "stream",
          "text": [
            "\n",
            " '\"lang\": \"English\"}, {\"city\": \"%s\", \"country\": \"-val': {'base_labels': {'accuracy': 0.02, 'token_accuracy': 0.04}, 'labels': {'accuracy': 0.9, 'token_accuracy': 0.89}}\n"
          ]
        },
        {
          "name": "stderr",
          "output_type": "stream",
          "text": [
            "Map: 100%|████████████████████████████| 305/305 [00:00<00:00, 749.72 examples/s]\n",
            "Map: 100%|███████████████████████████| 305/305 [00:00<00:00, 7038.27 examples/s]\n"
          ]
        },
        {
          "name": "stdout",
          "output_type": "stream",
          "text": [
            "\n",
            " 'city to country: St. Petersburg is in Russia. %s is in-test': {'base_labels': {'accuracy': 0.06, 'token_accuracy': 0.07}, 'labels': {'accuracy': 0.87, 'token_accuracy': 0.85}}\n"
          ]
        },
        {
          "name": "stderr",
          "output_type": "stream",
          "text": [
            "Map: 100%|████████████████████████████| 431/431 [00:00<00:00, 749.47 examples/s]\n",
            "Map: 100%|███████████████████████████| 431/431 [00:00<00:00, 7372.83 examples/s]\n"
          ]
        },
        {
          "name": "stdout",
          "output_type": "stream",
          "text": [
            "\n",
            " 'city to country: St. Petersburg is in Russia. %s is in-val': {'base_labels': {'accuracy': 0.03, 'token_accuracy': 0.03}, 'labels': {'accuracy': 0.92, 'token_accuracy': 0.9}}\n"
          ]
        },
        {
          "name": "stderr",
          "output_type": "stream",
          "text": [
            "Map: 100%|████████████████████████████| 312/312 [00:00<00:00, 761.09 examples/s]\n",
            "Map: 100%|███████████████████████████| 312/312 [00:00<00:00, 6152.17 examples/s]\n"
          ]
        },
        {
          "name": "stdout",
          "output_type": "stream",
          "text": [
            "\n",
            " '[{\"city\": \"%s\", \"country\": \"-test': {'base_labels': {'accuracy': 0.04, 'token_accuracy': 0.05}, 'labels': {'accuracy': 0.86, 'token_accuracy': 0.85}}\n"
          ]
        },
        {
          "name": "stderr",
          "output_type": "stream",
          "text": [
            "Map: 100%|████████████████████████████| 442/442 [00:00<00:00, 762.09 examples/s]\n",
            "Map: 100%|███████████████████████████| 442/442 [00:00<00:00, 7180.05 examples/s]\n"
          ]
        },
        {
          "name": "stdout",
          "output_type": "stream",
          "text": [
            "\n",
            " '[{\"city\": \"%s\", \"country\": \"-val': {'base_labels': {'accuracy': 0.02, 'token_accuracy': 0.03}, 'labels': {'accuracy': 0.9, 'token_accuracy': 0.89}}\n"
          ]
        },
        {
          "name": "stderr",
          "output_type": "stream",
          "text": [
            "Map: 100%|████████████████████████████| 307/307 [00:00<00:00, 746.07 examples/s]\n",
            "Map: 100%|███████████████████████████| 307/307 [00:00<00:00, 7099.74 examples/s]\n"
          ]
        },
        {
          "name": "stdout",
          "output_type": "stream",
          "text": [
            "\n",
            " '[{\"city\": \"Paris\", \"country\": \"France\"}, {\"city\": \"%s\", \"country\": \"-test': {'base_labels': {'accuracy': 0.05, 'token_accuracy': 0.06}, 'labels': {'accuracy': 0.82, 'token_accuracy': 0.82}}\n"
          ]
        },
        {
          "name": "stderr",
          "output_type": "stream",
          "text": [
            "Map: 100%|████████████████████████████| 417/417 [00:00<00:00, 748.21 examples/s]\n",
            "Map: 100%|███████████████████████████| 417/417 [00:00<00:00, 6850.46 examples/s]\n"
          ]
        },
        {
          "name": "stdout",
          "output_type": "stream",
          "text": [
            "\n",
            " '[{\"city\": \"Paris\", \"country\": \"France\"}, {\"city\": \"%s\", \"country\": \"-val': {'base_labels': {'accuracy': 0.05, 'token_accuracy': 0.06}, 'labels': {'accuracy': 0.89, 'token_accuracy': 0.89}}\n"
          ]
        },
        {
          "name": "stderr",
          "output_type": "stream",
          "text": [
            "Map: 100%|████████████████████████████| 306/306 [00:00<00:00, 752.44 examples/s]\n",
            "Map: 100%|███████████████████████████| 306/306 [00:00<00:00, 6345.67 examples/s]\n"
          ]
        },
        {
          "name": "stdout",
          "output_type": "stream",
          "text": [
            "\n",
            " 'city to country: Rome is in Italy. %s is in-test': {'base_labels': {'accuracy': 0.05, 'token_accuracy': 0.05}, 'labels': {'accuracy': 0.83, 'token_accuracy': 0.75}}\n"
          ]
        },
        {
          "name": "stderr",
          "output_type": "stream",
          "text": [
            "Map: 100%|████████████████████████████| 420/420 [00:00<00:00, 755.19 examples/s]\n",
            "Map: 100%|███████████████████████████| 420/420 [00:00<00:00, 6961.03 examples/s]\n"
          ]
        },
        {
          "name": "stdout",
          "output_type": "stream",
          "text": [
            "\n",
            " 'city to country: Rome is in Italy. %s is in-val': {'base_labels': {'accuracy': 0.03, 'token_accuracy': 0.03}, 'labels': {'accuracy': 0.92, 'token_accuracy': 0.9}}\n"
          ]
        },
        {
          "name": "stderr",
          "output_type": "stream",
          "text": [
            "Map: 100%|████████████████████████████| 167/167 [00:00<00:00, 750.23 examples/s]\n",
            "Map: 100%|███████████████████████████| 167/167 [00:00<00:00, 6279.91 examples/s]\n"
          ]
        },
        {
          "name": "stdout",
          "output_type": "stream",
          "text": [
            "\n",
            " '[{\"city\": \"%s\", \"continent\": \"-test': {'base_labels': {'accuracy': 0.16, 'token_accuracy': 0.13}, 'labels': {'accuracy': 0.6, 'token_accuracy': 0.58}}\n"
          ]
        },
        {
          "name": "stderr",
          "output_type": "stream",
          "text": [
            "Map: 100%|████████████████████████████| 323/323 [00:00<00:00, 759.88 examples/s]\n",
            "Map: 100%|███████████████████████████| 323/323 [00:00<00:00, 6730.56 examples/s]\n"
          ]
        },
        {
          "name": "stdout",
          "output_type": "stream",
          "text": [
            "\n",
            " '[{\"city\": \"%s\", \"continent\": \"-val': {'base_labels': {'accuracy': 0.2, 'token_accuracy': 0.18}, 'labels': {'accuracy': 0.53, 'token_accuracy': 0.55}}\n"
          ]
        },
        {
          "name": "stderr",
          "output_type": "stream",
          "text": [
            "Map: 100%|████████████████████████████| 107/107 [00:00<00:00, 729.89 examples/s]\n",
            "Map: 100%|███████████████████████████| 107/107 [00:00<00:00, 5806.80 examples/s]\n"
          ]
        },
        {
          "name": "stdout",
          "output_type": "stream",
          "text": [
            "\n",
            " '[{\"city\": \"Toronto\", \"continent\": \"North America\"}, {\"city\": \"%s\", \"continent\": \"-test': {'base_labels': {'accuracy': 0.07, 'token_accuracy': 0.07}, 'labels': {'accuracy': 0.92, 'token_accuracy': 0.92}}\n"
          ]
        },
        {
          "name": "stderr",
          "output_type": "stream",
          "text": [
            "Map: 100%|████████████████████████████| 192/192 [00:00<00:00, 743.47 examples/s]\n",
            "Map: 100%|███████████████████████████| 192/192 [00:00<00:00, 5868.68 examples/s]\n"
          ]
        },
        {
          "name": "stdout",
          "output_type": "stream",
          "text": [
            "\n",
            " '[{\"city\": \"Toronto\", \"continent\": \"North America\"}, {\"city\": \"%s\", \"continent\": \"-val': {'base_labels': {'accuracy': 0.03, 'token_accuracy': 0.04}, 'labels': {'accuracy': 0.97, 'token_accuracy': 0.97}}\n"
          ]
        },
        {
          "name": "stderr",
          "output_type": "stream",
          "text": [
            "Map: 100%|██████████████████████████████| 93/93 [00:00<00:00, 722.46 examples/s]\n",
            "Map: 100%|█████████████████████████████| 93/93 [00:00<00:00, 5604.38 examples/s]\n"
          ]
        },
        {
          "name": "stdout",
          "output_type": "stream",
          "text": [
            "\n",
            " '[{\"city\": \"Rio de Janeiro\", \"continent\": \"South America\"}, {\"city\": \"%s\", \"continent\": \"-test': {'base_labels': {'accuracy': 0.1, 'token_accuracy': 0.08}, 'labels': {'accuracy': 0.86, 'token_accuracy': 0.85}}\n"
          ]
        },
        {
          "name": "stderr",
          "output_type": "stream",
          "text": [
            "Map: 100%|████████████████████████████| 216/216 [00:00<00:00, 741.60 examples/s]\n",
            "Map: 100%|███████████████████████████| 216/216 [00:00<00:00, 6051.05 examples/s]\n"
          ]
        },
        {
          "name": "stdout",
          "output_type": "stream",
          "text": [
            "\n",
            " '[{\"city\": \"Rio de Janeiro\", \"continent\": \"South America\"}, {\"city\": \"%s\", \"continent\": \"-val': {'base_labels': {'accuracy': 0.03, 'token_accuracy': 0.03}, 'labels': {'accuracy': 0.95, 'token_accuracy': 0.95}}\n"
          ]
        },
        {
          "name": "stderr",
          "output_type": "stream",
          "text": [
            "Map: 100%|████████████████████████████| 118/118 [00:00<00:00, 737.46 examples/s]\n",
            "Map: 100%|███████████████████████████| 118/118 [00:00<00:00, 5899.94 examples/s]\n"
          ]
        },
        {
          "name": "stdout",
          "output_type": "stream",
          "text": [
            "\n",
            " '[{\"city\": \"San Francisco\", \"continent\": \"North America\"}, {\"city\": \"%s\", \"continent\": \"-test': {'base_labels': {'accuracy': 0.09, 'token_accuracy': 0.08}, 'labels': {'accuracy': 0.89, 'token_accuracy': 0.89}}\n"
          ]
        },
        {
          "name": "stderr",
          "output_type": "stream",
          "text": [
            "Map: 100%|████████████████████████████| 216/216 [00:00<00:00, 742.00 examples/s]\n",
            "Map: 100%|███████████████████████████| 216/216 [00:00<00:00, 6709.00 examples/s]\n"
          ]
        },
        {
          "name": "stdout",
          "output_type": "stream",
          "text": [
            "\n",
            " '[{\"city\": \"San Francisco\", \"continent\": \"North America\"}, {\"city\": \"%s\", \"continent\": \"-val': {'base_labels': {'accuracy': 0.1, 'token_accuracy': 0.09}, 'labels': {'accuracy': 0.86, 'token_accuracy': 0.85}}\n"
          ]
        },
        {
          "name": "stderr",
          "output_type": "stream",
          "text": [
            "Map: 100%|██████████████████████████████| 91/91 [00:00<00:00, 725.68 examples/s]\n",
            "Map: 100%|█████████████████████████████| 91/91 [00:00<00:00, 5546.97 examples/s]\n"
          ]
        },
        {
          "name": "stdout",
          "output_type": "stream",
          "text": [
            "\n",
            " '[{\"city\": \"New York City\", \"continent\": \"North America\"}, {\"city\": \"%s\", \"continent\": \"-test': {'base_labels': {'accuracy': 0.03, 'token_accuracy': 0.02}, 'labels': {'accuracy': 0.96, 'token_accuracy': 0.95}}\n"
          ]
        },
        {
          "name": "stderr",
          "output_type": "stream",
          "text": [
            "Map: 100%|████████████████████████████| 195/195 [00:00<00:00, 737.89 examples/s]\n",
            "Map: 100%|███████████████████████████| 195/195 [00:00<00:00, 5735.75 examples/s]\n"
          ]
        },
        {
          "name": "stdout",
          "output_type": "stream",
          "text": [
            "\n",
            " '[{\"city\": \"New York City\", \"continent\": \"North America\"}, {\"city\": \"%s\", \"continent\": \"-val': {'base_labels': {'accuracy': 0.09, 'token_accuracy': 0.08}, 'labels': {'accuracy': 0.88, 'token_accuracy': 0.87}}\n"
          ]
        },
        {
          "name": "stderr",
          "output_type": "stream",
          "text": [
            "Map: 100%|████████████████████████████| 120/120 [00:00<00:00, 730.85 examples/s]\n",
            "Map: 100%|███████████████████████████| 120/120 [00:00<00:00, 4685.72 examples/s]\n"
          ]
        },
        {
          "name": "stdout",
          "output_type": "stream",
          "text": [
            "\n",
            " '[{\"city\": \"Buenos Aires\", \"continent\": \"South America\"}, {\"city\": \"%s\", \"continent\": \"-test': {'base_labels': {'accuracy': 0.05, 'token_accuracy': 0.05}, 'labels': {'accuracy': 0.89, 'token_accuracy': 0.89}}\n"
          ]
        },
        {
          "name": "stderr",
          "output_type": "stream",
          "text": [
            "Map: 100%|████████████████████████████| 223/223 [00:00<00:00, 738.38 examples/s]\n",
            "Map: 100%|███████████████████████████| 223/223 [00:00<00:00, 6620.49 examples/s]\n"
          ]
        },
        {
          "name": "stdout",
          "output_type": "stream",
          "text": [
            "\n",
            " '[{\"city\": \"Buenos Aires\", \"continent\": \"South America\"}, {\"city\": \"%s\", \"continent\": \"-val': {'base_labels': {'accuracy': 0.01, 'token_accuracy': 0.02}, 'labels': {'accuracy': 0.97, 'token_accuracy': 0.97}}\n"
          ]
        },
        {
          "name": "stderr",
          "output_type": "stream",
          "text": [
            "Map: 100%|████████████████████████████| 130/130 [00:00<00:00, 734.47 examples/s]\n",
            "Map: 100%|███████████████████████████| 130/130 [00:00<00:00, 6133.61 examples/s]\n"
          ]
        },
        {
          "name": "stdout",
          "output_type": "stream",
          "text": [
            "\n",
            " 'St. Petersburg is a city in the continent of Europe. %s is a city in the continent of-test': {'base_labels': {'accuracy': 0.09, 'token_accuracy': 0.09}, 'labels': {'accuracy': 0.89, 'token_accuracy': 0.89}}\n"
          ]
        },
        {
          "name": "stderr",
          "output_type": "stream",
          "text": [
            "Map: 100%|████████████████████████████| 212/212 [00:00<00:00, 738.16 examples/s]\n",
            "Map: 100%|███████████████████████████| 212/212 [00:00<00:00, 6823.98 examples/s]\n"
          ]
        },
        {
          "name": "stdout",
          "output_type": "stream",
          "text": [
            "\n",
            " 'St. Petersburg is a city in the continent of Europe. %s is a city in the continent of-val': {'base_labels': {'accuracy': 0.11, 'token_accuracy': 0.11}, 'labels': {'accuracy': 0.86, 'token_accuracy': 0.86}}\n"
          ]
        },
        {
          "name": "stderr",
          "output_type": "stream",
          "text": [
            "Map: 100%|████████████████████████████| 332/332 [00:00<00:00, 750.32 examples/s]\n",
            "Map: 100%|███████████████████████████| 332/332 [00:00<00:00, 6483.48 examples/s]\n"
          ]
        },
        {
          "name": "stdout",
          "output_type": "stream",
          "text": [
            "\n",
            " '[{\"city\": \"St. Petersburg\", \"lat\": \"60\"}, {\"city\": \"%s\", \"lat\": \"-test': {'base_labels': {'accuracy': 0.09, 'token_accuracy': 0.23}, 'labels': {'accuracy': 0.25, 'token_accuracy': 0.48}}\n"
          ]
        },
        {
          "name": "stderr",
          "output_type": "stream",
          "text": [
            "Map: 100%|████████████████████████████| 460/460 [00:00<00:00, 750.38 examples/s]\n",
            "Map: 100%|███████████████████████████| 460/460 [00:00<00:00, 7090.55 examples/s]\n"
          ]
        },
        {
          "name": "stdout",
          "output_type": "stream",
          "text": [
            "\n",
            " '[{\"city\": \"St. Petersburg\", \"lat\": \"60\"}, {\"city\": \"%s\", \"lat\": \"-val': {'base_labels': {'accuracy': 0.1, 'token_accuracy': 0.22}, 'labels': {'accuracy': 0.22, 'token_accuracy': 0.49}}\n"
          ]
        },
        {
          "name": "stderr",
          "output_type": "stream",
          "text": [
            "Map: 100%|████████████████████████████| 322/322 [00:00<00:00, 754.63 examples/s]\n",
            "Map: 100%|███████████████████████████| 322/322 [00:00<00:00, 6688.45 examples/s]\n"
          ]
        },
        {
          "name": "stdout",
          "output_type": "stream",
          "text": [
            "\n",
            " '[{\"city\": \"Toronto\", \"lat\": \"44\"}, {\"city\": \"%s\", \"lat\": \"-test': {'base_labels': {'accuracy': 0.12, 'token_accuracy': 0.29}, 'labels': {'accuracy': 0.26, 'token_accuracy': 0.44}}\n"
          ]
        },
        {
          "name": "stderr",
          "output_type": "stream",
          "text": [
            "Map: 100%|████████████████████████████| 464/464 [00:00<00:00, 754.49 examples/s]\n",
            "Map: 100%|███████████████████████████| 464/464 [00:00<00:00, 7511.89 examples/s]\n"
          ]
        },
        {
          "name": "stdout",
          "output_type": "stream",
          "text": [
            "\n",
            " '[{\"city\": \"Toronto\", \"lat\": \"44\"}, {\"city\": \"%s\", \"lat\": \"-val': {'base_labels': {'accuracy': 0.14, 'token_accuracy': 0.31}, 'labels': {'accuracy': 0.27, 'token_accuracy': 0.48}}\n"
          ]
        },
        {
          "name": "stderr",
          "output_type": "stream",
          "text": [
            "Map: 100%|████████████████████████████| 316/316 [00:00<00:00, 757.09 examples/s]\n",
            "Map: 100%|███████████████████████████| 316/316 [00:00<00:00, 7204.83 examples/s]\n"
          ]
        },
        {
          "name": "stdout",
          "output_type": "stream",
          "text": [
            "\n",
            " '[{\"city\": \"Rome\", \"lat\": \"42\"}, {\"city\": \"%s\", \"lat\": \"-test': {'base_labels': {'accuracy': 0.09, 'token_accuracy': 0.22}, 'labels': {'accuracy': 0.23, 'token_accuracy': 0.46}}\n"
          ]
        },
        {
          "name": "stderr",
          "output_type": "stream",
          "text": [
            "Map: 100%|████████████████████████████| 470/470 [00:00<00:00, 746.09 examples/s]\n",
            "Map: 100%|███████████████████████████| 470/470 [00:00<00:00, 7603.04 examples/s]\n"
          ]
        },
        {
          "name": "stdout",
          "output_type": "stream",
          "text": [
            "\n",
            " '[{\"city\": \"Rome\", \"lat\": \"42\"}, {\"city\": \"%s\", \"lat\": \"-val': {'base_labels': {'accuracy': 0.05, 'token_accuracy': 0.24}, 'labels': {'accuracy': 0.28, 'token_accuracy': 0.53}}\n"
          ]
        },
        {
          "name": "stderr",
          "output_type": "stream",
          "text": [
            "Map: 100%|████████████████████████████| 330/330 [00:00<00:00, 752.33 examples/s]\n",
            "Map: 100%|███████████████████████████| 330/330 [00:00<00:00, 6289.85 examples/s]\n"
          ]
        },
        {
          "name": "stdout",
          "output_type": "stream",
          "text": [
            "\n",
            " '[{\"city\": \"Rome\", \"lat\": \"41.9\"}, {\"city\": \"%s\", \"lat\": \"-test': {'base_labels': {'accuracy': 0.06, 'token_accuracy': 0.22}, 'labels': {'accuracy': 0.28, 'token_accuracy': 0.5}}\n"
          ]
        },
        {
          "name": "stderr",
          "output_type": "stream",
          "text": [
            "Map: 100%|████████████████████████████| 470/470 [00:00<00:00, 756.08 examples/s]\n",
            "Map: 100%|███████████████████████████| 470/470 [00:00<00:00, 7516.65 examples/s]\n"
          ]
        },
        {
          "name": "stdout",
          "output_type": "stream",
          "text": [
            "\n",
            " '[{\"city\": \"Rome\", \"lat\": \"41.9\"}, {\"city\": \"%s\", \"lat\": \"-val': {'base_labels': {'accuracy': 0.06, 'token_accuracy': 0.19}, 'labels': {'accuracy': 0.38, 'token_accuracy': 0.58}}\n"
          ]
        },
        {
          "name": "stderr",
          "output_type": "stream",
          "text": [
            "Map: 100%|████████████████████████████| 316/316 [00:00<00:00, 753.21 examples/s]\n",
            "Map: 100%|███████████████████████████| 316/316 [00:00<00:00, 7188.92 examples/s]\n"
          ]
        },
        {
          "name": "stdout",
          "output_type": "stream",
          "text": [
            "\n",
            " '[{\"city\": \"Beijing\", \"lat\": \"40\"}, {\"city\": \"%s\", \"lat\": \"-test': {'base_labels': {'accuracy': 0.07, 'token_accuracy': 0.22}, 'labels': {'accuracy': 0.3, 'token_accuracy': 0.52}}\n"
          ]
        },
        {
          "name": "stderr",
          "output_type": "stream",
          "text": [
            "Map: 100%|████████████████████████████| 466/466 [00:00<00:00, 754.25 examples/s]\n",
            "Map: 100%|███████████████████████████| 466/466 [00:00<00:00, 7119.71 examples/s]\n"
          ]
        },
        {
          "name": "stdout",
          "output_type": "stream",
          "text": [
            "\n",
            " '[{\"city\": \"Beijing\", \"lat\": \"40\"}, {\"city\": \"%s\", \"lat\": \"-val': {'base_labels': {'accuracy': 0.07, 'token_accuracy': 0.21}, 'labels': {'accuracy': 0.33, 'token_accuracy': 0.57}}\n"
          ]
        },
        {
          "name": "stderr",
          "output_type": "stream",
          "text": [
            "Map: 100%|████████████████████████████| 323/323 [00:00<00:00, 753.47 examples/s]\n",
            "Map: 100%|███████████████████████████| 323/323 [00:00<00:00, 6622.96 examples/s]\n"
          ]
        },
        {
          "name": "stdout",
          "output_type": "stream",
          "text": [
            "\n",
            " '[{\"city\": \"Toronto\", \"lat\": \"43.7\"}, {\"city\": \"%s\", \"lat\": \"-test': {'base_labels': {'accuracy': 0.08, 'token_accuracy': 0.24}, 'labels': {'accuracy': 0.3, 'token_accuracy': 0.5}}\n"
          ]
        },
        {
          "name": "stderr",
          "output_type": "stream",
          "text": [
            "Map: 100%|████████████████████████████| 453/453 [00:00<00:00, 751.33 examples/s]\n",
            "Map: 100%|███████████████████████████| 453/453 [00:00<00:00, 1315.94 examples/s]\n"
          ]
        },
        {
          "name": "stdout",
          "output_type": "stream",
          "text": [
            "\n",
            " '[{\"city\": \"Toronto\", \"lat\": \"43.7\"}, {\"city\": \"%s\", \"lat\": \"-val': {'base_labels': {'accuracy': 0.06, 'token_accuracy': 0.22}, 'labels': {'accuracy': 0.34, 'token_accuracy': 0.54}}\n"
          ]
        },
        {
          "name": "stderr",
          "output_type": "stream",
          "text": [
            "Map: 100%|████████████████████████████| 326/326 [00:00<00:00, 747.27 examples/s]\n",
            "Map: 100%|███████████████████████████| 326/326 [00:00<00:00, 6383.55 examples/s]\n"
          ]
        },
        {
          "name": "stdout",
          "output_type": "stream",
          "text": [
            "\n",
            " '[{\"city\": \"Sydney\", \"long\": \"151.2\"}, {\"city\": \"%s\", \"long\": \"-test': {'base_labels': {'accuracy': 0.09, 'token_accuracy': 0.22}, 'labels': {'accuracy': 0.22, 'token_accuracy': 0.44}}\n"
          ]
        },
        {
          "name": "stderr",
          "output_type": "stream",
          "text": [
            "Map: 100%|████████████████████████████| 468/468 [00:00<00:00, 749.55 examples/s]\n",
            "Map: 100%|███████████████████████████| 468/468 [00:00<00:00, 7122.89 examples/s]\n"
          ]
        },
        {
          "name": "stdout",
          "output_type": "stream",
          "text": [
            "\n",
            " '[{\"city\": \"Sydney\", \"long\": \"151.2\"}, {\"city\": \"%s\", \"long\": \"-val': {'base_labels': {'accuracy': 0.07, 'token_accuracy': 0.21}, 'labels': {'accuracy': 0.3, 'token_accuracy': 0.48}}\n"
          ]
        },
        {
          "name": "stderr",
          "output_type": "stream",
          "text": [
            "Map: 100%|████████████████████████████| 330/330 [00:00<00:00, 756.55 examples/s]\n",
            "Map: 100%|███████████████████████████| 330/330 [00:00<00:00, 7279.59 examples/s]\n"
          ]
        },
        {
          "name": "stdout",
          "output_type": "stream",
          "text": [
            "\n",
            " ' \"long\": \"122.4\"}, {\"city\": \"%s\", \"long\": \"-test': {'base_labels': {'accuracy': 0.1, 'token_accuracy': 0.27}, 'labels': {'accuracy': 0.17, 'token_accuracy': 0.42}}\n"
          ]
        },
        {
          "name": "stderr",
          "output_type": "stream",
          "text": [
            "Map: 100%|████████████████████████████| 473/473 [00:00<00:00, 756.85 examples/s]\n",
            "Map: 100%|███████████████████████████| 473/473 [00:00<00:00, 7190.75 examples/s]\n"
          ]
        },
        {
          "name": "stdout",
          "output_type": "stream",
          "text": [
            "\n",
            " ' \"long\": \"122.4\"}, {\"city\": \"%s\", \"long\": \"-val': {'base_labels': {'accuracy': 0.07, 'token_accuracy': 0.23}, 'labels': {'accuracy': 0.23, 'token_accuracy': 0.47}}\n"
          ]
        },
        {
          "name": "stderr",
          "output_type": "stream",
          "text": [
            "Map: 100%|████████████████████████████| 333/333 [00:00<00:00, 751.75 examples/s]\n",
            "Map: 100%|███████████████████████████| 333/333 [00:00<00:00, 6794.30 examples/s]\n"
          ]
        },
        {
          "name": "stdout",
          "output_type": "stream",
          "text": [
            "\n",
            " '[{\"city\": \"Beijing\", \"long\": \"116.4\"}, {\"city\": \"%s\", \"long\": \"-test': {'base_labels': {'accuracy': 0.08, 'token_accuracy': 0.25}, 'labels': {'accuracy': 0.19, 'token_accuracy': 0.42}}\n"
          ]
        },
        {
          "name": "stderr",
          "output_type": "stream",
          "text": [
            "Map: 100%|████████████████████████████| 478/478 [00:00<00:00, 749.69 examples/s]\n",
            "Map: 100%|███████████████████████████| 478/478 [00:00<00:00, 7213.79 examples/s]\n"
          ]
        },
        {
          "name": "stdout",
          "output_type": "stream",
          "text": [
            "\n",
            " '[{\"city\": \"Beijing\", \"long\": \"116.4\"}, {\"city\": \"%s\", \"long\": \"-val': {'base_labels': {'accuracy': 0.07, 'token_accuracy': 0.23}, 'labels': {'accuracy': 0.27, 'token_accuracy': 0.49}}\n"
          ]
        },
        {
          "name": "stderr",
          "output_type": "stream",
          "text": [
            "Map: 100%|████████████████████████████| 322/322 [00:00<00:00, 752.10 examples/s]\n",
            "Map: 100%|███████████████████████████| 322/322 [00:00<00:00, 6670.19 examples/s]\n"
          ]
        },
        {
          "name": "stdout",
          "output_type": "stream",
          "text": [
            "\n",
            " '[{\"city\": \"Bangkok\", \"long\": \"100.5\"}, {\"city\": \"%s\", \"long\": \"-test': {'base_labels': {'accuracy': 0.14, 'token_accuracy': 0.31}, 'labels': {'accuracy': 0.27, 'token_accuracy': 0.5}}\n"
          ]
        },
        {
          "name": "stderr",
          "output_type": "stream",
          "text": [
            "Map: 100%|████████████████████████████| 472/472 [00:00<00:00, 752.73 examples/s]\n",
            "Map: 100%|███████████████████████████| 472/472 [00:00<00:00, 7060.04 examples/s]\n"
          ]
        },
        {
          "name": "stdout",
          "output_type": "stream",
          "text": [
            "\n",
            " '[{\"city\": \"Bangkok\", \"long\": \"100.5\"}, {\"city\": \"%s\", \"long\": \"-val': {'base_labels': {'accuracy': 0.13, 'token_accuracy': 0.3}, 'labels': {'accuracy': 0.27, 'token_accuracy': 0.5}}\n"
          ]
        },
        {
          "name": "stderr",
          "output_type": "stream",
          "text": [
            "Map: 100%|████████████████████████████| 330/330 [00:00<00:00, 751.09 examples/s]\n",
            "Map: 100%|███████████████████████████| 330/330 [00:00<00:00, 7338.69 examples/s]\n"
          ]
        },
        {
          "name": "stdout",
          "output_type": "stream",
          "text": [
            "\n",
            " '[{\"city\": \"Tokyo\", \"long\": \"139.7\"}, {\"city\": \"%s\", \"long\": \"-test': {'base_labels': {'accuracy': 0.07, 'token_accuracy': 0.2}, 'labels': {'accuracy': 0.25, 'token_accuracy': 0.44}}\n"
          ]
        },
        {
          "name": "stderr",
          "output_type": "stream",
          "text": [
            "Map: 100%|████████████████████████████| 474/474 [00:00<00:00, 751.17 examples/s]\n",
            "Map: 100%|███████████████████████████| 474/474 [00:00<00:00, 7079.70 examples/s]\n"
          ]
        },
        {
          "name": "stdout",
          "output_type": "stream",
          "text": [
            "\n",
            " '[{\"city\": \"Tokyo\", \"long\": \"139.7\"}, {\"city\": \"%s\", \"long\": \"-val': {'base_labels': {'accuracy': 0.06, 'token_accuracy': 0.19}, 'labels': {'accuracy': 0.29, 'token_accuracy': 0.51}}\n"
          ]
        },
        {
          "name": "stderr",
          "output_type": "stream",
          "text": [
            "Map: 100%|████████████████████████████| 329/329 [00:00<00:00, 751.52 examples/s]\n",
            "Map: 100%|███████████████████████████| 329/329 [00:00<00:00, 7299.30 examples/s]\n"
          ]
        },
        {
          "name": "stdout",
          "output_type": "stream",
          "text": [
            "\n",
            " '[{\"city\": \"Hong Kong\", \"long\": \"114.2\"}, {\"city\": \"%s\", \"long\": \"-test': {'base_labels': {'accuracy': 0.07, 'token_accuracy': 0.22}, 'labels': {'accuracy': 0.22, 'token_accuracy': 0.45}}\n"
          ]
        },
        {
          "name": "stderr",
          "output_type": "stream",
          "text": [
            "Map: 100%|████████████████████████████| 473/473 [00:00<00:00, 749.97 examples/s]\n",
            "Map: 100%|███████████████████████████| 473/473 [00:00<00:00, 7503.94 examples/s]\n"
          ]
        },
        {
          "name": "stdout",
          "output_type": "stream",
          "text": [
            "\n",
            " '[{\"city\": \"Hong Kong\", \"long\": \"114.2\"}, {\"city\": \"%s\", \"long\": \"-val': {'base_labels': {'accuracy': 0.06, 'token_accuracy': 0.22}, 'labels': {'accuracy': 0.26, 'token_accuracy': 0.47}}\n"
          ]
        },
        {
          "name": "stderr",
          "output_type": "stream",
          "text": [
            "Map: 100%|████████████████████████████| 332/332 [00:00<00:00, 754.10 examples/s]\n",
            "Map: 100%|███████████████████████████| 332/332 [00:00<00:00, 7312.64 examples/s]\n"
          ]
        },
        {
          "name": "stdout",
          "output_type": "stream",
          "text": [
            "\n",
            " '[{\"city\": \"%s\", \"official language\": \"-test': {'base_labels': {'accuracy': 0.05, 'token_accuracy': 0.06}, 'labels': {'accuracy': 0.78, 'token_accuracy': 0.78}}\n"
          ]
        },
        {
          "name": "stderr",
          "output_type": "stream",
          "text": [
            "Map: 100%|████████████████████████████| 471/471 [00:00<00:00, 753.18 examples/s]\n",
            "Map: 100%|███████████████████████████| 471/471 [00:00<00:00, 7632.37 examples/s]\n"
          ]
        },
        {
          "name": "stdout",
          "output_type": "stream",
          "text": [
            "\n",
            " '[{\"city\": \"%s\", \"official language\": \"-val': {'base_labels': {'accuracy': 0.03, 'token_accuracy': 0.05}, 'labels': {'accuracy': 0.82, 'token_accuracy': 0.81}}\n"
          ]
        },
        {
          "name": "stderr",
          "output_type": "stream",
          "text": [
            "Map: 100%|████████████████████████████| 331/331 [00:00<00:00, 754.16 examples/s]\n",
            "Map: 100%|███████████████████████████| 331/331 [00:00<00:00, 6710.17 examples/s]\n"
          ]
        },
        {
          "name": "stdout",
          "output_type": "stream",
          "text": [
            "\n",
            " 'The official language of %s is-test': {'base_labels': {'accuracy': 0.12, 'token_accuracy': 0.13}, 'labels': {'accuracy': 0.69, 'token_accuracy': 0.63}}\n"
          ]
        },
        {
          "name": "stderr",
          "output_type": "stream",
          "text": [
            "Map: 100%|████████████████████████████| 450/450 [00:00<00:00, 753.30 examples/s]\n",
            "Map: 100%|███████████████████████████| 450/450 [00:00<00:00, 7077.69 examples/s]\n"
          ]
        },
        {
          "name": "stdout",
          "output_type": "stream",
          "text": [
            "\n",
            " 'The official language of %s is-val': {'base_labels': {'accuracy': 0.08, 'token_accuracy': 0.07}, 'labels': {'accuracy': 0.73, 'token_accuracy': 0.64}}\n"
          ]
        },
        {
          "name": "stderr",
          "output_type": "stream",
          "text": [
            "Map: 100%|████████████████████████████| 333/333 [00:00<00:00, 739.73 examples/s]\n",
            "Map: 100%|███████████████████████████| 333/333 [00:00<00:00, 6669.74 examples/s]\n"
          ]
        },
        {
          "name": "stdout",
          "output_type": "stream",
          "text": [
            "\n",
            " '[{\"city\": \"New York City\", \"lang\": \"English\"}, {\"city\": \"%s\", \"lang\": \"-test': {'base_labels': {'accuracy': 0.08, 'token_accuracy': 0.05}, 'labels': {'accuracy': 0.62, 'token_accuracy': 0.61}}\n"
          ]
        },
        {
          "name": "stderr",
          "output_type": "stream",
          "text": [
            "Map: 100%|████████████████████████████| 460/460 [00:00<00:00, 745.64 examples/s]\n",
            "Map: 100%|███████████████████████████| 460/460 [00:00<00:00, 7042.43 examples/s]\n"
          ]
        },
        {
          "name": "stdout",
          "output_type": "stream",
          "text": [
            "\n",
            " '[{\"city\": \"New York City\", \"lang\": \"English\"}, {\"city\": \"%s\", \"lang\": \"-val': {'base_labels': {'accuracy': 0.08, 'token_accuracy': 0.07}, 'labels': {'accuracy': 0.64, 'token_accuracy': 0.62}}\n"
          ]
        },
        {
          "name": "stderr",
          "output_type": "stream",
          "text": [
            "Map: 100%|████████████████████████████| 334/334 [00:00<00:00, 747.58 examples/s]\n",
            "Map: 100%|███████████████████████████| 334/334 [00:00<00:00, 6557.47 examples/s]\n"
          ]
        },
        {
          "name": "stdout",
          "output_type": "stream",
          "text": [
            "\n",
            " ' \"country\": \"United Kingdom\"}, {\"city\": \"%s\", \"language\": \"-test': {'base_labels': {'accuracy': 0.06, 'token_accuracy': 0.05}, 'labels': {'accuracy': 0.56, 'token_accuracy': 0.64}}\n"
          ]
        },
        {
          "name": "stderr",
          "output_type": "stream",
          "text": [
            "Map: 100%|████████████████████████████| 445/445 [00:00<00:00, 751.14 examples/s]\n",
            "Map: 100%|███████████████████████████| 445/445 [00:00<00:00, 7558.56 examples/s]\n"
          ]
        },
        {
          "name": "stdout",
          "output_type": "stream",
          "text": [
            "\n",
            " ' \"country\": \"United Kingdom\"}, {\"city\": \"%s\", \"language\": \"-val': {'base_labels': {'accuracy': 0.07, 'token_accuracy': 0.06}, 'labels': {'accuracy': 0.52, 'token_accuracy': 0.56}}\n"
          ]
        },
        {
          "name": "stderr",
          "output_type": "stream",
          "text": [
            "Map: 100%|████████████████████████████| 324/324 [00:00<00:00, 744.92 examples/s]\n",
            "Map: 100%|███████████████████████████| 324/324 [00:00<00:00, 6424.10 examples/s]\n"
          ]
        },
        {
          "name": "stdout",
          "output_type": "stream",
          "text": [
            "\n",
            " '[{\"city\": \"Kuala Lumpur\", \"lang\": \"Malay\"}, {\"city\": \"%s\", \"lang\": \"-test': {'base_labels': {'accuracy': 0.08, 'token_accuracy': 0.08}, 'labels': {'accuracy': 0.69, 'token_accuracy': 0.68}}\n"
          ]
        },
        {
          "name": "stderr",
          "output_type": "stream",
          "text": [
            "Map: 100%|████████████████████████████| 469/469 [00:00<00:00, 746.09 examples/s]\n",
            "Map: 100%|███████████████████████████| 469/469 [00:00<00:00, 7186.09 examples/s]\n"
          ]
        },
        {
          "name": "stdout",
          "output_type": "stream",
          "text": [
            "\n",
            " '[{\"city\": \"Kuala Lumpur\", \"lang\": \"Malay\"}, {\"city\": \"%s\", \"lang\": \"-val': {'base_labels': {'accuracy': 0.06, 'token_accuracy': 0.06}, 'labels': {'accuracy': 0.74, 'token_accuracy': 0.72}}\n"
          ]
        },
        {
          "name": "stderr",
          "output_type": "stream",
          "text": [
            "Map: 100%|████████████████████████████| 314/314 [00:00<00:00, 733.30 examples/s]\n",
            "Map: 100%|███████████████████████████| 314/314 [00:00<00:00, 6805.94 examples/s]\n"
          ]
        },
        {
          "name": "stdout",
          "output_type": "stream",
          "text": [
            "\n",
            " '[{\"city\": \"St. Petersburg\", \"timezone\": \"UTC+03:00\"}, {\"city\": \"%s\", \"timezone\": \"UTC-test': {'base_labels': {'accuracy': 0.13, 'token_accuracy': 0.63}, 'labels': {'accuracy': 0.47, 'token_accuracy': 0.8}}\n"
          ]
        },
        {
          "name": "stderr",
          "output_type": "stream",
          "text": [
            "Map: 100%|████████████████████████████| 440/440 [00:00<00:00, 732.37 examples/s]\n",
            "Map: 100%|███████████████████████████| 440/440 [00:00<00:00, 7014.61 examples/s]\n"
          ]
        },
        {
          "name": "stdout",
          "output_type": "stream",
          "text": [
            "\n",
            " '[{\"city\": \"St. Petersburg\", \"timezone\": \"UTC+03:00\"}, {\"city\": \"%s\", \"timezone\": \"UTC-val': {'base_labels': {'accuracy': 0.1, 'token_accuracy': 0.66}, 'labels': {'accuracy': 0.56, 'token_accuracy': 0.83}}\n"
          ]
        },
        {
          "name": "stderr",
          "output_type": "stream",
          "text": [
            "Map: 100%|████████████████████████████| 315/315 [00:00<00:00, 733.83 examples/s]\n",
            "Map: 100%|███████████████████████████| 315/315 [00:00<00:00, 7240.04 examples/s]\n"
          ]
        },
        {
          "name": "stdout",
          "output_type": "stream",
          "text": [
            "\n",
            " '[{\"city\": \"Cape Town\", \"timezone\": \"UTC+02:00\"}, {\"city\": \"%s\", \"timezone\": \"UTC-test': {'base_labels': {'accuracy': 0.15, 'token_accuracy': 0.65}, 'labels': {'accuracy': 0.5, 'token_accuracy': 0.78}}\n"
          ]
        },
        {
          "name": "stderr",
          "output_type": "stream",
          "text": [
            "Map: 100%|████████████████████████████| 435/435 [00:00<00:00, 733.90 examples/s]\n",
            "Map: 100%|███████████████████████████| 435/435 [00:00<00:00, 7620.62 examples/s]\n"
          ]
        },
        {
          "name": "stdout",
          "output_type": "stream",
          "text": [
            "\n",
            " '[{\"city\": \"Cape Town\", \"timezone\": \"UTC+02:00\"}, {\"city\": \"%s\", \"timezone\": \"UTC-val': {'base_labels': {'accuracy': 0.12, 'token_accuracy': 0.67}, 'labels': {'accuracy': 0.65, 'token_accuracy': 0.86}}\n"
          ]
        },
        {
          "name": "stderr",
          "output_type": "stream",
          "text": [
            "Map: 100%|████████████████████████████| 295/295 [00:00<00:00, 728.66 examples/s]\n",
            "Map: 100%|███████████████████████████| 295/295 [00:00<00:00, 7080.27 examples/s]\n"
          ]
        },
        {
          "name": "stdout",
          "output_type": "stream",
          "text": [
            "\n",
            " '[{\"city\": \"Rio de Janeiro\", \"timezone\": \"UTC-03:00\"}, {\"city\": \"%s\", \"timezone\": \"UTC-test': {'base_labels': {'accuracy': 0.13, 'token_accuracy': 0.62}, 'labels': {'accuracy': 0.55, 'token_accuracy': 0.82}}\n"
          ]
        },
        {
          "name": "stderr",
          "output_type": "stream",
          "text": [
            "Map: 100%|████████████████████████████| 434/434 [00:00<00:00, 498.59 examples/s]\n",
            "Map: 100%|███████████████████████████| 434/434 [00:00<00:00, 7433.55 examples/s]\n"
          ]
        },
        {
          "name": "stdout",
          "output_type": "stream",
          "text": [
            "\n",
            " '[{\"city\": \"Rio de Janeiro\", \"timezone\": \"UTC-03:00\"}, {\"city\": \"%s\", \"timezone\": \"UTC-val': {'base_labels': {'accuracy': 0.07, 'token_accuracy': 0.65}, 'labels': {'accuracy': 0.67, 'token_accuracy': 0.88}}\n"
          ]
        },
        {
          "name": "stderr",
          "output_type": "stream",
          "text": [
            "Map: 100%|████████████████████████████| 320/320 [00:00<00:00, 735.20 examples/s]\n",
            "Map: 100%|███████████████████████████| 320/320 [00:00<00:00, 7207.21 examples/s]\n"
          ]
        },
        {
          "name": "stdout",
          "output_type": "stream",
          "text": [
            "\n",
            " '[{\"city\": \"Paris\", \"timezone\": \"UTC+1:00\"}, {\"city\": \"%s\", \"timezone\": \"UTC-test': {'base_labels': {'accuracy': 0.21, 'token_accuracy': 0.58}, 'labels': {'accuracy': 0.33, 'token_accuracy': 0.7}}\n"
          ]
        },
        {
          "name": "stderr",
          "output_type": "stream",
          "text": [
            "Map: 100%|████████████████████████████| 444/444 [00:00<00:00, 735.76 examples/s]\n",
            "Map: 100%|███████████████████████████| 444/444 [00:00<00:00, 7126.35 examples/s]\n"
          ]
        },
        {
          "name": "stdout",
          "output_type": "stream",
          "text": [
            "\n",
            " '[{\"city\": \"Paris\", \"timezone\": \"UTC+1:00\"}, {\"city\": \"%s\", \"timezone\": \"UTC-val': {'base_labels': {'accuracy': 0.15, 'token_accuracy': 0.62}, 'labels': {'accuracy': 0.48, 'token_accuracy': 0.76}}\n"
          ]
        },
        {
          "name": "stderr",
          "output_type": "stream",
          "text": [
            "Map: 100%|████████████████████████████| 303/303 [00:00<00:00, 729.49 examples/s]\n",
            "Map: 100%|███████████████████████████| 303/303 [00:00<00:00, 7164.21 examples/s]\n"
          ]
        },
        {
          "name": "stdout",
          "output_type": "stream",
          "text": [
            "\n",
            " '[{\"city\": \"Buenos Aires\", \"timezone\": \"UTC-03:00\"}, {\"city\": \"%s\", \"timezone\": \"UTC-test': {'base_labels': {'accuracy': 0.13, 'token_accuracy': 0.6}, 'labels': {'accuracy': 0.5, 'token_accuracy': 0.82}}\n"
          ]
        },
        {
          "name": "stderr",
          "output_type": "stream",
          "text": [
            "Map: 100%|████████████████████████████| 422/422 [00:00<00:00, 729.39 examples/s]\n",
            "Map: 100%|███████████████████████████| 422/422 [00:00<00:00, 6838.27 examples/s]\n"
          ]
        },
        {
          "name": "stdout",
          "output_type": "stream",
          "text": [
            "\n",
            " '[{\"city\": \"Buenos Aires\", \"timezone\": \"UTC-03:00\"}, {\"city\": \"%s\", \"timezone\": \"UTC-val': {'base_labels': {'accuracy': 0.08, 'token_accuracy': 0.63}, 'labels': {'accuracy': 0.69, 'token_accuracy': 0.88}}\n",
            "Saved to /scr-ssd/hij/models/tinyllama-layer14-dim64-baseline_daslora_3tok_Country_len48_pose_ep3_cause20000_evalall.json\n",
            "tinyllama-layer14-dim64-multitask_daslora_3tok_Country_ex_Continent+Latitude+Longitude+Language+Timezone_len48_pose_ep3_cause20000_iso4000\n",
            "Training Tasks: {'Country': 'match_source', 'Continent': 'match_base', 'Latitude': 'match_base', 'Longitude': 'match_base', 'Language': 'match_base', 'Timezone': 'match_base'}\n",
            "Training tasks matching source label: ['Country']\n"
          ]
        },
        {
          "name": "stderr",
          "output_type": "stream",
          "text": [
            "Map: 100%|████████████████████████| 39055/39055 [02:07<00:00, 306.76 examples/s]\n",
            "Map: 100%|███████████████████████| 39055/39055 [00:05<00:00, 6653.59 examples/s]\n"
          ]
        },
        {
          "name": "stdout",
          "output_type": "stream",
          "text": [
            "Model trainable parameters:  0\n",
            "Intervention trainable parameters:  131072\n"
          ]
        },
        {
          "name": "stderr",
          "output_type": "stream",
          "text": [
            "Epoch: 0:   0%|           | 1/2440 [00:00<05:01,  8.09it/s, loss=3.06, acc=0.47]"
          ]
        },
        {
          "name": "stdout",
          "output_type": "stream",
          "text": [
            "\n",
            "Tokens to intervene:\n",
            "['[{\"city\": \"Buenos Aires\", \"continent\": \"South America\"}, {\"city\": \"Oradea\", \"continent\": \"', '[{\"city\": \"Toronto\", \"lat\": \"44\"}, {\"city\": \"Ivanovo\", \"lat\": \"', 'city to country: St. Petersburg is in Russia. Arezzo is in']\n",
            "['built a railway from Kra Buri via La-un to Mueang Ranong', 'city to country: Rome is in Italy. Kofu is in', ' the climate of Sliven in the year 2050 would']\n",
            "Base: ['a', 'ovo', 'zo', 'ur', 'pole', 'ay', 'rey', 'lin', 'ung', 'tom', 'ur', 'est', 'de', 'ang', 'berg', 'ia']\n",
            "Source: ['ong', 'u', 'iven', 'burg', 'a', 'sk', 'je', 'hai', 'an', 'u', 'ra', 'iga', 'oro', 'ne', 'u', 'ney']\n",
            "Output: ['Europe\"}, <', '53\"},', 'Italyaria.', 'Hindi\"},', 'Polomania', 'Via\"},', 'Medonia', 'German\"},', 'Chinese\",', '+01', 'Indiaazi.', 'Rvia\"},', 'Tapan\"', 'Asia\"},', 'Gapan\",', 'Europe\"}, <']\n",
            "Label     : ['Europe</s></s>', '53</s>', 'Bulgaria</s>', 'Hindi</s>', 'Romania', 'Russia</s>', 'Macedonia', 'German</s>', 'Chinese</s>', '+01', 'Ghana</s>', 'Latvia</s>', 'Japan</s>', 'Asia</s>', 'Japan</s>', 'Europe</s></s>']\n",
            "Base Label: ['Europe</s></s>', '53</s>', 'Italy</s></s>', 'Hindi</s>', 'Poland</s>', 'Venezuela', 'Mexico', 'German</s>', 'Chinese</s>', '+01', 'India</s></s>', 'Romania', 'Turkey', 'Asia</s>', 'Germany', 'Europe</s></s>']\n"
          ]
        },
        {
          "name": "stderr",
          "output_type": "stream",
          "text": [
            "Epoch: 0:   0%|           | 2/2440 [00:00<04:59,  8.14it/s, loss=3.32, acc=0.42]"
          ]
        },
        {
          "name": "stdout",
          "output_type": "stream",
          "text": [
            "\n",
            "Tokens to intervene:\n",
            "['[{\"city\": \"Hong Kong\", \"long\": \"114.2\"}, {\"city\": \"Blitar\", \"long\": \"', '[{\"city\": \"Paris\", \"country\": \"France\"}, {\"city\": \"Lille\", \"country\": \"', '[{\"city\": \"St. Petersburg\", \"country\": \"Russia\"}, {\"city\": \"Zvolen\", \"country\": \"']\n",
            "['[{\"city\": \"Paris\", \"country\": \"France\"}, {\"city\": \"Ranong\", \"country\": \"', 'Climate data for Skopje, 1991–2020 normals,', '[{\"city\": \"Rivne\", \"official language\": \"']\n",
            "Base: ['itar', 'ille', 'en', 'en', 'in', 'ers', 'abad', 'imes', 'aya', 'ensk', 'oro', 'a', 'as', 'egu', 'stad', 'borg']\n",
            "Source: ['ong', 'je', 'ne', 'ung', 'os', 'ai', 'oder', 'stone', 'ern', 'Split', 'ania', 'erton', 'burg', 'sk', 'ashi', 'yz']\n",
            "Output: ['114', 'Franceedonia', 'Skraine', 'Europe\"}, <', '17\"},', 'Franceapan\",', 'Indgeria', '43.', 'Indonesian.', 'Russzechatia', 'Jy\"', 'Europe\"}, <', 'Breeany', 'Kia\",', '59\"},', 'Russeden\"']\n",
            "Label     : ['114', 'Macedonia', 'Ukraine', 'Europe</s></s>', '17</s>', 'Japan</s>', 'Albania', '43</s>', 'Indonesian</s>', 'Croatia', 'Italy</s>', 'Europe</s></s>', 'Germany', 'Russia</s>', '59</s>', 'Switzerland</s>']\n",
            "Base Label: ['114', 'France</s></s>', 'Slovak', 'Europe</s></s>', '17</s>', 'France</s></s>', 'India</s>', '43</s>', 'Indonesian</s>', 'Russia</s>', 'Japan</s>', 'Europe</s></s>', 'Bulg', 'Korea', '59</s>', 'Russia</s>']\n"
          ]
        },
        {
          "name": "stderr",
          "output_type": "stream",
          "text": [
            "Epoch: 0:   0%|           | 3/2440 [00:00<04:58,  8.16it/s, loss=3.14, acc=0.45]"
          ]
        },
        {
          "name": "stdout",
          "output_type": "stream",
          "text": [
            "\n",
            "Tokens to intervene:\n",
            "['[{\"city\": \"Rio de Janeiro\", \"timezone\": \"UTC-03:00\"}, {\"city\": \"Cascavel\", \"timezone\": \"UTC', 'city to country: Rome is in Italy. Nigde is in', 'city to country: Rome is in Italy. Caen is in']\n",
            "['[{\"city\": \"Rio de Janeiro\", \"continent\": \"South America\"}, {\"city\": \"Chalkida\", \"continent\": \"', '[{\"city\": \"Bangkok\", \"long\": \"100.5\"}, {\"city\": \"Debrecen\", \"long\": \"', 'the trophy they had won the previous season, defeating Polonia Bytom in the final']\n",
            "Base: ['avel', 'de', 'en', 'ry', 'aco', 'ku', 'ung', 'usa', 'ovo', 'ovo', 'al', 'aya', 'ar', 'ore', 'lier', 'an']\n",
            "Source: ['ida', 'en', 'tom', 'gat', 'az', 'al', 'bon', 'li', 'antes', 'se', 'urg', 'hai', 'bon', 'ovo', 'iga', 'sk']\n",
            "Output: ['-03', 'Turkeyary.', 'France. The', 'Africa\",', 'Colran\",', 'Europe\"}, <', 'Tugal', 'Italian\"},', '321', 'Bmark\"', 'Portermany', 'Indones. The', 'India. The', 'Indiaaria.', '45.', 'Iia\",']\n",
            "Label     : ['-03', 'Hungary</s>', 'Poland</s></s>', 'Africa</s>', 'Iran</s>', 'Europe</s></s>', 'Portugal', 'Italian</s>', '121', 'Denmark</s>', 'Germany', 'China</s></s>', 'Portugal</s></s>', 'Bulgaria</s>', '45</s>', 'Russia</s>']\n",
            "Base Label: ['-03', 'Turkey</s></s>', 'France</s></s>', 'Africa</s>', 'Colombia', 'Europe</s></s>', 'Taiwan', 'Italian</s>', '121', 'Bulg', 'Portugal', 'Indonesia</s>', 'India</s></s>', 'India</s></s>', '45</s>', 'Iran</s>']\n"
          ]
        },
        {
          "name": "stderr",
          "output_type": "stream",
          "text": [
            "Epoch: 0: 100%|████████| 2440/2440 [04:45<00:00,  8.54it/s, loss=0.74, acc=0.64]\n",
            "Epoch: 1:   0%|           | 2/2440 [00:00<05:10,  7.85it/s, loss=0.41, acc=0.88]"
          ]
        },
        {
          "name": "stdout",
          "output_type": "stream",
          "text": [
            "\n",
            "Tokens to intervene:\n",
            "['[{\"city\": \"Oldenburg\", \"continent\": \"', '[{\"city\": \"Rio de Janeiro\", \"timezone\": \"UTC-03:00\"}, {\"city\": \"Mysore\", \"timezone\": \"UTC', '[{\"city\": \"St. Petersburg\", \"country\": \"Russia\"}, {\"city\": \"Rosenheim\", \"country\": \"']\n",
            "['Many of the names in the Karnal area represent', ' indicator of the growing importance of the port of Ahvaz can be gained from', '[{\"city\": \"Bangkok\", \"long\": \"100.5\"}, {\"city\": \"Marseille\", \"long\": \"']\n",
            "Base: ['enburg', 'ore', 'heim', 'ara', 'mund', 'ille', 'ere', 'ble', 'iga', 'hen', 'ining', 'os', 'zburg', 'oder', 'ims', 'an']\n",
            "Source: ['al', 'az', 'ille', 'ra', 'ensk', 'at', 'ai', 'na', 'ry', 'bon', 'zig', 'ble', 'est', 'en', 'ell', 'ong']\n",
            "Output: ['Europe\", <', '+05', 'France\"}, <', 'Ghana.', 'Russia. The', 'Thailand\",', '60.', 'Europe. The', 'Guinea\",', '113', 'Germany', '175', 'Romania', 'France\" <', 'French\"', '51.']\n",
            "Label     : ['Europe</s></s>', '+05', 'France</s></s>', 'Ghana</s>', 'Russia</s></s>', 'Thailand</s>', '60</s>', 'Europe</s></s>', 'Guinea</s>', '113', 'Germany', '-4</s>', 'Romania', 'France</s></s>', 'French</s>', '51</s>']\n",
            "Base Label: ['Europe</s></s>', '+05', 'Germany', 'Italy</s></s>', 'Germany</s></s>', 'France</s></s>', '60</s>', 'Europe</s></s>', 'Latvia</s>', '113', 'China</s>', '-4</s>', 'Germany', 'Albania', 'French</s>', '51</s>']\n",
            "\n",
            "Tokens to intervene:\n",
            "['[{\"city\": \"Paris\", \"country\": \"France\"}, {\"city\": \"Ostersund\", \"country\": \"', ' \"country\": \"United Kingdom\"}, {\"city\": \"Halmstad\", \"language\": \"', '\"lang\": \"English\"}, {\"city\": \"Coimbra\", \"country\": \"']\n",
            "[\"the city's subway system, the Skopje Metro, serves\", 'faculty of higher education located in the Colombian city of Ibague, capital of the department of  Tolima', 'city to country: St. Petersburg is in Russia. Pingtung is in']\n",
            "Base: ['und', 'stad', 'bra', 'hen', 'hai', 'urg', 'lm', 'burg', 'het', 'az', 'gia', 'h', 'u', 'ell', 'na', 'ai']\n",
            "Source: ['je', 'ague', 'ung', 'je', 'ano', 'na', 'ang', 'ern', 'yes', 'abad', 'ala', 'ya', 'stad', 'ai', 'het', 'gat']\n",
            "Output: ['Macedonia', 'Span\", <', 'Taiwan', '39\"},', 'Japan\",', 'Italy\"},', 'Europe\"}, <', 'Switzerland\",', '20\"},', '31.', 'Greece. The', 'Japan\",', 'Asia\"},', 'de\", <', '41.', 'Turkey']\n",
            "Label     : ['Macedonia', 'sv</s></s>', 'Taiwan', '39</s>', 'Japan</s>', 'Italy</s>', 'Europe</s></s>', 'Switzerland</s>', '60</s>', '31</s>', 'Greece</s></s>', 'Japan</s>', 'Asia</s>', 'de</s></s>', '41</s>', 'Turkey']\n",
            "Base Label: ['Sweden</s>', 'sv</s></s>', 'Portugal', '39</s>', 'China</s>', 'Germany', 'Europe</s></s>', 'Germany', '60</s>', '31</s>', 'Italy</s></s>', 'Malaysia', 'Asia</s>', 'de</s></s>', '41</s>', 'Japan</s>']\n"
          ]
        },
        {
          "name": "stderr",
          "output_type": "stream",
          "text": [
            "Epoch: 1:   0%|           | 4/2440 [00:00<04:50,  8.39it/s, loss=0.52, acc=0.79]"
          ]
        },
        {
          "name": "stdout",
          "output_type": "stream",
          "text": [
            "\n",
            "Tokens to intervene:\n",
            "['[{\"city\": \"Daegu\", \"continent\": \"', '[{\"city\": \"Sydney\", \"long\": \"151.2\"}, {\"city\": \"Vyborg\", \"long\": \"', '[{\"city\": \"Buenos Aires\", \"timezone\": \"UTC-03:00\"}, {\"city\": \"Ahvaz\", \"timezone\": \"UTC']\n",
            "['[{\"city\": \"Buenos Aires\", \"continent\": \"South America\"}, {\"city\": \"Belgrade\", \"continent\": \"', '\"lang\": \"English\"}, {\"city\": \"Pitesti\", \"country\": \"', 'Many of the names in the Regensburg area represent']\n",
            "Base: ['egu', 'borg', 'az', 'ara', 'ore', 'abad', 'urn', 'ney', 'an', 'icht', 'ra', 'jo', 'issa', 'ania', 'u', 'en']\n",
            "Source: ['grade', 'esti', 'burg', 'ala', 'asi', 'bra', 'at', 'u', 'tom', 'ble', 'oder', 'hen', 'adi', 'berg', 'ell', 'a']\n",
            "Output: ['Asia\",', '23.', '+03', '45\"},', 'Asia\"},', '23.', 'India. The', '141', 'Asia\"},', 'Dutch. The', 'Albania.', 'Europe. The', '13 <', 'Gian\"', 'Switzerland\"', 'Portugal']\n",
            "Label     : ['Asia</s>', '58</s>', '+03', '45</s>', 'Asia</s>', '23</s>', 'India</s></s>', '151', 'Asia</s>', 'Dutch</s></s>', 'Albania</s>', 'Europe</s></s>', '1</s></s>', 'Italian</s>', 'Switzerland</s>', 'Portugal']\n",
            "Base Label: ['Asia</s>', '58</s>', '+03', '45</s>', 'Asia</s>', '23</s>', 'Switzerland</s></s>', '151', 'Asia</s>', 'Dutch</s></s>', 'Ghana</s>', 'Europe</s></s>', '1</s></s>', 'Italian</s>', 'Japan</s>', 'Hungary']\n"
          ]
        },
        {
          "name": "stderr",
          "output_type": "stream",
          "text": [
            "Epoch: 1: 100%|████████| 2440/2440 [04:45<00:00,  8.55it/s, loss=0.42, acc=0.78]\n",
            "Epoch: 2:   0%|           | 2/2440 [00:00<04:44,  8.58it/s, loss=0.47, acc=0.73]"
          ]
        },
        {
          "name": "stdout",
          "output_type": "stream",
          "text": [
            "\n",
            "Tokens to intervene:\n",
            "['[{\"city\": \"Rome\", \"lat\": \"42\"}, {\"city\": \"Wuhan\", \"lat\": \"', '[{\"city\": \"St. Petersburg\", \"timezone\": \"UTC+03:00\"}, {\"city\": \"Konya\", \"timezone\": \"UTC', '[{\"city\": \"Bergamo\", \"country\": \"']\n",
            "['He was sentenced to serve 12 years in prison at Turku for his murder', '[{\"city\": \"Toronto\", \"lat\": \"43.7\"}, {\"city\": \"Sendai\", \"lat\": \"', '[{\"city\": \"Rio de Janeiro\", \"continent\": \"South America\"}, {\"city\": \"Chainat\", \"continent\": \"']\n",
            "Base: ['han', 'a', 'amo', 'gia', 'in', 'erta', 'ashi', 'en', 'ai', 'na', 'h', 'ore', 'ague', 'han', 'burg', 'hai']\n",
            "Source: ['ku', 'ai', 'at', 'ung', 'ur', 'ung', 'al', 'ne', 'ava', 'hagen', 'li', 'oder', 'aya', 'esti', 'u', 'ag']\n",
            "Output: ['30.', '+03', 'Thailand\",', 'Taiwan', 'India. The', 'Taiwan', 'Japanese', 'Mali\",', 'Slovak', '22.', 'Turkey. The', 'Asia\"},', '-03', 'Chinese\"', '+01', 'Poland\",']\n",
            "Label     : ['39</s>', '+03', 'Thailand</s>', 'Taiwan', 'India</s></s>', 'Taiwan', 'Japanese', 'Mali</s>', 'Slovak', '23</s>', 'Turkey</s></s>', 'Asia</s>', '-03', 'Chinese</s>', '+01', 'Poland</s>']\n",
            "Base Label: ['39</s>', '+03', 'Italy</s>', 'Italy</s>', 'Colombia</s></s>', 'Italy</s>', 'Japanese', 'France</s></s>', 'Japan</s>', '23</s>', 'Malaysia</s>', 'Asia</s>', '-03', 'Chinese</s>', '+01', 'China</s>']\n",
            "\n",
            "Tokens to intervene:\n",
            "['[{\"city\": \"St. Petersburg\", \"country\": \"Russia\"}, {\"city\": \"Karachi\", \"country\": \"', '[{\"city\": \"Odense\", \"country\": \"', 'city to country: St. Petersburg is in Russia. Oita is in']\n",
            "[' when Ahvaz was nothing more than a hayfield', 'city to country: St. Petersburg is in Russia. Durres is in', '[{\"city\": \"Bangkok\", \"long\": \"100.5\"}, {\"city\": \"Debrecen\", \"long\": \"']\n",
            "Base: ['achi', 'se', 'ita', 'u', 'yz', 'a', 'ville', 'rey', 'jan', 'hen', 'rey', 'ia', 'bon', 'ining', 'ologne', 'ano']\n",
            "Source: ['az', 'res', 'en', 'ne', 'gia', 'heim', 'feld', 'urg', 'ala', 'an', 'est', 'un', 'al', 'aha', 'yz', 'un']\n",
            "Output: ['Iran\"},', 'Albania', 'Hungary.', '59.', 'Italy\",', 'Gurkish', '10.', 'Germany', '57\"},', 'Iran\",', 'Romania', '30\"},', 'India\",', '100', '51\"},', 'Japanese']\n",
            "Label     : ['Iran</s>', 'Albania', 'Hungary</s>', '59</s>', 'Italy</s>', 'Turkish', '10</s>', 'Germany', '10</s>', 'Iran</s>', 'Romania', '40</s>', 'India</s>', '100', '50</s>', 'Japanese']\n",
            "Base Label: ['Pakistan', 'Denmark</s>', 'Japan</s></s>', '59</s>', 'Switzerland</s>', 'Turkish', '10</s>', 'Mexico', '10</s>', 'China</s>', 'Mexico', '40</s>', 'Portugal', '100', '50</s>', 'Japanese']\n"
          ]
        },
        {
          "name": "stderr",
          "output_type": "stream",
          "text": [
            "Epoch: 2:   0%|            | 4/2440 [00:00<04:47,  8.47it/s, loss=0.4, acc=0.78]"
          ]
        },
        {
          "name": "stdout",
          "output_type": "stream",
          "text": [
            "\n",
            "Tokens to intervene:\n",
            "['city to country: St. Petersburg is in Russia. Ulm is in', '[{\"city\": \"Kuala Lumpur\", \"lang\": \"Malay\"}, {\"city\": \"Busan\", \"lang\": \"', '[{\"city\": \"St. Petersburg\", \"country\": \"Russia\"}, {\"city\": \"Montpellier\", \"country\": \"']\n",
            "['[{\"city\": \"Bangkok\", \"long\": \"100.5\"}, {\"city\": \"Ranong\", \"long\": \"', '[{\"city\": \"Toronto\", \"lat\": \"43.7\"}, {\"city\": \"Conakry\", \"lat\": \"', ' \"long\": \"122.4\"}, {\"city\": \"Madiun\", \"long\": \"']\n",
            "Base: ['m', 'an', 'lier', 'asi', 'az', 'hen', 'urg', 'illy', 'ansk', 'anga', 'ang', 'en', 'ne', 'al', 'en', 'anga']\n",
            "Source: ['ong', 'ry', 'un', 'ne', 'i', 'en', 'iu', 'un', 'ims', 'ining', 'ashi', 'issa', 'feld', 'ung', 'ur', 'itar']\n",
            "Output: ['Thailand.', 'Korean', 'Franceonesia', 'Alali\"},', 'Finland. The', 'Chongary', '53\"},', '29\"},', 'France\", <', '+12', 'Japaneseatak', 'Kenya', '50.', 'Taiwan', '19.', '172']\n",
            "Label     : ['Thailand</s>', 'Korean', 'Indonesia', 'Mali</s>', 'Finland</s></s>', 'Hungary', '53</s>', '29</s>', 'France</s></s>', '+12', 'Batak', 'Kenya', '13</s>', 'Taiwan', '17</s>', '178']\n",
            "Base Label: ['Germany</s></s>', 'Korean', 'France</s></s>', 'Romania', 'Iran</s></s>', 'China</s>', '53</s>', '29</s>', 'Russia</s>', '+12', 'Batak', 'France</s></s>', '13</s>', 'India</s>', '17</s>', '178']\n"
          ]
        },
        {
          "name": "stderr",
          "output_type": "stream",
          "text": [
            "Epoch: 2: 100%|████████| 2440/2440 [04:45<00:00,  8.54it/s, loss=0.35, acc=0.83]\n",
            "Epoch: 100%|█████████████████████████████████████| 3/3 [14:16<00:00, 285.58s/it]\n"
          ]
        },
        {
          "name": "stdout",
          "output_type": "stream",
          "text": [
            "Model saved to /scr-ssd/hij/models/tinyllama-layer14-dim64-multitask_daslora_3tok_Country_ex_Continent+Latitude+Longitude+Language+Timezone_len48_pose_ep3_cause20000_iso4000.pt\n"
          ]
        },
        {
          "name": "stderr",
          "output_type": "stream",
          "text": [
            "Map: 100%|████████████████████████████| 546/546 [00:00<00:00, 773.92 examples/s]\n",
            "Map: 100%|███████████████████████████| 546/546 [00:00<00:00, 7094.65 examples/s]\n"
          ]
        },
        {
          "name": "stdout",
          "output_type": "stream",
          "text": [
            "\n",
            " 'city: %s, country:-val': {'base_labels': {'accuracy': 0.17, 'token_accuracy': 0.17}, 'labels': {'accuracy': 0.76, 'token_accuracy': 0.73}}\n"
          ]
        },
        {
          "name": "stderr",
          "output_type": "stream",
          "text": [
            "Map: 100%|████████████████████████████| 551/551 [00:00<00:00, 767.68 examples/s]\n",
            "Map: 100%|███████████████████████████| 551/551 [00:00<00:00, 7299.10 examples/s]\n"
          ]
        },
        {
          "name": "stdout",
          "output_type": "stream",
          "text": [
            "\n",
            " '[{\"city\": \"Hong Kong\", \"country\": \"China\"}, {\"city\": \"%s\", \"country\": \"-test': {'base_labels': {'accuracy': 0.23, 'token_accuracy': 0.23}, 'labels': {'accuracy': 0.67, 'token_accuracy': 0.69}}\n"
          ]
        },
        {
          "name": "stderr",
          "output_type": "stream",
          "text": [
            "Map: 100%|████████████████████████████| 550/550 [00:00<00:00, 767.10 examples/s]\n",
            "Map: 100%|███████████████████████████| 550/550 [00:00<00:00, 7521.43 examples/s]\n"
          ]
        },
        {
          "name": "stdout",
          "output_type": "stream",
          "text": [
            "\n",
            " '[{\"city\": \"Beijing\", \"country\": \"China\"}, {\"city\": \"%s\", \"country\": \"-val': {'base_labels': {'accuracy': 0.15, 'token_accuracy': 0.15}, 'labels': {'accuracy': 0.77, 'token_accuracy': 0.77}}\n"
          ]
        },
        {
          "name": "stderr",
          "output_type": "stream",
          "text": [
            "Map: 100%|████████████████████████████| 533/533 [00:00<00:00, 769.80 examples/s]\n",
            "Map: 100%|███████████████████████████| 533/533 [00:00<00:00, 6779.78 examples/s]\n"
          ]
        },
        {
          "name": "stdout",
          "output_type": "stream",
          "text": [
            "\n",
            " 'city to country: Sydney is in Australia. %s is in-test': {'base_labels': {'accuracy': 0.09, 'token_accuracy': 0.1}, 'labels': {'accuracy': 0.82, 'token_accuracy': 0.79}}\n"
          ]
        },
        {
          "name": "stderr",
          "output_type": "stream",
          "text": [
            "Map: 100%|████████████████████████████| 550/550 [00:00<00:00, 767.56 examples/s]\n",
            "Map: 100%|███████████████████████████| 550/550 [00:00<00:00, 7322.76 examples/s]\n"
          ]
        },
        {
          "name": "stdout",
          "output_type": "stream",
          "text": [
            "\n",
            " '[{\"city\": \"Sydney\", \"country\": \"Australia\"}, {\"city\": \"%s\", \"country\": \"-test': {'base_labels': {'accuracy': 0.18, 'token_accuracy': 0.19}, 'labels': {'accuracy': 0.72, 'token_accuracy': 0.72}}\n"
          ]
        },
        {
          "name": "stderr",
          "output_type": "stream",
          "text": [
            "Map: 100%|████████████████████████████| 536/536 [00:00<00:00, 549.01 examples/s]\n",
            "Map: 100%|███████████████████████████| 536/536 [00:00<00:00, 7192.99 examples/s]\n"
          ]
        },
        {
          "name": "stdout",
          "output_type": "stream",
          "text": [
            "\n",
            " '[{\"city\": \"Bangkok\", \"country\": \"Thailand\"}, {\"city\": \"%s\", \"country\": \"-test': {'base_labels': {'accuracy': 0.18, 'token_accuracy': 0.19}, 'labels': {'accuracy': 0.76, 'token_accuracy': 0.78}}\n"
          ]
        },
        {
          "name": "stderr",
          "output_type": "stream",
          "text": [
            "Map: 100%|████████████████████████████| 294/294 [00:00<00:00, 771.39 examples/s]\n",
            "Map: 100%|███████████████████████████| 294/294 [00:00<00:00, 6614.84 examples/s]\n"
          ]
        },
        {
          "name": "stdout",
          "output_type": "stream",
          "text": [
            "\n",
            " ' \"language\": \"English\"}, {\"city\": \"%s\", \"continent\": \"-test': {'base_labels': {'accuracy': 0.87, 'token_accuracy': 0.88}, 'labels': {'accuracy': 0.12, 'token_accuracy': 0.14}}\n"
          ]
        },
        {
          "name": "stderr",
          "output_type": "stream",
          "text": [
            "Map: 100%|████████████████████████████| 346/346 [00:00<00:00, 777.39 examples/s]\n",
            "Map: 100%|███████████████████████████| 346/346 [00:00<00:00, 7336.55 examples/s]\n"
          ]
        },
        {
          "name": "stdout",
          "output_type": "stream",
          "text": [
            "\n",
            " 'city: %s, continent:-test': {'base_labels': {'accuracy': 0.8, 'token_accuracy': 0.8}, 'labels': {'accuracy': 0.18, 'token_accuracy': 0.15}}\n"
          ]
        },
        {
          "name": "stderr",
          "output_type": "stream",
          "text": [
            "Map: 100%|████████████████████████████| 343/343 [00:00<00:00, 769.84 examples/s]\n",
            "Map: 100%|███████████████████████████| 343/343 [00:00<00:00, 6277.04 examples/s]\n"
          ]
        },
        {
          "name": "stdout",
          "output_type": "stream",
          "text": [
            "\n",
            " '[{\"city\": \"Los Angeles\", \"continent\": \"North America\"}, {\"city\": \"%s\", \"continent\": \"-test': {'base_labels': {'accuracy': 0.93, 'token_accuracy': 0.92}, 'labels': {'accuracy': 0.06, 'token_accuracy': 0.05}}\n"
          ]
        },
        {
          "name": "stderr",
          "output_type": "stream",
          "text": [
            "Map: 100%|████████████████████████████| 303/303 [00:00<00:00, 768.81 examples/s]\n",
            "Map: 100%|███████████████████████████| 303/303 [00:00<00:00, 6086.10 examples/s]\n"
          ]
        },
        {
          "name": "stdout",
          "output_type": "stream",
          "text": [
            "\n",
            " '[{\"city\": \"Mexico City\", \"continent\": \"North America\"}, {\"city\": \"%s\", \"continent\": \"-val': {'base_labels': {'accuracy': 0.96, 'token_accuracy': 0.96}, 'labels': {'accuracy': 0.03, 'token_accuracy': 0.02}}\n"
          ]
        },
        {
          "name": "stderr",
          "output_type": "stream",
          "text": [
            "Map: 100%|████████████████████████████| 325/325 [00:00<00:00, 775.82 examples/s]\n",
            "Map: 100%|███████████████████████████| 325/325 [00:00<00:00, 6511.56 examples/s]\n"
          ]
        },
        {
          "name": "stdout",
          "output_type": "stream",
          "text": [
            "\n",
            " '%s is a city located in the continent of-val': {'base_labels': {'accuracy': 0.8, 'token_accuracy': 0.79}, 'labels': {'accuracy': 0.13, 'token_accuracy': 0.1}}\n"
          ]
        },
        {
          "name": "stderr",
          "output_type": "stream",
          "text": [
            "Map: 100%|████████████████████████████| 603/603 [00:00<00:00, 767.33 examples/s]\n",
            "Map: 100%|███████████████████████████| 603/603 [00:00<00:00, 7166.97 examples/s]\n"
          ]
        },
        {
          "name": "stdout",
          "output_type": "stream",
          "text": [
            "\n",
            " '[{\"city\": \"St. Petersburg\", \"lat\": \"59.9\"}, {\"city\": \"%s\", \"lat\": \"-test': {'base_labels': {'accuracy': 0.58, 'token_accuracy': 0.7}, 'labels': {'accuracy': 0.05, 'token_accuracy': 0.17}}\n"
          ]
        },
        {
          "name": "stderr",
          "output_type": "stream",
          "text": [
            "Map: 100%|████████████████████████████| 599/599 [00:00<00:00, 773.65 examples/s]\n",
            "Map: 100%|███████████████████████████| 599/599 [00:00<00:00, 7041.51 examples/s]\n"
          ]
        },
        {
          "name": "stdout",
          "output_type": "stream",
          "text": [
            "\n",
            " '[{\"city\": \"Paris\", \"lat\": \"49\"}, {\"city\": \"%s\", \"lat\": \"-test': {'base_labels': {'accuracy': 0.55, 'token_accuracy': 0.71}, 'labels': {'accuracy': 0.02, 'token_accuracy': 0.19}}\n"
          ]
        },
        {
          "name": "stderr",
          "output_type": "stream",
          "text": [
            "Map: 100%|████████████████████████████| 598/598 [00:00<00:00, 771.97 examples/s]\n",
            "Map: 100%|███████████████████████████| 598/598 [00:00<00:00, 7689.39 examples/s]\n"
          ]
        },
        {
          "name": "stdout",
          "output_type": "stream",
          "text": [
            "\n",
            " '[{\"city\": \"Paris\", \"lat\": \"48.9\"}, {\"city\": \"%s\", \"lat\": \"-test': {'base_labels': {'accuracy': 0.57, 'token_accuracy': 0.71}, 'labels': {'accuracy': 0.02, 'token_accuracy': 0.16}}\n"
          ]
        },
        {
          "name": "stderr",
          "output_type": "stream",
          "text": [
            "Map: 100%|████████████████████████████| 603/603 [00:00<00:00, 768.52 examples/s]\n",
            "Map: 100%|███████████████████████████| 603/603 [00:00<00:00, 7244.48 examples/s]\n"
          ]
        },
        {
          "name": "stdout",
          "output_type": "stream",
          "text": [
            "\n",
            " '[{\"city\": \"Beijing\", \"lat\": \"39.9\"}, {\"city\": \"%s\", \"lat\": \"-val': {'base_labels': {'accuracy': 0.58, 'token_accuracy': 0.73}, 'labels': {'accuracy': 0.03, 'token_accuracy': 0.18}}\n"
          ]
        },
        {
          "name": "stderr",
          "output_type": "stream",
          "text": [
            "Map: 100%|████████████████████████████| 582/582 [00:00<00:00, 783.83 examples/s]\n",
            "Map: 100%|███████████████████████████| 582/582 [00:00<00:00, 7238.94 examples/s]\n"
          ]
        },
        {
          "name": "stdout",
          "output_type": "stream",
          "text": [
            "\n",
            " 'city: %s, latitude: (-test': {'base_labels': {'accuracy': 0.45, 'token_accuracy': 0.6}, 'labels': {'accuracy': 0.05, 'token_accuracy': 0.23}}\n"
          ]
        },
        {
          "name": "stderr",
          "output_type": "stream",
          "text": [
            "Map: 100%|████████████████████████████| 596/596 [00:00<00:00, 772.23 examples/s]\n",
            "Map: 100%|███████████████████████████| 596/596 [00:00<00:00, 7657.87 examples/s]\n"
          ]
        },
        {
          "name": "stdout",
          "output_type": "stream",
          "text": [
            "\n",
            " '[{\"city\": \"Tokyo\", \"lat\": \"36\"}, {\"city\": \"%s\", \"lat\": \"-test': {'base_labels': {'accuracy': 0.58, 'token_accuracy': 0.72}, 'labels': {'accuracy': 0.02, 'token_accuracy': 0.18}}\n"
          ]
        },
        {
          "name": "stderr",
          "output_type": "stream",
          "text": [
            "Map: 100%|████████████████████████████| 595/595 [00:00<00:00, 769.78 examples/s]\n",
            "Map: 100%|███████████████████████████| 595/595 [00:00<00:00, 7303.54 examples/s]\n"
          ]
        },
        {
          "name": "stdout",
          "output_type": "stream",
          "text": [
            "\n",
            " 'SF has a longitude of 122.4194° W. %s has a longitude of -val': {'base_labels': {'accuracy': 0.53, 'token_accuracy': 0.71}, 'labels': {'accuracy': 0.07, 'token_accuracy': 0.28}}\n"
          ]
        },
        {
          "name": "stderr",
          "output_type": "stream",
          "text": [
            "Map: 100%|████████████████████████████| 593/593 [00:00<00:00, 778.72 examples/s]\n",
            "Map: 100%|███████████████████████████| 593/593 [00:00<00:00, 7194.12 examples/s]\n"
          ]
        },
        {
          "name": "stdout",
          "output_type": "stream",
          "text": [
            "\n",
            " 'city: %s, longitude: -test': {'base_labels': {'accuracy': 0.4, 'token_accuracy': 0.62}, 'labels': {'accuracy': 0.04, 'token_accuracy': 0.21}}\n"
          ]
        },
        {
          "name": "stderr",
          "output_type": "stream",
          "text": [
            "Map: 100%|████████████████████████████| 589/589 [00:00<00:00, 769.28 examples/s]\n",
            "Map: 100%|███████████████████████████| 589/589 [00:00<00:00, 7703.00 examples/s]\n"
          ]
        },
        {
          "name": "stdout",
          "output_type": "stream",
          "text": [
            "\n",
            " ' \"lat\": \"37.7749° N\"}, {\"city\": \"%s\", \"long\": \"-test': {'base_labels': {'accuracy': 0.46, 'token_accuracy': 0.66}, 'labels': {'accuracy': 0.03, 'token_accuracy': 0.2}}\n"
          ]
        },
        {
          "name": "stderr",
          "output_type": "stream",
          "text": [
            "Map: 100%|████████████████████████████| 601/601 [00:00<00:00, 768.53 examples/s]\n",
            "Map: 100%|███████████████████████████| 601/601 [00:00<00:00, 1679.67 examples/s]\n"
          ]
        },
        {
          "name": "stdout",
          "output_type": "stream",
          "text": [
            "\n",
            " '[{\"city\": \"Kuala Lumpur\", \"long\": \"101.7\"}, {\"city\": \"%s\", \"long\": \"-test': {'base_labels': {'accuracy': 0.51, 'token_accuracy': 0.68}, 'labels': {'accuracy': 0.04, 'token_accuracy': 0.19}}\n"
          ]
        },
        {
          "name": "stderr",
          "output_type": "stream",
          "text": [
            "Map: 100%|████████████████████████████| 609/609 [00:00<00:00, 767.68 examples/s]\n",
            "Map: 100%|███████████████████████████| 609/609 [00:00<00:00, 7752.35 examples/s]\n"
          ]
        },
        {
          "name": "stdout",
          "output_type": "stream",
          "text": [
            "\n",
            " '[{\"city\": \"San Francisco\", \"long\": \"122.4\"}, {\"city\": \"%s\", \"long\": \"-test': {'base_labels': {'accuracy': 0.44, 'token_accuracy': 0.63}, 'labels': {'accuracy': 0.02, 'token_accuracy': 0.17}}\n"
          ]
        },
        {
          "name": "stderr",
          "output_type": "stream",
          "text": [
            "Map: 100%|████████████████████████████| 520/520 [00:00<00:00, 782.89 examples/s]\n",
            "Map: 100%|███████████████████████████| 520/520 [00:00<00:00, 7490.52 examples/s]\n"
          ]
        },
        {
          "name": "stdout",
          "output_type": "stream",
          "text": [
            "\n",
            " 'The longitude of %s is -val': {'base_labels': {'accuracy': 0.4, 'token_accuracy': 0.62}, 'labels': {'accuracy': 0.05, 'token_accuracy': 0.28}}\n"
          ]
        },
        {
          "name": "stderr",
          "output_type": "stream",
          "text": [
            "Map: 100%|████████████████████████████| 590/590 [00:00<00:00, 770.53 examples/s]\n",
            "Map: 100%|███████████████████████████| 590/590 [00:00<00:00, 7621.76 examples/s]\n"
          ]
        },
        {
          "name": "stdout",
          "output_type": "stream",
          "text": [
            "\n",
            " \"The city of %s's official language is-val\": {'base_labels': {'accuracy': 0.71, 'token_accuracy': 0.68}, 'labels': {'accuracy': 0.2, 'token_accuracy': 0.17}}\n"
          ]
        },
        {
          "name": "stderr",
          "output_type": "stream",
          "text": [
            "Map: 100%|████████████████████████████| 584/584 [00:00<00:00, 760.66 examples/s]\n",
            "Map: 100%|███████████████████████████| 584/584 [00:00<00:00, 7228.31 examples/s]\n"
          ]
        },
        {
          "name": "stdout",
          "output_type": "stream",
          "text": [
            "\n",
            " ' \"continent\": \"Asia\"}, {\"city\": \"%s\", \"language\": \"-test': {'base_labels': {'accuracy': 0.57, 'token_accuracy': 0.58}, 'labels': {'accuracy': 0.18, 'token_accuracy': 0.2}}\n"
          ]
        },
        {
          "name": "stderr",
          "output_type": "stream",
          "text": [
            "Map: 100%|████████████████████████████| 593/593 [00:00<00:00, 756.27 examples/s]\n",
            "Map: 100%|███████████████████████████| 593/593 [00:00<00:00, 7680.00 examples/s]\n"
          ]
        },
        {
          "name": "stdout",
          "output_type": "stream",
          "text": [
            "\n",
            " '[{\"city\": \"Bangkok\", \"lang\": \"Thai\"}, {\"city\": \"%s\", \"lang\": \"-test': {'base_labels': {'accuracy': 0.64, 'token_accuracy': 0.62}, 'labels': {'accuracy': 0.21, 'token_accuracy': 0.22}}\n"
          ]
        },
        {
          "name": "stderr",
          "output_type": "stream",
          "text": [
            "Map: 100%|████████████████████████████| 584/584 [00:00<00:00, 757.52 examples/s]\n",
            "Map: 100%|███████████████████████████| 584/584 [00:00<00:00, 7328.00 examples/s]\n"
          ]
        },
        {
          "name": "stdout",
          "output_type": "stream",
          "text": [
            "\n",
            " 'People in Hong Kong speak Chinese, English. People in %s speak-test': {'base_labels': {'accuracy': 0.64, 'token_accuracy': 0.6}, 'labels': {'accuracy': 0.26, 'token_accuracy': 0.21}}\n"
          ]
        },
        {
          "name": "stderr",
          "output_type": "stream",
          "text": [
            "Map: 100%|████████████████████████████| 393/393 [00:00<00:00, 758.94 examples/s]\n",
            "Map: 100%|███████████████████████████| 393/393 [00:00<00:00, 6962.51 examples/s]\n"
          ]
        },
        {
          "name": "stdout",
          "output_type": "stream",
          "text": [
            "\n",
            " \"The city of %s's government offer services in the following languages:-test\": {'base_labels': {'accuracy': 0.4, 'token_accuracy': 0.37}, 'labels': {'accuracy': 0.07, 'token_accuracy': 0.05}}\n"
          ]
        },
        {
          "name": "stderr",
          "output_type": "stream",
          "text": [
            "Map: 100%|████████████████████████████| 594/594 [00:00<00:00, 762.06 examples/s]\n",
            "Map: 100%|███████████████████████████| 594/594 [00:00<00:00, 7696.90 examples/s]\n"
          ]
        },
        {
          "name": "stdout",
          "output_type": "stream",
          "text": [
            "\n",
            " 'People in Beijing speak Chinese. People in %s speak-test': {'base_labels': {'accuracy': 0.57, 'token_accuracy': 0.53}, 'labels': {'accuracy': 0.3, 'token_accuracy': 0.24}}\n"
          ]
        },
        {
          "name": "stderr",
          "output_type": "stream",
          "text": [
            "Map: 100%|████████████████████████████| 580/580 [00:00<00:00, 761.18 examples/s]\n",
            "Map: 100%|███████████████████████████| 580/580 [00:00<00:00, 7382.66 examples/s]\n"
          ]
        },
        {
          "name": "stdout",
          "output_type": "stream",
          "text": [
            "\n",
            " 'People in St. Petersburg speak Russian. People in %s speak-val': {'base_labels': {'accuracy': 0.46, 'token_accuracy': 0.43}, 'labels': {'accuracy': 0.43, 'token_accuracy': 0.36}}\n"
          ]
        },
        {
          "name": "stderr",
          "output_type": "stream",
          "text": [
            "Map: 100%|██████████████████████████████| 13/13 [00:00<00:00, 574.32 examples/s]\n",
            "Map: 100%|█████████████████████████████| 13/13 [00:00<00:00, 1273.61 examples/s]\n"
          ]
        },
        {
          "name": "stdout",
          "output_type": "stream",
          "text": [
            "\n",
            " 'The IANA time zone identifier for %s is-test': {'base_labels': {'accuracy': 0.23, 'token_accuracy': 0.21}, 'labels': {'accuracy': 0.15, 'token_accuracy': 0.16}}\n"
          ]
        },
        {
          "name": "stderr",
          "output_type": "stream",
          "text": [
            "Map: 100%|████████████████████████████| 544/544 [00:00<00:00, 746.46 examples/s]\n",
            "Map: 100%|███████████████████████████| 544/544 [00:00<00:00, 7600.15 examples/s]\n"
          ]
        },
        {
          "name": "stdout",
          "output_type": "stream",
          "text": [
            "\n",
            " '[{\"city\": \"Paris\", \"timezone\": \"UTC+01:00\"}, {\"city\": \"%s\", \"timezone\": \"UTC-test': {'base_labels': {'accuracy': 0.81, 'token_accuracy': 0.93}, 'labels': {'accuracy': 0.03, 'token_accuracy': 0.6}}\n"
          ]
        },
        {
          "name": "stderr",
          "output_type": "stream",
          "text": [
            "Map: 100%|████████████████████████████| 562/562 [00:00<00:00, 745.86 examples/s]\n",
            "Map: 100%|███████████████████████████| 562/562 [00:00<00:00, 7275.66 examples/s]\n"
          ]
        },
        {
          "name": "stdout",
          "output_type": "stream",
          "text": [
            "\n",
            " '[{\"city\": \"Rome\", \"timezone\": \"UTC+02:00\"}, {\"city\": \"%s\", \"timezone\": \"UTC-val': {'base_labels': {'accuracy': 0.76, 'token_accuracy': 0.91}, 'labels': {'accuracy': 0.05, 'token_accuracy': 0.6}}\n"
          ]
        },
        {
          "name": "stderr",
          "output_type": "stream",
          "text": [
            "Map: 100%|████████████████████████████| 585/585 [00:00<00:00, 765.28 examples/s]\n",
            "Map: 100%|███████████████████████████| 585/585 [00:00<00:00, 7658.69 examples/s]\n"
          ]
        },
        {
          "name": "stdout",
          "output_type": "stream",
          "text": [
            "\n",
            " 'city: %s, timezone: UTC-test': {'base_labels': {'accuracy': 0.57, 'token_accuracy': 0.77}, 'labels': {'accuracy': 0.07, 'token_accuracy': 0.51}}\n"
          ]
        },
        {
          "name": "stderr",
          "output_type": "stream",
          "text": [
            "Map: 100%|████████████████████████████| 313/313 [00:00<00:00, 759.80 examples/s]\n",
            "Map: 100%|███████████████████████████| 313/313 [00:00<00:00, 7320.68 examples/s]\n"
          ]
        },
        {
          "name": "stdout",
          "output_type": "stream",
          "text": [
            "\n",
            " 'city: %s, UTC offset:-test': {'base_labels': {'accuracy': 0.61, 'token_accuracy': 0.77}, 'labels': {'accuracy': 0.07, 'token_accuracy': 0.44}}\n"
          ]
        },
        {
          "name": "stderr",
          "output_type": "stream",
          "text": [
            "Map: 100%|████████████████████████████| 559/559 [00:00<00:00, 760.70 examples/s]\n",
            "Map: 100%|███████████████████████████| 559/559 [00:00<00:00, 7628.59 examples/s]\n"
          ]
        },
        {
          "name": "stdout",
          "output_type": "stream",
          "text": [
            "\n",
            " '[{\"city\": \"%s\", \"timezone\": \"UTC-val': {'base_labels': {'accuracy': 0.64, 'token_accuracy': 0.84}, 'labels': {'accuracy': 0.06, 'token_accuracy': 0.54}}\n"
          ]
        },
        {
          "name": "stderr",
          "output_type": "stream",
          "text": [
            "Map: 100%|████████████████████████████| 552/552 [00:00<00:00, 743.55 examples/s]\n",
            "Map: 100%|███████████████████████████| 552/552 [00:00<00:00, 1825.20 examples/s]\n"
          ]
        },
        {
          "name": "stdout",
          "output_type": "stream",
          "text": [
            "\n",
            " '[{\"city\": \"Rome\", \"timezone\": \"UTC+1:00\"}, {\"city\": \"%s\", \"timezone\": \"UTC-val': {'base_labels': {'accuracy': 0.83, 'token_accuracy': 0.93}, 'labels': {'accuracy': 0.04, 'token_accuracy': 0.54}}\n"
          ]
        },
        {
          "name": "stderr",
          "output_type": "stream",
          "text": [
            "Map: 100%|████████████████████████████| 301/301 [00:00<00:00, 740.58 examples/s]\n",
            "Map: 100%|███████████████████████████| 301/301 [00:00<00:00, 6061.63 examples/s]\n"
          ]
        },
        {
          "name": "stdout",
          "output_type": "stream",
          "text": [
            "\n",
            " '[{\"city\": \"St. Petersburg\", \"country\": \"Russia\"}, {\"city\": \"%s\", \"country\": \"-test': {'base_labels': {'accuracy': 0.47, 'token_accuracy': 0.45}, 'labels': {'accuracy': 0.36, 'token_accuracy': 0.34}}\n"
          ]
        },
        {
          "name": "stderr",
          "output_type": "stream",
          "text": [
            "Map: 100%|████████████████████████████| 430/430 [00:00<00:00, 744.08 examples/s]\n",
            "Map: 100%|███████████████████████████| 430/430 [00:00<00:00, 7049.83 examples/s]\n"
          ]
        },
        {
          "name": "stdout",
          "output_type": "stream",
          "text": [
            "\n",
            " '[{\"city\": \"St. Petersburg\", \"country\": \"Russia\"}, {\"city\": \"%s\", \"country\": \"-val': {'base_labels': {'accuracy': 0.43, 'token_accuracy': 0.41}, 'labels': {'accuracy': 0.41, 'token_accuracy': 0.41}}\n"
          ]
        },
        {
          "name": "stderr",
          "output_type": "stream",
          "text": [
            "Map: 100%|████████████████████████████| 304/304 [00:00<00:00, 756.54 examples/s]\n",
            "Map: 100%|███████████████████████████| 304/304 [00:00<00:00, 7227.95 examples/s]\n"
          ]
        },
        {
          "name": "stdout",
          "output_type": "stream",
          "text": [
            "\n",
            " '\"lang\": \"English\"}, {\"city\": \"%s\", \"country\": \"-test': {'base_labels': {'accuracy': 0.41, 'token_accuracy': 0.41}, 'labels': {'accuracy': 0.48, 'token_accuracy': 0.47}}\n"
          ]
        },
        {
          "name": "stderr",
          "output_type": "stream",
          "text": [
            "Map: 100%|████████████████████████████| 423/423 [00:00<00:00, 756.52 examples/s]\n",
            "Map: 100%|███████████████████████████| 423/423 [00:00<00:00, 7474.52 examples/s]\n"
          ]
        },
        {
          "name": "stdout",
          "output_type": "stream",
          "text": [
            "\n",
            " '\"lang\": \"English\"}, {\"city\": \"%s\", \"country\": \"-val': {'base_labels': {'accuracy': 0.39, 'token_accuracy': 0.37}, 'labels': {'accuracy': 0.49, 'token_accuracy': 0.48}}\n"
          ]
        },
        {
          "name": "stderr",
          "output_type": "stream",
          "text": [
            "Map: 100%|████████████████████████████| 305/305 [00:00<00:00, 751.16 examples/s]\n",
            "Map: 100%|███████████████████████████| 305/305 [00:00<00:00, 6262.12 examples/s]\n"
          ]
        },
        {
          "name": "stdout",
          "output_type": "stream",
          "text": [
            "\n",
            " 'city to country: St. Petersburg is in Russia. %s is in-test': {'base_labels': {'accuracy': 0.38, 'token_accuracy': 0.4}, 'labels': {'accuracy': 0.51, 'token_accuracy': 0.48}}\n"
          ]
        },
        {
          "name": "stderr",
          "output_type": "stream",
          "text": [
            "Map: 100%|████████████████████████████| 431/431 [00:00<00:00, 749.91 examples/s]\n",
            "Map: 100%|███████████████████████████| 431/431 [00:00<00:00, 7427.79 examples/s]\n"
          ]
        },
        {
          "name": "stdout",
          "output_type": "stream",
          "text": [
            "\n",
            " 'city to country: St. Petersburg is in Russia. %s is in-val': {'base_labels': {'accuracy': 0.35, 'token_accuracy': 0.36}, 'labels': {'accuracy': 0.53, 'token_accuracy': 0.47}}\n"
          ]
        },
        {
          "name": "stderr",
          "output_type": "stream",
          "text": [
            "Map: 100%|████████████████████████████| 312/312 [00:00<00:00, 763.37 examples/s]\n",
            "Map: 100%|███████████████████████████| 312/312 [00:00<00:00, 7321.66 examples/s]\n"
          ]
        },
        {
          "name": "stdout",
          "output_type": "stream",
          "text": [
            "\n",
            " '[{\"city\": \"%s\", \"country\": \"-test': {'base_labels': {'accuracy': 0.43, 'token_accuracy': 0.44}, 'labels': {'accuracy': 0.44, 'token_accuracy': 0.44}}\n"
          ]
        },
        {
          "name": "stderr",
          "output_type": "stream",
          "text": [
            "Map: 100%|████████████████████████████| 442/442 [00:00<00:00, 757.19 examples/s]\n",
            "Map: 100%|███████████████████████████| 442/442 [00:00<00:00, 7082.08 examples/s]\n"
          ]
        },
        {
          "name": "stdout",
          "output_type": "stream",
          "text": [
            "\n",
            " '[{\"city\": \"%s\", \"country\": \"-val': {'base_labels': {'accuracy': 0.46, 'token_accuracy': 0.45}, 'labels': {'accuracy': 0.38, 'token_accuracy': 0.38}}\n"
          ]
        },
        {
          "name": "stderr",
          "output_type": "stream",
          "text": [
            "Map: 100%|████████████████████████████| 307/307 [00:00<00:00, 748.58 examples/s]\n",
            "Map: 100%|███████████████████████████| 307/307 [00:00<00:00, 7263.38 examples/s]\n"
          ]
        },
        {
          "name": "stdout",
          "output_type": "stream",
          "text": [
            "\n",
            " '[{\"city\": \"Paris\", \"country\": \"France\"}, {\"city\": \"%s\", \"country\": \"-test': {'base_labels': {'accuracy': 0.5, 'token_accuracy': 0.49}, 'labels': {'accuracy': 0.35, 'token_accuracy': 0.35}}\n"
          ]
        },
        {
          "name": "stderr",
          "output_type": "stream",
          "text": [
            "Map: 100%|████████████████████████████| 417/417 [00:00<00:00, 742.15 examples/s]\n",
            "Map: 100%|███████████████████████████| 417/417 [00:00<00:00, 7313.08 examples/s]\n"
          ]
        },
        {
          "name": "stdout",
          "output_type": "stream",
          "text": [
            "\n",
            " '[{\"city\": \"Paris\", \"country\": \"France\"}, {\"city\": \"%s\", \"country\": \"-val': {'base_labels': {'accuracy': 0.44, 'token_accuracy': 0.41}, 'labels': {'accuracy': 0.45, 'token_accuracy': 0.44}}\n"
          ]
        },
        {
          "name": "stderr",
          "output_type": "stream",
          "text": [
            "Map: 100%|████████████████████████████| 306/306 [00:00<00:00, 740.46 examples/s]\n",
            "Map: 100%|███████████████████████████| 306/306 [00:00<00:00, 7252.23 examples/s]\n"
          ]
        },
        {
          "name": "stdout",
          "output_type": "stream",
          "text": [
            "\n",
            " 'city to country: Rome is in Italy. %s is in-test': {'base_labels': {'accuracy': 0.33, 'token_accuracy': 0.33}, 'labels': {'accuracy': 0.54, 'token_accuracy': 0.48}}\n"
          ]
        },
        {
          "name": "stderr",
          "output_type": "stream",
          "text": [
            "Map: 100%|████████████████████████████| 420/420 [00:00<00:00, 754.30 examples/s]\n",
            "Map: 100%|███████████████████████████| 420/420 [00:00<00:00, 6627.54 examples/s]\n"
          ]
        },
        {
          "name": "stdout",
          "output_type": "stream",
          "text": [
            "\n",
            " 'city to country: Rome is in Italy. %s is in-val': {'base_labels': {'accuracy': 0.31, 'token_accuracy': 0.3}, 'labels': {'accuracy': 0.6, 'token_accuracy': 0.54}}\n"
          ]
        },
        {
          "name": "stderr",
          "output_type": "stream",
          "text": [
            "Map: 100%|████████████████████████████| 167/167 [00:00<00:00, 748.43 examples/s]\n",
            "Map: 100%|███████████████████████████| 167/167 [00:00<00:00, 6486.36 examples/s]\n"
          ]
        },
        {
          "name": "stdout",
          "output_type": "stream",
          "text": [
            "\n",
            " '[{\"city\": \"%s\", \"continent\": \"-test': {'base_labels': {'accuracy': 0.78, 'token_accuracy': 0.77}, 'labels': {'accuracy': 0.14, 'token_accuracy': 0.13}}\n"
          ]
        },
        {
          "name": "stderr",
          "output_type": "stream",
          "text": [
            "Map: 100%|████████████████████████████| 323/323 [00:00<00:00, 760.03 examples/s]\n",
            "Map: 100%|███████████████████████████| 323/323 [00:00<00:00, 6415.22 examples/s]\n"
          ]
        },
        {
          "name": "stdout",
          "output_type": "stream",
          "text": [
            "\n",
            " '[{\"city\": \"%s\", \"continent\": \"-val': {'base_labels': {'accuracy': 0.78, 'token_accuracy': 0.78}, 'labels': {'accuracy': 0.1, 'token_accuracy': 0.1}}\n"
          ]
        },
        {
          "name": "stderr",
          "output_type": "stream",
          "text": [
            "Map: 100%|████████████████████████████| 107/107 [00:00<00:00, 725.61 examples/s]\n",
            "Map: 100%|███████████████████████████| 107/107 [00:00<00:00, 5665.83 examples/s]\n"
          ]
        },
        {
          "name": "stdout",
          "output_type": "stream",
          "text": [
            "\n",
            " '[{\"city\": \"Toronto\", \"continent\": \"North America\"}, {\"city\": \"%s\", \"continent\": \"-test': {'base_labels': {'accuracy': 0.92, 'token_accuracy': 0.93}, 'labels': {'accuracy': 0.08, 'token_accuracy': 0.09}}\n"
          ]
        },
        {
          "name": "stderr",
          "output_type": "stream",
          "text": [
            "Map: 100%|████████████████████████████| 192/192 [00:00<00:00, 738.12 examples/s]\n",
            "Map: 100%|███████████████████████████| 192/192 [00:00<00:00, 5638.10 examples/s]\n"
          ]
        },
        {
          "name": "stdout",
          "output_type": "stream",
          "text": [
            "\n",
            " '[{\"city\": \"Toronto\", \"continent\": \"North America\"}, {\"city\": \"%s\", \"continent\": \"-val': {'base_labels': {'accuracy': 0.95, 'token_accuracy': 0.94}, 'labels': {'accuracy': 0.04, 'token_accuracy': 0.04}}\n"
          ]
        },
        {
          "name": "stderr",
          "output_type": "stream",
          "text": [
            "Map: 100%|██████████████████████████████| 93/93 [00:00<00:00, 699.04 examples/s]\n",
            "Map: 100%|█████████████████████████████| 93/93 [00:00<00:00, 5504.18 examples/s]\n"
          ]
        },
        {
          "name": "stdout",
          "output_type": "stream",
          "text": [
            "\n",
            " '[{\"city\": \"Rio de Janeiro\", \"continent\": \"South America\"}, {\"city\": \"%s\", \"continent\": \"-test': {'base_labels': {'accuracy': 0.94, 'token_accuracy': 0.95}, 'labels': {'accuracy': 0.06, 'token_accuracy': 0.07}}\n"
          ]
        },
        {
          "name": "stderr",
          "output_type": "stream",
          "text": [
            "Map: 100%|████████████████████████████| 216/216 [00:00<00:00, 728.29 examples/s]\n",
            "Map: 100%|███████████████████████████| 216/216 [00:00<00:00, 6121.33 examples/s]\n"
          ]
        },
        {
          "name": "stdout",
          "output_type": "stream",
          "text": [
            "\n",
            " '[{\"city\": \"Rio de Janeiro\", \"continent\": \"South America\"}, {\"city\": \"%s\", \"continent\": \"-val': {'base_labels': {'accuracy': 0.95, 'token_accuracy': 0.95}, 'labels': {'accuracy': 0.04, 'token_accuracy': 0.04}}\n"
          ]
        },
        {
          "name": "stderr",
          "output_type": "stream",
          "text": [
            "Map: 100%|████████████████████████████| 118/118 [00:00<00:00, 727.85 examples/s]\n",
            "Map: 100%|███████████████████████████| 118/118 [00:00<00:00, 4981.76 examples/s]\n"
          ]
        },
        {
          "name": "stdout",
          "output_type": "stream",
          "text": [
            "\n",
            " '[{\"city\": \"San Francisco\", \"continent\": \"North America\"}, {\"city\": \"%s\", \"continent\": \"-test': {'base_labels': {'accuracy': 0.97, 'token_accuracy': 0.95}, 'labels': {'accuracy': 0.03, 'token_accuracy': 0.03}}\n"
          ]
        },
        {
          "name": "stderr",
          "output_type": "stream",
          "text": [
            "Map: 100%|████████████████████████████| 216/216 [00:00<00:00, 732.04 examples/s]\n",
            "Map: 100%|███████████████████████████| 216/216 [00:00<00:00, 5991.27 examples/s]\n"
          ]
        },
        {
          "name": "stdout",
          "output_type": "stream",
          "text": [
            "\n",
            " '[{\"city\": \"San Francisco\", \"continent\": \"North America\"}, {\"city\": \"%s\", \"continent\": \"-val': {'base_labels': {'accuracy': 0.97, 'token_accuracy': 0.96}, 'labels': {'accuracy': 0.03, 'token_accuracy': 0.03}}\n"
          ]
        },
        {
          "name": "stderr",
          "output_type": "stream",
          "text": [
            "Map: 100%|██████████████████████████████| 91/91 [00:00<00:00, 722.49 examples/s]\n",
            "Map: 100%|█████████████████████████████| 91/91 [00:00<00:00, 5579.08 examples/s]\n"
          ]
        },
        {
          "name": "stdout",
          "output_type": "stream",
          "text": [
            "\n",
            " '[{\"city\": \"New York City\", \"continent\": \"North America\"}, {\"city\": \"%s\", \"continent\": \"-test': {'base_labels': {'accuracy': 0.93, 'token_accuracy': 0.94}, 'labels': {'accuracy': 0.04, 'token_accuracy': 0.04}}\n"
          ]
        },
        {
          "name": "stderr",
          "output_type": "stream",
          "text": [
            "Map: 100%|████████████████████████████| 195/195 [00:00<00:00, 737.00 examples/s]\n",
            "Map: 100%|███████████████████████████| 195/195 [00:00<00:00, 6648.97 examples/s]\n"
          ]
        },
        {
          "name": "stdout",
          "output_type": "stream",
          "text": [
            "\n",
            " '[{\"city\": \"New York City\", \"continent\": \"North America\"}, {\"city\": \"%s\", \"continent\": \"-val': {'base_labels': {'accuracy': 0.97, 'token_accuracy': 0.97}, 'labels': {'accuracy': 0.02, 'token_accuracy': 0.02}}\n"
          ]
        },
        {
          "name": "stderr",
          "output_type": "stream",
          "text": [
            "Map: 100%|████████████████████████████| 120/120 [00:00<00:00, 731.78 examples/s]\n",
            "Map: 100%|███████████████████████████| 120/120 [00:00<00:00, 5003.74 examples/s]\n"
          ]
        },
        {
          "name": "stdout",
          "output_type": "stream",
          "text": [
            "\n",
            " '[{\"city\": \"Buenos Aires\", \"continent\": \"South America\"}, {\"city\": \"%s\", \"continent\": \"-test': {'base_labels': {'accuracy': 0.94, 'token_accuracy': 0.95}, 'labels': {'accuracy': 0.06, 'token_accuracy': 0.06}}\n"
          ]
        },
        {
          "name": "stderr",
          "output_type": "stream",
          "text": [
            "Map: 100%|████████████████████████████| 223/223 [00:00<00:00, 740.94 examples/s]\n",
            "Map: 100%|███████████████████████████| 223/223 [00:00<00:00, 6898.83 examples/s]\n"
          ]
        },
        {
          "name": "stdout",
          "output_type": "stream",
          "text": [
            "\n",
            " '[{\"city\": \"Buenos Aires\", \"continent\": \"South America\"}, {\"city\": \"%s\", \"continent\": \"-val': {'base_labels': {'accuracy': 0.95, 'token_accuracy': 0.96}, 'labels': {'accuracy': 0.04, 'token_accuracy': 0.05}}\n"
          ]
        },
        {
          "name": "stderr",
          "output_type": "stream",
          "text": [
            "Map: 100%|████████████████████████████| 130/130 [00:00<00:00, 732.59 examples/s]\n",
            "Map: 100%|███████████████████████████| 130/130 [00:00<00:00, 5297.43 examples/s]\n"
          ]
        },
        {
          "name": "stdout",
          "output_type": "stream",
          "text": [
            "\n",
            " 'St. Petersburg is a city in the continent of Europe. %s is a city in the continent of-test': {'base_labels': {'accuracy': 0.92, 'token_accuracy': 0.92}, 'labels': {'accuracy': 0.06, 'token_accuracy': 0.06}}\n"
          ]
        },
        {
          "name": "stderr",
          "output_type": "stream",
          "text": [
            "Map: 100%|████████████████████████████| 212/212 [00:00<00:00, 737.63 examples/s]\n",
            "Map: 100%|███████████████████████████| 212/212 [00:00<00:00, 6752.73 examples/s]\n"
          ]
        },
        {
          "name": "stdout",
          "output_type": "stream",
          "text": [
            "\n",
            " 'St. Petersburg is a city in the continent of Europe. %s is a city in the continent of-val': {'base_labels': {'accuracy': 0.89, 'token_accuracy': 0.89}, 'labels': {'accuracy': 0.1, 'token_accuracy': 0.1}}\n"
          ]
        },
        {
          "name": "stderr",
          "output_type": "stream",
          "text": [
            "Map: 100%|████████████████████████████| 332/332 [00:00<00:00, 750.35 examples/s]\n",
            "Map: 100%|███████████████████████████| 332/332 [00:00<00:00, 6757.69 examples/s]\n"
          ]
        },
        {
          "name": "stdout",
          "output_type": "stream",
          "text": [
            "\n",
            " '[{\"city\": \"St. Petersburg\", \"lat\": \"60\"}, {\"city\": \"%s\", \"lat\": \"-test': {'base_labels': {'accuracy': 0.47, 'token_accuracy': 0.65}, 'labels': {'accuracy': 0.03, 'token_accuracy': 0.17}}\n"
          ]
        },
        {
          "name": "stderr",
          "output_type": "stream",
          "text": [
            "Map: 100%|████████████████████████████| 460/460 [00:00<00:00, 751.04 examples/s]\n",
            "Map: 100%|███████████████████████████| 460/460 [00:00<00:00, 7181.79 examples/s]\n"
          ]
        },
        {
          "name": "stdout",
          "output_type": "stream",
          "text": [
            "\n",
            " '[{\"city\": \"St. Petersburg\", \"lat\": \"60\"}, {\"city\": \"%s\", \"lat\": \"-val': {'base_labels': {'accuracy': 0.49, 'token_accuracy': 0.66}, 'labels': {'accuracy': 0.02, 'token_accuracy': 0.17}}\n"
          ]
        },
        {
          "name": "stderr",
          "output_type": "stream",
          "text": [
            "Map: 100%|████████████████████████████| 322/322 [00:00<00:00, 753.98 examples/s]\n",
            "Map: 100%|███████████████████████████| 322/322 [00:00<00:00, 6199.49 examples/s]\n"
          ]
        },
        {
          "name": "stdout",
          "output_type": "stream",
          "text": [
            "\n",
            " '[{\"city\": \"Toronto\", \"lat\": \"44\"}, {\"city\": \"%s\", \"lat\": \"-test': {'base_labels': {'accuracy': 0.45, 'token_accuracy': 0.65}, 'labels': {'accuracy': 0.05, 'token_accuracy': 0.21}}\n"
          ]
        },
        {
          "name": "stderr",
          "output_type": "stream",
          "text": [
            "Map: 100%|████████████████████████████| 464/464 [00:00<00:00, 754.38 examples/s]\n",
            "Map: 100%|███████████████████████████| 464/464 [00:00<00:00, 7521.38 examples/s]\n"
          ]
        },
        {
          "name": "stdout",
          "output_type": "stream",
          "text": [
            "\n",
            " '[{\"city\": \"Toronto\", \"lat\": \"44\"}, {\"city\": \"%s\", \"lat\": \"-val': {'base_labels': {'accuracy': 0.52, 'token_accuracy': 0.67}, 'labels': {'accuracy': 0.02, 'token_accuracy': 0.17}}\n"
          ]
        },
        {
          "name": "stderr",
          "output_type": "stream",
          "text": [
            "Map: 100%|████████████████████████████| 316/316 [00:00<00:00, 754.21 examples/s]\n",
            "Map: 100%|███████████████████████████| 316/316 [00:00<00:00, 6763.73 examples/s]\n"
          ]
        },
        {
          "name": "stdout",
          "output_type": "stream",
          "text": [
            "\n",
            " '[{\"city\": \"Rome\", \"lat\": \"42\"}, {\"city\": \"%s\", \"lat\": \"-test': {'base_labels': {'accuracy': 0.48, 'token_accuracy': 0.65}, 'labels': {'accuracy': 0.04, 'token_accuracy': 0.19}}\n"
          ]
        },
        {
          "name": "stderr",
          "output_type": "stream",
          "text": [
            "Map: 100%|████████████████████████████| 470/470 [00:00<00:00, 755.79 examples/s]\n",
            "Map: 100%|███████████████████████████| 470/470 [00:00<00:00, 7426.04 examples/s]\n"
          ]
        },
        {
          "name": "stdout",
          "output_type": "stream",
          "text": [
            "\n",
            " '[{\"city\": \"Rome\", \"lat\": \"42\"}, {\"city\": \"%s\", \"lat\": \"-val': {'base_labels': {'accuracy': 0.54, 'token_accuracy': 0.7}, 'labels': {'accuracy': 0.02, 'token_accuracy': 0.2}}\n"
          ]
        },
        {
          "name": "stderr",
          "output_type": "stream",
          "text": [
            "Map: 100%|████████████████████████████| 330/330 [00:00<00:00, 753.24 examples/s]\n",
            "Map: 100%|███████████████████████████| 330/330 [00:00<00:00, 6460.58 examples/s]\n"
          ]
        },
        {
          "name": "stdout",
          "output_type": "stream",
          "text": [
            "\n",
            " '[{\"city\": \"Rome\", \"lat\": \"41.9\"}, {\"city\": \"%s\", \"lat\": \"-test': {'base_labels': {'accuracy': 0.5, 'token_accuracy': 0.65}, 'labels': {'accuracy': 0.03, 'token_accuracy': 0.18}}\n"
          ]
        },
        {
          "name": "stderr",
          "output_type": "stream",
          "text": [
            "Map: 100%|████████████████████████████| 470/470 [00:00<00:00, 753.65 examples/s]\n",
            "Map: 100%|███████████████████████████| 470/470 [00:00<00:00, 6924.02 examples/s]\n"
          ]
        },
        {
          "name": "stdout",
          "output_type": "stream",
          "text": [
            "\n",
            " '[{\"city\": \"Rome\", \"lat\": \"41.9\"}, {\"city\": \"%s\", \"lat\": \"-val': {'base_labels': {'accuracy': 0.56, 'token_accuracy': 0.71}, 'labels': {'accuracy': 0.03, 'token_accuracy': 0.19}}\n"
          ]
        },
        {
          "name": "stderr",
          "output_type": "stream",
          "text": [
            "Map: 100%|████████████████████████████| 316/316 [00:00<00:00, 753.46 examples/s]\n",
            "Map: 100%|███████████████████████████| 316/316 [00:00<00:00, 7215.02 examples/s]\n"
          ]
        },
        {
          "name": "stdout",
          "output_type": "stream",
          "text": [
            "\n",
            " '[{\"city\": \"Beijing\", \"lat\": \"40\"}, {\"city\": \"%s\", \"lat\": \"-test': {'base_labels': {'accuracy': 0.48, 'token_accuracy': 0.67}, 'labels': {'accuracy': 0.04, 'token_accuracy': 0.17}}\n"
          ]
        },
        {
          "name": "stderr",
          "output_type": "stream",
          "text": [
            "Map: 100%|████████████████████████████| 466/466 [00:00<00:00, 753.53 examples/s]\n",
            "Map: 100%|███████████████████████████| 466/466 [00:00<00:00, 1328.68 examples/s]\n"
          ]
        },
        {
          "name": "stdout",
          "output_type": "stream",
          "text": [
            "\n",
            " '[{\"city\": \"Beijing\", \"lat\": \"40\"}, {\"city\": \"%s\", \"lat\": \"-val': {'base_labels': {'accuracy': 0.55, 'token_accuracy': 0.71}, 'labels': {'accuracy': 0.03, 'token_accuracy': 0.18}}\n"
          ]
        },
        {
          "name": "stderr",
          "output_type": "stream",
          "text": [
            "Map: 100%|████████████████████████████| 323/323 [00:00<00:00, 752.57 examples/s]\n",
            "Map: 100%|███████████████████████████| 323/323 [00:00<00:00, 7255.45 examples/s]\n"
          ]
        },
        {
          "name": "stdout",
          "output_type": "stream",
          "text": [
            "\n",
            " '[{\"city\": \"Toronto\", \"lat\": \"43.7\"}, {\"city\": \"%s\", \"lat\": \"-test': {'base_labels': {'accuracy': 0.51, 'token_accuracy': 0.67}, 'labels': {'accuracy': 0.02, 'token_accuracy': 0.17}}\n"
          ]
        },
        {
          "name": "stderr",
          "output_type": "stream",
          "text": [
            "Map: 100%|████████████████████████████| 453/453 [00:00<00:00, 746.23 examples/s]\n",
            "Map: 100%|███████████████████████████| 453/453 [00:00<00:00, 7517.51 examples/s]\n"
          ]
        },
        {
          "name": "stdout",
          "output_type": "stream",
          "text": [
            "\n",
            " '[{\"city\": \"Toronto\", \"lat\": \"43.7\"}, {\"city\": \"%s\", \"lat\": \"-val': {'base_labels': {'accuracy': 0.5, 'token_accuracy': 0.67}, 'labels': {'accuracy': 0.02, 'token_accuracy': 0.2}}\n"
          ]
        },
        {
          "name": "stderr",
          "output_type": "stream",
          "text": [
            "Map: 100%|████████████████████████████| 326/326 [00:00<00:00, 747.04 examples/s]\n",
            "Map: 100%|███████████████████████████| 326/326 [00:00<00:00, 6449.82 examples/s]\n"
          ]
        },
        {
          "name": "stdout",
          "output_type": "stream",
          "text": [
            "\n",
            " '[{\"city\": \"Sydney\", \"long\": \"151.2\"}, {\"city\": \"%s\", \"long\": \"-test': {'base_labels': {'accuracy': 0.42, 'token_accuracy': 0.6}, 'labels': {'accuracy': 0.02, 'token_accuracy': 0.17}}\n"
          ]
        },
        {
          "name": "stderr",
          "output_type": "stream",
          "text": [
            "Map: 100%|████████████████████████████| 468/468 [00:00<00:00, 749.57 examples/s]\n",
            "Map: 100%|███████████████████████████| 468/468 [00:00<00:00, 7508.62 examples/s]\n"
          ]
        },
        {
          "name": "stdout",
          "output_type": "stream",
          "text": [
            "\n",
            " '[{\"city\": \"Sydney\", \"long\": \"151.2\"}, {\"city\": \"%s\", \"long\": \"-val': {'base_labels': {'accuracy': 0.45, 'token_accuracy': 0.63}, 'labels': {'accuracy': 0.04, 'token_accuracy': 0.22}}\n"
          ]
        },
        {
          "name": "stderr",
          "output_type": "stream",
          "text": [
            "Map: 100%|████████████████████████████| 330/330 [00:00<00:00, 755.98 examples/s]\n",
            "Map: 100%|███████████████████████████| 330/330 [00:00<00:00, 7389.11 examples/s]\n"
          ]
        },
        {
          "name": "stdout",
          "output_type": "stream",
          "text": [
            "\n",
            " ' \"long\": \"122.4\"}, {\"city\": \"%s\", \"long\": \"-test': {'base_labels': {'accuracy': 0.46, 'token_accuracy': 0.63}, 'labels': {'accuracy': 0.04, 'token_accuracy': 0.21}}\n"
          ]
        },
        {
          "name": "stderr",
          "output_type": "stream",
          "text": [
            "Map: 100%|████████████████████████████| 473/473 [00:00<00:00, 757.40 examples/s]\n",
            "Map: 100%|███████████████████████████| 473/473 [00:00<00:00, 7137.10 examples/s]\n"
          ]
        },
        {
          "name": "stdout",
          "output_type": "stream",
          "text": [
            "\n",
            " ' \"long\": \"122.4\"}, {\"city\": \"%s\", \"long\": \"-val': {'base_labels': {'accuracy': 0.44, 'token_accuracy': 0.63}, 'labels': {'accuracy': 0.05, 'token_accuracy': 0.2}}\n"
          ]
        },
        {
          "name": "stderr",
          "output_type": "stream",
          "text": [
            "Map: 100%|████████████████████████████| 333/333 [00:00<00:00, 752.49 examples/s]\n",
            "Map: 100%|███████████████████████████| 333/333 [00:00<00:00, 6412.10 examples/s]\n"
          ]
        },
        {
          "name": "stdout",
          "output_type": "stream",
          "text": [
            "\n",
            " '[{\"city\": \"Beijing\", \"long\": \"116.4\"}, {\"city\": \"%s\", \"long\": \"-test': {'base_labels': {'accuracy': 0.44, 'token_accuracy': 0.6}, 'labels': {'accuracy': 0.03, 'token_accuracy': 0.18}}\n"
          ]
        },
        {
          "name": "stderr",
          "output_type": "stream",
          "text": [
            "Map: 100%|████████████████████████████| 478/478 [00:00<00:00, 751.24 examples/s]\n",
            "Map: 100%|███████████████████████████| 478/478 [00:00<00:00, 7513.18 examples/s]\n"
          ]
        },
        {
          "name": "stdout",
          "output_type": "stream",
          "text": [
            "\n",
            " '[{\"city\": \"Beijing\", \"long\": \"116.4\"}, {\"city\": \"%s\", \"long\": \"-val': {'base_labels': {'accuracy': 0.49, 'token_accuracy': 0.65}, 'labels': {'accuracy': 0.04, 'token_accuracy': 0.2}}\n"
          ]
        },
        {
          "name": "stderr",
          "output_type": "stream",
          "text": [
            "Map: 100%|████████████████████████████| 322/322 [00:00<00:00, 752.18 examples/s]\n",
            "Map: 100%|███████████████████████████| 322/322 [00:00<00:00, 6195.65 examples/s]\n"
          ]
        },
        {
          "name": "stdout",
          "output_type": "stream",
          "text": [
            "\n",
            " '[{\"city\": \"Bangkok\", \"long\": \"100.5\"}, {\"city\": \"%s\", \"long\": \"-test': {'base_labels': {'accuracy': 0.46, 'token_accuracy': 0.64}, 'labels': {'accuracy': 0.07, 'token_accuracy': 0.24}}\n"
          ]
        },
        {
          "name": "stderr",
          "output_type": "stream",
          "text": [
            "Map: 100%|████████████████████████████| 472/472 [00:00<00:00, 751.86 examples/s]\n",
            "Map: 100%|███████████████████████████| 472/472 [00:00<00:00, 7553.12 examples/s]\n"
          ]
        },
        {
          "name": "stdout",
          "output_type": "stream",
          "text": [
            "\n",
            " '[{\"city\": \"Bangkok\", \"long\": \"100.5\"}, {\"city\": \"%s\", \"long\": \"-val': {'base_labels': {'accuracy': 0.5, 'token_accuracy': 0.67}, 'labels': {'accuracy': 0.07, 'token_accuracy': 0.26}}\n"
          ]
        },
        {
          "name": "stderr",
          "output_type": "stream",
          "text": [
            "Map: 100%|████████████████████████████| 330/330 [00:00<00:00, 749.47 examples/s]\n",
            "Map: 100%|███████████████████████████| 330/330 [00:00<00:00, 7208.92 examples/s]\n"
          ]
        },
        {
          "name": "stdout",
          "output_type": "stream",
          "text": [
            "\n",
            " '[{\"city\": \"Tokyo\", \"long\": \"139.7\"}, {\"city\": \"%s\", \"long\": \"-test': {'base_labels': {'accuracy': 0.44, 'token_accuracy': 0.6}, 'labels': {'accuracy': 0.03, 'token_accuracy': 0.16}}\n"
          ]
        },
        {
          "name": "stderr",
          "output_type": "stream",
          "text": [
            "Map: 100%|████████████████████████████| 474/474 [00:00<00:00, 751.68 examples/s]\n",
            "Map: 100%|███████████████████████████| 474/474 [00:00<00:00, 6759.74 examples/s]\n"
          ]
        },
        {
          "name": "stdout",
          "output_type": "stream",
          "text": [
            "\n",
            " '[{\"city\": \"Tokyo\", \"long\": \"139.7\"}, {\"city\": \"%s\", \"long\": \"-val': {'base_labels': {'accuracy': 0.48, 'token_accuracy': 0.65}, 'labels': {'accuracy': 0.03, 'token_accuracy': 0.17}}\n"
          ]
        },
        {
          "name": "stderr",
          "output_type": "stream",
          "text": [
            "Map: 100%|████████████████████████████| 329/329 [00:00<00:00, 749.82 examples/s]\n",
            "Map: 100%|███████████████████████████| 329/329 [00:00<00:00, 6805.54 examples/s]\n"
          ]
        },
        {
          "name": "stdout",
          "output_type": "stream",
          "text": [
            "\n",
            " '[{\"city\": \"Hong Kong\", \"long\": \"114.2\"}, {\"city\": \"%s\", \"long\": \"-test': {'base_labels': {'accuracy': 0.42, 'token_accuracy': 0.6}, 'labels': {'accuracy': 0.03, 'token_accuracy': 0.17}}\n"
          ]
        },
        {
          "name": "stderr",
          "output_type": "stream",
          "text": [
            "Map: 100%|████████████████████████████| 473/473 [00:00<00:00, 750.10 examples/s]\n",
            "Map: 100%|███████████████████████████| 473/473 [00:00<00:00, 7091.13 examples/s]\n"
          ]
        },
        {
          "name": "stdout",
          "output_type": "stream",
          "text": [
            "\n",
            " '[{\"city\": \"Hong Kong\", \"long\": \"114.2\"}, {\"city\": \"%s\", \"long\": \"-val': {'base_labels': {'accuracy': 0.41, 'token_accuracy': 0.6}, 'labels': {'accuracy': 0.04, 'token_accuracy': 0.19}}\n"
          ]
        },
        {
          "name": "stderr",
          "output_type": "stream",
          "text": [
            "Map: 100%|████████████████████████████| 332/332 [00:00<00:00, 753.39 examples/s]\n",
            "Map: 100%|███████████████████████████| 332/332 [00:00<00:00, 6601.79 examples/s]\n"
          ]
        },
        {
          "name": "stdout",
          "output_type": "stream",
          "text": [
            "\n",
            " '[{\"city\": \"%s\", \"official language\": \"-test': {'base_labels': {'accuracy': 0.73, 'token_accuracy': 0.72}, 'labels': {'accuracy': 0.13, 'token_accuracy': 0.13}}\n"
          ]
        },
        {
          "name": "stderr",
          "output_type": "stream",
          "text": [
            "Map: 100%|████████████████████████████| 471/471 [00:00<00:00, 753.12 examples/s]\n",
            "Map: 100%|███████████████████████████| 471/471 [00:00<00:00, 7190.44 examples/s]\n"
          ]
        },
        {
          "name": "stdout",
          "output_type": "stream",
          "text": [
            "\n",
            " '[{\"city\": \"%s\", \"official language\": \"-val': {'base_labels': {'accuracy': 0.72, 'token_accuracy': 0.7}, 'labels': {'accuracy': 0.13, 'token_accuracy': 0.14}}\n"
          ]
        },
        {
          "name": "stderr",
          "output_type": "stream",
          "text": [
            "Map: 100%|████████████████████████████| 331/331 [00:00<00:00, 748.97 examples/s]\n",
            "Map: 100%|███████████████████████████| 331/331 [00:00<00:00, 6607.75 examples/s]\n"
          ]
        },
        {
          "name": "stdout",
          "output_type": "stream",
          "text": [
            "\n",
            " 'The official language of %s is-test': {'base_labels': {'accuracy': 0.86, 'token_accuracy': 0.84}, 'labels': {'accuracy': 0.08, 'token_accuracy': 0.07}}\n"
          ]
        },
        {
          "name": "stderr",
          "output_type": "stream",
          "text": [
            "Map: 100%|████████████████████████████| 450/450 [00:00<00:00, 754.24 examples/s]\n",
            "Map: 100%|███████████████████████████| 450/450 [00:00<00:00, 7095.55 examples/s]\n"
          ]
        },
        {
          "name": "stdout",
          "output_type": "stream",
          "text": [
            "\n",
            " 'The official language of %s is-val': {'base_labels': {'accuracy': 0.86, 'token_accuracy': 0.8}, 'labels': {'accuracy': 0.1, 'token_accuracy': 0.08}}\n"
          ]
        },
        {
          "name": "stderr",
          "output_type": "stream",
          "text": [
            "Map: 100%|████████████████████████████| 333/333 [00:00<00:00, 742.05 examples/s]\n",
            "Map: 100%|███████████████████████████| 333/333 [00:00<00:00, 6722.19 examples/s]\n"
          ]
        },
        {
          "name": "stdout",
          "output_type": "stream",
          "text": [
            "\n",
            " '[{\"city\": \"New York City\", \"lang\": \"English\"}, {\"city\": \"%s\", \"lang\": \"-test': {'base_labels': {'accuracy': 0.64, 'token_accuracy': 0.61}, 'labels': {'accuracy': 0.13, 'token_accuracy': 0.13}}\n"
          ]
        },
        {
          "name": "stderr",
          "output_type": "stream",
          "text": [
            "Map: 100%|████████████████████████████| 460/460 [00:00<00:00, 742.12 examples/s]\n",
            "Map: 100%|███████████████████████████| 460/460 [00:00<00:00, 7618.66 examples/s]\n"
          ]
        },
        {
          "name": "stdout",
          "output_type": "stream",
          "text": [
            "\n",
            " '[{\"city\": \"New York City\", \"lang\": \"English\"}, {\"city\": \"%s\", \"lang\": \"-val': {'base_labels': {'accuracy': 0.6, 'token_accuracy': 0.57}, 'labels': {'accuracy': 0.18, 'token_accuracy': 0.18}}\n"
          ]
        },
        {
          "name": "stderr",
          "output_type": "stream",
          "text": [
            "Map: 100%|████████████████████████████| 334/334 [00:00<00:00, 740.78 examples/s]\n",
            "Map: 100%|███████████████████████████| 334/334 [00:00<00:00, 7257.22 examples/s]\n"
          ]
        },
        {
          "name": "stdout",
          "output_type": "stream",
          "text": [
            "\n",
            " ' \"country\": \"United Kingdom\"}, {\"city\": \"%s\", \"language\": \"-test': {'base_labels': {'accuracy': 0.64, 'token_accuracy': 0.66}, 'labels': {'accuracy': 0.1, 'token_accuracy': 0.12}}\n"
          ]
        },
        {
          "name": "stderr",
          "output_type": "stream",
          "text": [
            "Map: 100%|████████████████████████████| 445/445 [00:00<00:00, 746.69 examples/s]\n",
            "Map: 100%|███████████████████████████| 445/445 [00:00<00:00, 1317.56 examples/s]\n"
          ]
        },
        {
          "name": "stdout",
          "output_type": "stream",
          "text": [
            "\n",
            " ' \"country\": \"United Kingdom\"}, {\"city\": \"%s\", \"language\": \"-val': {'base_labels': {'accuracy': 0.6, 'token_accuracy': 0.61}, 'labels': {'accuracy': 0.1, 'token_accuracy': 0.12}}\n"
          ]
        },
        {
          "name": "stderr",
          "output_type": "stream",
          "text": [
            "Map: 100%|████████████████████████████| 324/324 [00:00<00:00, 741.77 examples/s]\n",
            "Map: 100%|███████████████████████████| 324/324 [00:00<00:00, 7152.66 examples/s]\n"
          ]
        },
        {
          "name": "stdout",
          "output_type": "stream",
          "text": [
            "\n",
            " '[{\"city\": \"Kuala Lumpur\", \"lang\": \"Malay\"}, {\"city\": \"%s\", \"lang\": \"-test': {'base_labels': {'accuracy': 0.74, 'token_accuracy': 0.73}, 'labels': {'accuracy': 0.1, 'token_accuracy': 0.11}}\n"
          ]
        },
        {
          "name": "stderr",
          "output_type": "stream",
          "text": [
            "Map: 100%|████████████████████████████| 469/469 [00:00<00:00, 744.28 examples/s]\n",
            "Map: 100%|███████████████████████████| 469/469 [00:00<00:00, 7558.18 examples/s]\n"
          ]
        },
        {
          "name": "stdout",
          "output_type": "stream",
          "text": [
            "\n",
            " '[{\"city\": \"Kuala Lumpur\", \"lang\": \"Malay\"}, {\"city\": \"%s\", \"lang\": \"-val': {'base_labels': {'accuracy': 0.71, 'token_accuracy': 0.7}, 'labels': {'accuracy': 0.14, 'token_accuracy': 0.14}}\n"
          ]
        },
        {
          "name": "stderr",
          "output_type": "stream",
          "text": [
            "Map: 100%|████████████████████████████| 314/314 [00:00<00:00, 729.88 examples/s]\n",
            "Map: 100%|███████████████████████████| 314/314 [00:00<00:00, 7228.90 examples/s]\n"
          ]
        },
        {
          "name": "stdout",
          "output_type": "stream",
          "text": [
            "\n",
            " '[{\"city\": \"St. Petersburg\", \"timezone\": \"UTC+03:00\"}, {\"city\": \"%s\", \"timezone\": \"UTC-test': {'base_labels': {'accuracy': 0.73, 'token_accuracy': 0.9}, 'labels': {'accuracy': 0.05, 'token_accuracy': 0.58}}\n"
          ]
        },
        {
          "name": "stderr",
          "output_type": "stream",
          "text": [
            "Map: 100%|████████████████████████████| 440/440 [00:00<00:00, 731.63 examples/s]\n",
            "Map: 100%|███████████████████████████| 440/440 [00:00<00:00, 7011.51 examples/s]\n"
          ]
        },
        {
          "name": "stdout",
          "output_type": "stream",
          "text": [
            "\n",
            " '[{\"city\": \"St. Petersburg\", \"timezone\": \"UTC+03:00\"}, {\"city\": \"%s\", \"timezone\": \"UTC-val': {'base_labels': {'accuracy': 0.76, 'token_accuracy': 0.92}, 'labels': {'accuracy': 0.06, 'token_accuracy': 0.64}}\n"
          ]
        },
        {
          "name": "stderr",
          "output_type": "stream",
          "text": [
            "Map: 100%|████████████████████████████| 315/315 [00:00<00:00, 732.55 examples/s]\n",
            "Map: 100%|███████████████████████████| 315/315 [00:00<00:00, 7265.20 examples/s]\n"
          ]
        },
        {
          "name": "stdout",
          "output_type": "stream",
          "text": [
            "\n",
            " '[{\"city\": \"Cape Town\", \"timezone\": \"UTC+02:00\"}, {\"city\": \"%s\", \"timezone\": \"UTC-test': {'base_labels': {'accuracy': 0.81, 'token_accuracy': 0.93}, 'labels': {'accuracy': 0.04, 'token_accuracy': 0.57}}\n"
          ]
        },
        {
          "name": "stderr",
          "output_type": "stream",
          "text": [
            "Map: 100%|████████████████████████████| 435/435 [00:00<00:00, 733.52 examples/s]\n",
            "Map: 100%|███████████████████████████| 435/435 [00:00<00:00, 7564.73 examples/s]\n"
          ]
        },
        {
          "name": "stdout",
          "output_type": "stream",
          "text": [
            "\n",
            " '[{\"city\": \"Cape Town\", \"timezone\": \"UTC+02:00\"}, {\"city\": \"%s\", \"timezone\": \"UTC-val': {'base_labels': {'accuracy': 0.79, 'token_accuracy': 0.93}, 'labels': {'accuracy': 0.05, 'token_accuracy': 0.62}}\n"
          ]
        },
        {
          "name": "stderr",
          "output_type": "stream",
          "text": [
            "Map: 100%|████████████████████████████| 295/295 [00:00<00:00, 731.01 examples/s]\n",
            "Map: 100%|███████████████████████████| 295/295 [00:00<00:00, 6482.56 examples/s]\n"
          ]
        },
        {
          "name": "stdout",
          "output_type": "stream",
          "text": [
            "\n",
            " '[{\"city\": \"Rio de Janeiro\", \"timezone\": \"UTC-03:00\"}, {\"city\": \"%s\", \"timezone\": \"UTC-test': {'base_labels': {'accuracy': 0.87, 'token_accuracy': 0.94}, 'labels': {'accuracy': 0.03, 'token_accuracy': 0.58}}\n"
          ]
        },
        {
          "name": "stderr",
          "output_type": "stream",
          "text": [
            "Map: 100%|████████████████████████████| 434/434 [00:00<00:00, 729.60 examples/s]\n",
            "Map: 100%|███████████████████████████| 434/434 [00:00<00:00, 7524.19 examples/s]\n"
          ]
        },
        {
          "name": "stdout",
          "output_type": "stream",
          "text": [
            "\n",
            " '[{\"city\": \"Rio de Janeiro\", \"timezone\": \"UTC-03:00\"}, {\"city\": \"%s\", \"timezone\": \"UTC-val': {'base_labels': {'accuracy': 0.87, 'token_accuracy': 0.95}, 'labels': {'accuracy': 0.03, 'token_accuracy': 0.63}}\n"
          ]
        },
        {
          "name": "stderr",
          "output_type": "stream",
          "text": [
            "Map: 100%|████████████████████████████| 320/320 [00:00<00:00, 736.80 examples/s]\n",
            "Map: 100%|███████████████████████████| 320/320 [00:00<00:00, 7223.85 examples/s]\n"
          ]
        },
        {
          "name": "stdout",
          "output_type": "stream",
          "text": [
            "\n",
            " '[{\"city\": \"Paris\", \"timezone\": \"UTC+1:00\"}, {\"city\": \"%s\", \"timezone\": \"UTC-test': {'base_labels': {'accuracy': 0.82, 'token_accuracy': 0.93}, 'labels': {'accuracy': 0.03, 'token_accuracy': 0.48}}\n"
          ]
        },
        {
          "name": "stderr",
          "output_type": "stream",
          "text": [
            "Map: 100%|████████████████████████████| 444/444 [00:00<00:00, 735.44 examples/s]\n",
            "Map: 100%|███████████████████████████| 444/444 [00:00<00:00, 7094.80 examples/s]\n"
          ]
        },
        {
          "name": "stdout",
          "output_type": "stream",
          "text": [
            "\n",
            " '[{\"city\": \"Paris\", \"timezone\": \"UTC+1:00\"}, {\"city\": \"%s\", \"timezone\": \"UTC-val': {'base_labels': {'accuracy': 0.83, 'token_accuracy': 0.93}, 'labels': {'accuracy': 0.05, 'token_accuracy': 0.55}}\n"
          ]
        },
        {
          "name": "stderr",
          "output_type": "stream",
          "text": [
            "Map: 100%|████████████████████████████| 303/303 [00:00<00:00, 726.81 examples/s]\n",
            "Map: 100%|███████████████████████████| 303/303 [00:00<00:00, 6090.12 examples/s]\n"
          ]
        },
        {
          "name": "stdout",
          "output_type": "stream",
          "text": [
            "\n",
            " '[{\"city\": \"Buenos Aires\", \"timezone\": \"UTC-03:00\"}, {\"city\": \"%s\", \"timezone\": \"UTC-test': {'base_labels': {'accuracy': 0.79, 'token_accuracy': 0.91}, 'labels': {'accuracy': 0.02, 'token_accuracy': 0.57}}\n"
          ]
        },
        {
          "name": "stderr",
          "output_type": "stream",
          "text": [
            "Map: 100%|████████████████████████████| 422/422 [00:00<00:00, 730.16 examples/s]\n",
            "Map: 100%|███████████████████████████| 422/422 [00:00<00:00, 7439.74 examples/s]\n"
          ]
        },
        {
          "name": "stdout",
          "output_type": "stream",
          "text": [
            "\n",
            " '[{\"city\": \"Buenos Aires\", \"timezone\": \"UTC-03:00\"}, {\"city\": \"%s\", \"timezone\": \"UTC-val': {'base_labels': {'accuracy': 0.84, 'token_accuracy': 0.94}, 'labels': {'accuracy': 0.05, 'token_accuracy': 0.61}}\n",
            "Saved to /scr-ssd/hij/models/tinyllama-layer14-dim64-multitask_daslora_3tok_Country_ex_Continent+Latitude+Longitude+Language+Timezone_len48_pose_ep3_cause20000_iso4000_evalall.json\n"
          ]
        }
      ],
      "source": [
        "import collections\n",
        "import numpy as np\n",
        "import re\n",
        "\n",
        "from datasets import concatenate_datasets\n",
        "from methods.distributed_alignment_search import LowRankRotatedSpaceIntervention\n",
        "from methods.differential_binary_masking import DifferentialBinaryMasking\n",
        "import pyvene as pv\n",
        "from tqdm import tqdm, trange\n",
        "from train_intervention import train_intervention\n",
        "from transformers import get_linear_schedule_with_warmup\n",
        "from utils.dataset_utils import get_multitask_dataloader\n",
        "from utils.intervention_utils import train_intervention_step, eval_with_interventions, get_intervention_config, remove_all_forward_hooks, remove_invalid_token_id\n",
        "from utils.metric_utils import compute_metrics, compute_cross_entropy_loss\n",
        "\n",
        "\n",
        "def get_short_model_name(model):\n",
        "  name_match = re.search('(llama-2-\\d+b|tinyllama|pythia-[\\d.]+b)', model.name_or_path.lower())\n",
        "  if name_match:\n",
        "    return name_match.group(1)\n",
        "  else:\n",
        "    return model.name_or_path.lower().split('-')[0]\n",
        "\n",
        "\n",
        "def run_exp(config):\n",
        "  inv_tasks = '+'.join([''.join(re.findall(r'[A-Za-z]+', t)) for t, l in config['training_tasks'].items() if 'match_source' in l])\n",
        "  control_tasks = '+'.join([''.join(re.findall(r'[A-Za-z]+', t)) for t, l in config['training_tasks'].items() if 'match_base' in l])\n",
        "  task_compressed = ((inv_tasks + '_ex_' + control_tasks) if control_tasks else inv_tasks)\n",
        "  method_name = 'multitask_method' if len(config['training_tasks']) > 1 else 'baseline_method'\n",
        "  if config['intervenable_config']['intervenable_interventions_type'] == LowRankRotatedSpaceIntervention:\n",
        "    method_name = method_name.replace('method', 'daslora')\n",
        "  elif config['intervenable_config']['intervenable_interventions_type'] == DifferentialBinaryMasking:\n",
        "    if config['regularization_coefficient'] > 1e-6:\n",
        "      method_name = method_name.replace('method', 'mask_l1')\n",
        "    else:\n",
        "      method_name = method_name.replace('method', 'mask')\n",
        "  split_to_inv_locations = config['split_to_inv_locations']\n",
        "  input_len = list(split_to_inv_locations.values())[0]['max_input_length']\n",
        "  inv_pos = min([x['inv_position'][0] for x in split_to_inv_locations.values()])\n",
        "  inv_loc_name = 'len%d_pos%s' % (input_len, 'e' if inv_pos != input_len - 1 else 'f')\n",
        "  training_data_percentage = int(config['max_train_percentage'] * 100)\n",
        "  suffix = f\"_cause{config['cause_task_sample_size']}\"\n",
        "  if any([v == 'match_base' for t, v in config['training_tasks'].items()]):\n",
        "    suffix += f'_iso{config[\"iso_task_sample_size\"]}'\n",
        "  layer = config['intervenable_config']['intervenable_layer']\n",
        "  run_name = (f\"{get_short_model_name(model)}-layer{layer}\"\n",
        "              f\"-dim{config['intervention_dimension']}\"\n",
        "              f\"-{method_name}_{config['max_output_tokens']}tok_\"\n",
        "              f\"{task_compressed}_{inv_loc_name}_ep{config['training_epoch']}{suffix}\")\n",
        "  config['run_name_prefix'] = run_name.rsplit('_ep', 1)[0]\n",
        "  print(run_name)\n",
        "  intervenable, intervenable_config = train_intervention(config, model, tokenizer, split_to_dataset)\n",
        "  # Save model.\n",
        "  torch.save({k: v[0].rotate_layer.weight for k, v in intervenable.interventions.items()},\n",
        "             os.path.join(MODEL_DIR, f'{run_name}.pt'))\n",
        "  print('Model saved to %s' % os.path.join(MODEL_DIR, f'{run_name}.pt'))\n",
        "  # Eval.\n",
        "  split_to_eval_metrics = eval_with_interventions(\n",
        "      intervenable, eval_split_to_dataset, split_to_inv_locations, tokenizer,\n",
        "      compute_metrics_fn=compute_metrics,\n",
        "      max_new_tokens=config['max_output_tokens'],\n",
        "      eval_batch_size=EVAL_BATCH_SIZE)\n",
        "  # Logging.\n",
        "  json.dump(split_to_eval_metrics, open(os.path.join(MODEL_DIR, f'{run_name}_evalall.json'), 'w'))\n",
        "  print('Saved to %s' % os.path.join(MODEL_DIR, f'{run_name}_evalall.json'))\n",
        "  remove_all_forward_hooks(intervenable)\n",
        "  return intervenable\n",
        "\n",
        "\n",
        "attrs = list(ALL_ATTR_TO_PROMPTS)\n",
        "target_attr = 'Country'\n",
        "\n",
        "# Train on disentangling Country attribute only.\n",
        "training_tasks_list = [\n",
        "  {t: 'match_source'} for t in attrs if t == target_attr\n",
        "] + [\n",
        "    {t: 'match_source' if t == target_t else 'match_base' for t in attrs}\n",
        "    for target_t in attrs if target_t == target_attr\n",
        "]\n",
        "\n",
        "eval_split_to_dataset = {k: v for k, v in split_to_dataset.items()\n",
        "                         if k.endswith('-test') or k.endswith('-val')}\n",
        "\n",
        "model = model.eval()\n",
        "\n",
        "TRAINING_BATCH_SIZE = 16\n",
        "EVAL_BATCH_SIZE = 128\n",
        "\n",
        "lr = 1e-4\n",
        "for inv_layer in [14]:\n",
        "  for inv_dim in [64]:\n",
        "    for training_tasks in training_tasks_list:\n",
        "      for cause_task_sample_size in [20000]:\n",
        "        config = {\n",
        "            'regularization_coefficient': 0,\n",
        "            'intervention_dimension': inv_dim,\n",
        "            'max_output_tokens': 3,\n",
        "            'intervenable_config': {\n",
        "              'intervenable_layer': inv_layer,\n",
        "              'intervenable_representation_type': 'block_output',\n",
        "              'intervenable_unit': 'pos',\n",
        "              'max_number_of_units': 1,\n",
        "              'intervenable_interventions_type': LowRankRotatedSpaceIntervention,\n",
        "            },\n",
        "            'training_tasks': training_tasks,\n",
        "            'training_epoch': 3,\n",
        "            'split_to_inv_locations': SPLIT_TO_INV_LOCATIONS,\n",
        "            'max_train_percentage': 1.0 if len(training_tasks) <= 3 else 1.0,\n",
        "            'init_lr': lr,\n",
        "            'cause_task_sample_size': cause_task_sample_size,\n",
        "            'iso_task_sample_size': 4000,\n",
        "            'training_batch_size': TRAINING_BATCH_SIZE,\n",
        "            'task_to_prompts': ALL_ATTR_TO_PROMPTS,\n",
        "            'log_dir': os.path.join(MODEL_DIR, 'logs'),\n",
        "        }\n",
        "        intervenable = run_exp(config)\n",
        "\n",
        "\n",
        "# Training each method will take about 3.5 hrs on the hosted T4 runtime."
      ]
    },
    {
      "cell_type": "markdown",
      "metadata": {
        "id": "glatG86QlJ4q"
      },
      "source": [
        "## Evaluate"
      ]
    },
    {
      "cell_type": "code",
      "execution_count": null,
      "metadata": {
        "id": "DgTg14xMlJCO"
      },
      "outputs": [],
      "source": [
        "# The training script above has already included the evaluation part.\n",
        "# Below is a standalone evaluation script in case you want to rerun evaluation.\n",
        "\n",
        "\n",
        "import re\n",
        "\n",
        "import pyvene as pv\n",
        "from utils.intervention_utils import load_intervenable, load_intervenable_with_pca, eval_with_interventions\n",
        "from utils.metric_utils import compute_metrics\n",
        "\n",
        "\n",
        "model_paths = [\n",
        "    'tinyllama-layer14-dim64-multitask_daslora_3tok_Country_ex_Continent+Latitude+Longitude+Language+Timezone_len48_pose_ep3_cause20000_iso4000.pt',\n",
        "    'tinyllama-layer14-dim64-baseline_daslora_3tok_Country_len48_pose_ep3_cause20000.pt',\n",
        " ]\n",
        "\n",
        "eval_split_to_dataset = {k: v for k, v in split_to_dataset.items()\n",
        "                         if k.endswith('-test')\n",
        "                         }\n",
        "RUN_TO_EVAL_METRICS = {}\n",
        "for i, run_name in enumerate(model_paths):\n",
        "  print(run_name)\n",
        "  layer = int(re.search('layer(\\d+)[_\\-]', run_name).group(1))\n",
        "  run_name, ext = run_name.rsplit('.', 1)\n",
        "  if 'pca' in run_name:\n",
        "    intervenable = load_intervenable_with_pca(model, run_name + '.' + ext)\n",
        "  elif 'causal_abstraction' in run_name:\n",
        "    intervenable = load_causal_abstraction_intervenable(model, run_name)\n",
        "  else:\n",
        "    intervenable = load_intervenable(model, os.path.join(MODEL_DIR, run_name + '.' + ext))\n",
        "  split_to_eval_metrics = eval_with_interventions(\n",
        "      intervenable, eval_split_to_dataset, SPLIT_TO_INV_LOCATIONS if layer < 24 else SPLIT_TO_INV_LOCATIONS_LAST_TOK,\n",
        "      tokenizer, compute_metrics_fn=compute_metrics, max_new_tokens=3, debug_print=False)\n",
        "  json.dump(split_to_eval_metrics, open(os.path.join(MODEL_DIR, f'{run_name}_evalall.json'), 'w'))"
      ]
    },
    {
      "cell_type": "markdown",
      "metadata": {
        "id": "F-_gzLeA1Qc7"
      },
      "source": [
        "# Compare Methods with Disentangle Score"
      ]
    },
    {
      "cell_type": "code",
      "execution_count": null,
      "metadata": {
        "id": "FxZSB2bT36ra"
      },
      "outputs": [],
      "source": [
        "# Compute disentangle scores.\n",
        "\n",
        "from src.utils.metric_utils import compute_disentangle_score\n",
        "\n",
        "\n",
        "tinyllama_dimension_to_log_path = {\n",
        "    'SAE': {d: f'tinyllama-layer14-dim8192-reg0.5-ep5-sae-city_wikipedia_200k_dim{d}_3tok_Country.json'\n",
        "            # Update the following dimensions to match your own results.\n",
        "            # SAE might have different feature dimensions from run to run due to\n",
        "            # randomness in the feature selection algorithm.\n",
        "            for d in [68, 313]\n",
        "    },\n",
        "    'DAS': {d: f'tinyllama-layer14-dim{d}-baseline_daslora_3tok_Country_len48_pose_ep3_cause20000_evalall.json'\n",
        "            for d in [16, 64]},\n",
        "    'MDAS': {d: f'tinyllama-layer14-dim{d}-multitask_daslora_3tok_Country1_ex_Continent+Latitude+Longitude+Language+Timezone_len48_pose_ep3_cause20000_iso4000_evalall.json'\n",
        "             for d in [16, 64]\n",
        "    },\n",
        "}\n",
        "\n",
        "\n",
        "entity_type = 'city'\n",
        "target_attribute = 'Country'\n",
        "split_type = 'context'\n",
        "split_suffix = '-test'\n",
        "model_name = 'tinyllama'\n",
        "\n",
        "\n",
        "split_to_raw_example = json.load(\n",
        "    open(os.path.join(DATA_DIR, model_name, f'{model_name}_{entity_type}_{split_type}_test.json')))\n",
        "attribute_to_prompts = json.load(\n",
        "    open(os.path.join(DATA_DIR, 'base', f'ravel_{entity_type}_attribute_to_prompts.json')))\n",
        "\n",
        "\n",
        "attribute_to_iso_tasks = {\n",
        "    a: [p + split_suffix for p in ps if p + split_suffix in split_to_raw_example]\n",
        "    for a, ps in attribute_to_prompts.items() if a != target_attribute}\n",
        "attribute_to_cause_tasks = {\n",
        "    a: [p + split_suffix for p in ps if p + split_suffix in split_to_raw_example]\n",
        "    for a, ps in attribute_to_prompts.items() if a == target_attribute}\n",
        "\n",
        "method_to_data = collections.defaultdict(dict)\n",
        "for method in tinyllama_dimension_to_log_path:\n",
        "  for inv_dimension in tinyllama_dimension_to_log_path[method]:\n",
        "    log_data = json.load(\n",
        "        open(os.path.join(MODEL_DIR, tinyllama_dimension_to_log_path[method][inv_dimension])))\n",
        "    method_to_data[method][inv_dimension] = compute_disentangle_score(\n",
        "        log_data, attribute_to_iso_tasks, attribute_to_cause_tasks)"
      ]
    },
    {
      "cell_type": "code",
      "execution_count": null,
      "metadata": {
        "colab": {
          "base_uri": "https://localhost:8080/",
          "height": 453
        },
        "id": "_0GSxcY1esIh",
        "outputId": "a140cf5d-71f5-4457-834c-1c51a83b7218"
      },
      "outputs": [
        {
          "data": {
            "image/png": "[encoded data removed]",
            "text/plain": [
              "<Figure size 640x480 with 1 Axes>"
            ]
          },
          "metadata": {},
          "output_type": "display_data"
        }
      ],
      "source": [
        "#@markdown Plotting\n",
        "\n",
        "import matplotlib.pyplot as plt\n",
        "import matplotlib\n",
        "\n",
        "plt.rcParams['figure.dpi'] = 100\n",
        "plt.rcParams['savefig.dpi'] = 100\n",
        "\n",
        "\n",
        "colors = [matplotlib.colors.to_hex(c) for c in plt.cm.tab20.colors]\n",
        "\n",
        "name_to_color = {\n",
        "    'SAE_RAND': 'gray',\n",
        "    'PCA': colors[6],\n",
        "    'SAE': colors[2],\n",
        "    'RLAP': colors[4],\n",
        "    'DBM': colors[1],\n",
        "    'MDBM': colors[0],\n",
        "    'DAS': colors[9],\n",
        "    'MDAS': colors[8],\n",
        "}\n",
        "\n",
        "name_to_marker = {\n",
        "    'SAE_RAND': 'o--',\n",
        "    'PCA': 'o--',\n",
        "    'SAE': 'o--',\n",
        "    'RLAP': '^--',\n",
        "    'DBM': 's--',\n",
        "    'MDBM': 's--',\n",
        "    'DAS': 's--',\n",
        "    'MDAS': 's--',\n",
        "}\n",
        "\n",
        "for n, x in method_to_data.items():\n",
        "  sorted_dim = sorted(x, key=lambda i: float(i[:-1]))\n",
        "  p = plt.plot([x[k]['cause'] for k in sorted_dim],\n",
        "               [x[k]['isolate'] for k in sorted_dim], name_to_marker[n], label=n, markersize=10,\n",
        "               c=name_to_color[n])\n",
        "  for k in sorted(x, key=lambda s: x[s]['disentangle'], reverse=True):\n",
        "    c = p[-1].get_color()\n",
        "    offset = (0, 0.05)\n",
        "    # Shift text boxes to avoid overlaps.\n",
        "    if n == 'SAE' and k == '3.8%':\n",
        "      offset = (0.05, -0.07)\n",
        "    plt.annotate(k, (x[k]['cause'] - offset[0], x[k]['isolate'] + offset[1]), size=12,\n",
        "                 bbox=dict(boxstyle='round,pad=0.15', fc=c, ec='white', alpha=0.5))\n",
        "plt.scatter(1, 1, s=500, marker='*', color='gold', zorder=3)\n",
        "plt.annotate('GOAL', (1.0-0.18, 1.0 - 0.01), size=12)\n",
        "plt.gca().set_aspect('equal')\n",
        "plt.xlim(-0.1, 1.05)\n",
        "plt.ylim(-0.0, 1.1)\n",
        "plt.grid(alpha=0.3, linestyle='--')\n",
        "plt.legend(loc = 'lower left', prop={'size': 10})\n",
        "plt.xlabel('Cause Score', fontsize=12)\n",
        "_ = plt.ylabel('Isolate Score', fontsize=12)"
      ]
    }
  ],
  "metadata": {
    "accelerator": "GPU",
    "colab": {
      "gpuType": "T4",
      "provenance": [],
      "toc_visible": true
    },
    "kernelspec": {
      "display_name": "Python 3",
      "name": "python3"
    },
    "language_info": {
      "codemirror_mode": {
        "name": "ipython",
        "version": 3
      },
      "file_extension": ".py",
      "mimetype": "text/x-python",
      "name": "python",
      "nbconvert_exporter": "python",
      "pygments_lexer": "ipython3",
      "version": "3.12.5"
    },
    "widgets": {
      "application/vnd.jupyter.widget-state+json": {
        "005eed6540744f089e737fa1ff10079e": {
          "model_module": "@jupyter-widgets/controls",
          "model_module_version": "1.5.0",
          "model_name": "DescriptionStyleModel",
          "state": {
            "_model_module": "@jupyter-widgets/controls",
            "_model_module_version": "1.5.0",
            "_model_name": "DescriptionStyleModel",
            "_view_count": null,
            "_view_module": "@jupyter-widgets/base",
            "_view_module_version": "1.2.0",
            "_view_name": "StyleView",
            "description_width": ""
          }
        },
        "0517c508b4fe4fc6b25296267753eda3": {
          "model_module": "@jupyter-widgets/controls",
          "model_module_version": "1.5.0",
          "model_name": "ProgressStyleModel",
          "state": {
            "_model_module": "@jupyter-widgets/controls",
            "_model_module_version": "1.5.0",
            "_model_name": "ProgressStyleModel",
            "_view_count": null,
            "_view_module": "@jupyter-widgets/base",
            "_view_module_version": "1.2.0",
            "_view_name": "StyleView",
            "bar_color": null,
            "description_width": ""
          }
        },
        "08ae93f57daa4569ba4a3e4c405ce8da": {
          "model_module": "@jupyter-widgets/base",
          "model_module_version": "1.2.0",
          "model_name": "LayoutModel",
          "state": {
            "_model_module": "@jupyter-widgets/base",
            "_model_module_version": "1.2.0",
            "_model_name": "LayoutModel",
            "_view_count": null,
            "_view_module": "@jupyter-widgets/base",
            "_view_module_version": "1.2.0",
            "_view_name": "LayoutView",
            "align_content": null,
            "align_items": null,
            "align_self": null,
            "border": null,
            "bottom": null,
            "display": null,
            "flex": null,
            "flex_flow": null,
            "grid_area": null,
            "grid_auto_columns": null,
            "grid_auto_flow": null,
            "grid_auto_rows": null,
            "grid_column": null,
            "grid_gap": null,
            "grid_row": null,
            "grid_template_areas": null,
            "grid_template_columns": null,
            "grid_template_rows": null,
            "height": null,
            "justify_content": null,
            "justify_items": null,
            "left": null,
            "margin": null,
            "max_height": null,
            "max_width": null,
            "min_height": null,
            "min_width": null,
            "object_fit": null,
            "object_position": null,
            "order": null,
            "overflow": null,
            "overflow_x": null,
            "overflow_y": null,
            "padding": null,
            "right": null,
            "top": null,
            "visibility": null,
            "width": null
          }
        },
        "0acc718373c0425bbf77f8c22aeb0b38": {
          "model_module": "@jupyter-widgets/base",
          "model_module_version": "1.2.0",
          "model_name": "LayoutModel",
          "state": {
            "_model_module": "@jupyter-widgets/base",
            "_model_module_version": "1.2.0",
            "_model_name": "LayoutModel",
            "_view_count": null,
            "_view_module": "@jupyter-widgets/base",
            "_view_module_version": "1.2.0",
            "_view_name": "LayoutView",
            "align_content": null,
            "align_items": null,
            "align_self": null,
            "border": null,
            "bottom": null,
            "display": null,
            "flex": null,
            "flex_flow": null,
            "grid_area": null,
            "grid_auto_columns": null,
            "grid_auto_flow": null,
            "grid_auto_rows": null,
            "grid_column": null,
            "grid_gap": null,
            "grid_row": null,
            "grid_template_areas": null,
            "grid_template_columns": null,
            "grid_template_rows": null,
            "height": null,
            "justify_content": null,
            "justify_items": null,
            "left": null,
            "margin": null,
            "max_height": null,
            "max_width": null,
            "min_height": null,
            "min_width": null,
            "object_fit": null,
            "object_position": null,
            "order": null,
            "overflow": null,
            "overflow_x": null,
            "overflow_y": null,
            "padding": null,
            "right": null,
            "top": null,
            "visibility": null,
            "width": null
          }
        },
        "0c97a854107a48279be70b32eeefbe93": {
          "model_module": "@jupyter-widgets/controls",
          "model_module_version": "1.5.0",
          "model_name": "DescriptionStyleModel",
          "state": {
            "_model_module": "@jupyter-widgets/controls",
            "_model_module_version": "1.5.0",
            "_model_name": "DescriptionStyleModel",
            "_view_count": null,
            "_view_module": "@jupyter-widgets/base",
            "_view_module_version": "1.2.0",
            "_view_name": "StyleView",
            "description_width": ""
          }
        },
        "0ed867cdc75540ecafa3cccda8d9855e": {
          "model_module": "@jupyter-widgets/controls",
          "model_module_version": "1.5.0",
          "model_name": "DescriptionStyleModel",
          "state": {
            "_model_module": "@jupyter-widgets/controls",
            "_model_module_version": "1.5.0",
            "_model_name": "DescriptionStyleModel",
            "_view_count": null,
            "_view_module": "@jupyter-widgets/base",
            "_view_module_version": "1.2.0",
            "_view_name": "StyleView",
            "description_width": ""
          }
        },
        "105afa2bfd8f417f9c152369a82b5d43": {
          "model_module": "@jupyter-widgets/controls",
          "model_module_version": "1.5.0",
          "model_name": "DescriptionStyleModel",
          "state": {
            "_model_module": "@jupyter-widgets/controls",
            "_model_module_version": "1.5.0",
            "_model_name": "DescriptionStyleModel",
            "_view_count": null,
            "_view_module": "@jupyter-widgets/base",
            "_view_module_version": "1.2.0",
            "_view_name": "StyleView",
            "description_width": ""
          }
        },
        "12f4cb88ea9f48f4aed19ed1e44e6e29": {
          "model_module": "@jupyter-widgets/controls",
          "model_module_version": "1.5.0",
          "model_name": "FloatProgressModel",
          "state": {
            "_dom_classes": [],
            "_model_module": "@jupyter-widgets/controls",
            "_model_module_version": "1.5.0",
            "_model_name": "FloatProgressModel",
            "_view_count": null,
            "_view_module": "@jupyter-widgets/controls",
            "_view_module_version": "1.5.0",
            "_view_name": "ProgressView",
            "bar_style": "success",
            "description": "",
            "description_tooltip": null,
            "layout": "IPY_MODEL_82f63a30f5cd4bf1b5fab69872179dde",
            "max": 4400216536,
            "min": 0,
            "orientation": "horizontal",
            "style": "IPY_MODEL_52906e1969034d4a8c3070847d016b6f",
            "value": 4400216536
          }
        },
        "13d390959219401990e19a402647d806": {
          "model_module": "@jupyter-widgets/controls",
          "model_module_version": "1.5.0",
          "model_name": "DescriptionStyleModel",
          "state": {
            "_model_module": "@jupyter-widgets/controls",
            "_model_module_version": "1.5.0",
            "_model_name": "DescriptionStyleModel",
            "_view_count": null,
            "_view_module": "@jupyter-widgets/base",
            "_view_module_version": "1.2.0",
            "_view_name": "StyleView",
            "description_width": ""
          }
        },
        "1425f96afea341e28b63324ed030c42a": {
          "model_module": "@jupyter-widgets/base",
          "model_module_version": "1.2.0",
          "model_name": "LayoutModel",
          "state": {
            "_model_module": "@jupyter-widgets/base",
            "_model_module_version": "1.2.0",
            "_model_name": "LayoutModel",
            "_view_count": null,
            "_view_module": "@jupyter-widgets/base",
            "_view_module_version": "1.2.0",
            "_view_name": "LayoutView",
            "align_content": null,
            "align_items": null,
            "align_self": null,
            "border": null,
            "bottom": null,
            "display": null,
            "flex": null,
            "flex_flow": null,
            "grid_area": null,
            "grid_auto_columns": null,
            "grid_auto_flow": null,
            "grid_auto_rows": null,
            "grid_column": null,
            "grid_gap": null,
            "grid_row": null,
            "grid_template_areas": null,
            "grid_template_columns": null,
            "grid_template_rows": null,
            "height": null,
            "justify_content": null,
            "justify_items": null,
            "left": null,
            "margin": null,
            "max_height": null,
            "max_width": null,
            "min_height": null,
            "min_width": null,
            "object_fit": null,
            "object_position": null,
            "order": null,
            "overflow": null,
            "overflow_x": null,
            "overflow_y": null,
            "padding": null,
            "right": null,
            "top": null,
            "visibility": null,
            "width": null
          }
        },
        "1b713e51221243e8b07c78e1e97dc4c4": {
          "model_module": "@jupyter-widgets/controls",
          "model_module_version": "1.5.0",
          "model_name": "HBoxModel",
          "state": {
            "_dom_classes": [],
            "_model_module": "@jupyter-widgets/controls",
            "_model_module_version": "1.5.0",
            "_model_name": "HBoxModel",
            "_view_count": null,
            "_view_module": "@jupyter-widgets/controls",
            "_view_module_version": "1.5.0",
            "_view_name": "HBoxView",
            "box_style": "",
            "children": [
              "IPY_MODEL_4f7b2ef7654a4ea88beb36bf39fb78e4",
              "IPY_MODEL_26c0a67949044205b2607a4bd83b3527",
              "IPY_MODEL_47801322a28140c4bdc4d912c77603d1"
            ],
            "layout": "IPY_MODEL_d2494418df4843e1a6fafaec3045633c"
          }
        },
        "1d4d674929df41adb6a45acc74e0863f": {
          "model_module": "@jupyter-widgets/controls",
          "model_module_version": "1.5.0",
          "model_name": "FloatProgressModel",
          "state": {
            "_dom_classes": [],
            "_model_module": "@jupyter-widgets/controls",
            "_model_module_version": "1.5.0",
            "_model_name": "FloatProgressModel",
            "_view_count": null,
            "_view_module": "@jupyter-widgets/controls",
            "_view_module_version": "1.5.0",
            "_view_name": "ProgressView",
            "bar_style": "success",
            "description": "",
            "description_tooltip": null,
            "layout": "IPY_MODEL_72da486212cb432783f334f069225239",
            "max": 776,
            "min": 0,
            "orientation": "horizontal",
            "style": "IPY_MODEL_ea5c4813efee43b39f2aef43ff754405",
            "value": 776
          }
        },
        "1d60c64cbe684ac9bd9c997679f7fa44": {
          "model_module": "@jupyter-widgets/base",
          "model_module_version": "1.2.0",
          "model_name": "LayoutModel",
          "state": {
            "_model_module": "@jupyter-widgets/base",
            "_model_module_version": "1.2.0",
            "_model_name": "LayoutModel",
            "_view_count": null,
            "_view_module": "@jupyter-widgets/base",
            "_view_module_version": "1.2.0",
            "_view_name": "LayoutView",
            "align_content": null,
            "align_items": null,
            "align_self": null,
            "border": null,
            "bottom": null,
            "display": null,
            "flex": null,
            "flex_flow": null,
            "grid_area": null,
            "grid_auto_columns": null,
            "grid_auto_flow": null,
            "grid_auto_rows": null,
            "grid_column": null,
            "grid_gap": null,
            "grid_row": null,
            "grid_template_areas": null,
            "grid_template_columns": null,
            "grid_template_rows": null,
            "height": null,
            "justify_content": null,
            "justify_items": null,
            "left": null,
            "margin": null,
            "max_height": null,
            "max_width": null,
            "min_height": null,
            "min_width": null,
            "object_fit": null,
            "object_position": null,
            "order": null,
            "overflow": null,
            "overflow_x": null,
            "overflow_y": null,
            "padding": null,
            "right": null,
            "top": null,
            "visibility": null,
            "width": null
          }
        },
        "241d686011a845bea660c4870f808595": {
          "model_module": "@jupyter-widgets/controls",
          "model_module_version": "1.5.0",
          "model_name": "HTMLModel",
          "state": {
            "_dom_classes": [],
            "_model_module": "@jupyter-widgets/controls",
            "_model_module_version": "1.5.0",
            "_model_name": "HTMLModel",
            "_view_count": null,
            "_view_module": "@jupyter-widgets/controls",
            "_view_module_version": "1.5.0",
            "_view_name": "HTMLView",
            "description": "",
            "description_tooltip": null,
            "layout": "IPY_MODEL_ebba9c999eaf42eaad6c021b34d624f7",
            "placeholder": "​",
            "style": "IPY_MODEL_0c97a854107a48279be70b32eeefbe93",
            "value": "model.safetensors: 100%"
          }
        },
        "25c03fbbdef4497397f1ab4ac36d8e30": {
          "model_module": "@jupyter-widgets/controls",
          "model_module_version": "1.5.0",
          "model_name": "HTMLModel",
          "state": {
            "_dom_classes": [],
            "_model_module": "@jupyter-widgets/controls",
            "_model_module_version": "1.5.0",
            "_model_name": "HTMLModel",
            "_view_count": null,
            "_view_module": "@jupyter-widgets/controls",
            "_view_module_version": "1.5.0",
            "_view_name": "HTMLView",
            "description": "",
            "description_tooltip": null,
            "layout": "IPY_MODEL_545982efc183497484490d5f4f802869",
            "placeholder": "​",
            "style": "IPY_MODEL_584b3a66e9a8494bacb5183aa92509bd",
            "value": " 776/776 [00:00&lt;00:00, 46.9kB/s]"
          }
        },
        "26c0a67949044205b2607a4bd83b3527": {
          "model_module": "@jupyter-widgets/controls",
          "model_module_version": "1.5.0",
          "model_name": "FloatProgressModel",
          "state": {
            "_dom_classes": [],
            "_model_module": "@jupyter-widgets/controls",
            "_model_module_version": "1.5.0",
            "_model_name": "FloatProgressModel",
            "_view_count": null,
            "_view_module": "@jupyter-widgets/controls",
            "_view_module_version": "1.5.0",
            "_view_name": "ProgressView",
            "bar_style": "success",
            "description": "",
            "description_tooltip": null,
            "layout": "IPY_MODEL_57c0ac34b3c34488886ad748560a2e37",
            "max": 414,
            "min": 0,
            "orientation": "horizontal",
            "style": "IPY_MODEL_756eba6c613d438fbb44fb089357824f",
            "value": 414
          }
        },
        "2aedc3d191bc43289ade6eb2e7879f0f": {
          "model_module": "@jupyter-widgets/controls",
          "model_module_version": "1.5.0",
          "model_name": "ProgressStyleModel",
          "state": {
            "_model_module": "@jupyter-widgets/controls",
            "_model_module_version": "1.5.0",
            "_model_name": "ProgressStyleModel",
            "_view_count": null,
            "_view_module": "@jupyter-widgets/base",
            "_view_module_version": "1.2.0",
            "_view_name": "StyleView",
            "bar_color": null,
            "description_width": ""
          }
        },
        "3479d2307a7947b5b10b2db1d780363b": {
          "model_module": "@jupyter-widgets/controls",
          "model_module_version": "1.5.0",
          "model_name": "ProgressStyleModel",
          "state": {
            "_model_module": "@jupyter-widgets/controls",
            "_model_module_version": "1.5.0",
            "_model_name": "ProgressStyleModel",
            "_view_count": null,
            "_view_module": "@jupyter-widgets/base",
            "_view_module_version": "1.2.0",
            "_view_name": "StyleView",
            "bar_color": null,
            "description_width": ""
          }
        },
        "3d103360c58341e49c42a853c753e3c7": {
          "model_module": "@jupyter-widgets/controls",
          "model_module_version": "1.5.0",
          "model_name": "HTMLModel",
          "state": {
            "_dom_classes": [],
            "_model_module": "@jupyter-widgets/controls",
            "_model_module_version": "1.5.0",
            "_model_name": "HTMLModel",
            "_view_count": null,
            "_view_module": "@jupyter-widgets/controls",
            "_view_module_version": "1.5.0",
            "_view_name": "HTMLView",
            "description": "",
            "description_tooltip": null,
            "layout": "IPY_MODEL_1425f96afea341e28b63324ed030c42a",
            "placeholder": "​",
            "style": "IPY_MODEL_105afa2bfd8f417f9c152369a82b5d43",
            "value": " 1.84M/1.84M [00:00&lt;00:00, 8.02MB/s]"
          }
        },
        "3d1321cc589a49e8afda9be94788153d": {
          "model_module": "@jupyter-widgets/base",
          "model_module_version": "1.2.0",
          "model_name": "LayoutModel",
          "state": {
            "_model_module": "@jupyter-widgets/base",
            "_model_module_version": "1.2.0",
            "_model_name": "LayoutModel",
            "_view_count": null,
            "_view_module": "@jupyter-widgets/base",
            "_view_module_version": "1.2.0",
            "_view_name": "LayoutView",
            "align_content": null,
            "align_items": null,
            "align_self": null,
            "border": null,
            "bottom": null,
            "display": null,
            "flex": null,
            "flex_flow": null,
            "grid_area": null,
            "grid_auto_columns": null,
            "grid_auto_flow": null,
            "grid_auto_rows": null,
            "grid_column": null,
            "grid_gap": null,
            "grid_row": null,
            "grid_template_areas": null,
            "grid_template_columns": null,
            "grid_template_rows": null,
            "height": null,
            "justify_content": null,
            "justify_items": null,
            "left": null,
            "margin": null,
            "max_height": null,
            "max_width": null,
            "min_height": null,
            "min_width": null,
            "object_fit": null,
            "object_position": null,
            "order": null,
            "overflow": null,
            "overflow_x": null,
            "overflow_y": null,
            "padding": null,
            "right": null,
            "top": null,
            "visibility": null,
            "width": null
          }
        },
        "401b8866435b459ab499fa33db9d3120": {
          "model_module": "@jupyter-widgets/controls",
          "model_module_version": "1.5.0",
          "model_name": "DescriptionStyleModel",
          "state": {
            "_model_module": "@jupyter-widgets/controls",
            "_model_module_version": "1.5.0",
            "_model_name": "DescriptionStyleModel",
            "_view_count": null,
            "_view_module": "@jupyter-widgets/base",
            "_view_module_version": "1.2.0",
            "_view_name": "StyleView",
            "description_width": ""
          }
        },
        "446a9f40e3b94b7199e7b51717a814b7": {
          "model_module": "@jupyter-widgets/controls",
          "model_module_version": "1.5.0",
          "model_name": "HBoxModel",
          "state": {
            "_dom_classes": [],
            "_model_module": "@jupyter-widgets/controls",
            "_model_module_version": "1.5.0",
            "_model_name": "HBoxModel",
            "_view_count": null,
            "_view_module": "@jupyter-widgets/controls",
            "_view_module_version": "1.5.0",
            "_view_name": "HBoxView",
            "box_style": "",
            "children": [
              "IPY_MODEL_6adf85b11a484a9d9c22da15a4475d08",
              "IPY_MODEL_a0c6f760286f40958d6239a4686a4559",
              "IPY_MODEL_3d103360c58341e49c42a853c753e3c7"
            ],
            "layout": "IPY_MODEL_458471f2712a43e5bf837c63bb6cb3f3"
          }
        },
        "458471f2712a43e5bf837c63bb6cb3f3": {
          "model_module": "@jupyter-widgets/base",
          "model_module_version": "1.2.0",
          "model_name": "LayoutModel",
          "state": {
            "_model_module": "@jupyter-widgets/base",
            "_model_module_version": "1.2.0",
            "_model_name": "LayoutModel",
            "_view_count": null,
            "_view_module": "@jupyter-widgets/base",
            "_view_module_version": "1.2.0",
            "_view_name": "LayoutView",
            "align_content": null,
            "align_items": null,
            "align_self": null,
            "border": null,
            "bottom": null,
            "display": null,
            "flex": null,
            "flex_flow": null,
            "grid_area": null,
            "grid_auto_columns": null,
            "grid_auto_flow": null,
            "grid_auto_rows": null,
            "grid_column": null,
            "grid_gap": null,
            "grid_row": null,
            "grid_template_areas": null,
            "grid_template_columns": null,
            "grid_template_rows": null,
            "height": null,
            "justify_content": null,
            "justify_items": null,
            "left": null,
            "margin": null,
            "max_height": null,
            "max_width": null,
            "min_height": null,
            "min_width": null,
            "object_fit": null,
            "object_position": null,
            "order": null,
            "overflow": null,
            "overflow_x": null,
            "overflow_y": null,
            "padding": null,
            "right": null,
            "top": null,
            "visibility": null,
            "width": null
          }
        },
        "473247a28332437d8254c896e6c57051": {
          "model_module": "@jupyter-widgets/controls",
          "model_module_version": "1.5.0",
          "model_name": "HTMLModel",
          "state": {
            "_dom_classes": [],
            "_model_module": "@jupyter-widgets/controls",
            "_model_module_version": "1.5.0",
            "_model_name": "HTMLModel",
            "_view_count": null,
            "_view_module": "@jupyter-widgets/controls",
            "_view_module_version": "1.5.0",
            "_view_name": "HTMLView",
            "description": "",
            "description_tooltip": null,
            "layout": "IPY_MODEL_70b94189e15148739dad7db7aaf8ab42",
            "placeholder": "​",
            "style": "IPY_MODEL_0ed867cdc75540ecafa3cccda8d9855e",
            "value": "tokenizer_config.json: 100%"
          }
        },
        "47801322a28140c4bdc4d912c77603d1": {
          "model_module": "@jupyter-widgets/controls",
          "model_module_version": "1.5.0",
          "model_name": "HTMLModel",
          "state": {
            "_dom_classes": [],
            "_model_module": "@jupyter-widgets/controls",
            "_model_module_version": "1.5.0",
            "_model_name": "HTMLModel",
            "_view_count": null,
            "_view_module": "@jupyter-widgets/controls",
            "_view_module_version": "1.5.0",
            "_view_name": "HTMLView",
            "description": "",
            "description_tooltip": null,
            "layout": "IPY_MODEL_d44c221686964c09ad24f72f87bb2733",
            "placeholder": "​",
            "style": "IPY_MODEL_4e11a4930771477ca7dc59672e4e4f78",
            "value": " 414/414 [00:00&lt;00:00, 2.91kB/s]"
          }
        },
        "481b28c71e7c4fe6a26c08b4e8b36395": {
          "model_module": "@jupyter-widgets/controls",
          "model_module_version": "1.5.0",
          "model_name": "HTMLModel",
          "state": {
            "_dom_classes": [],
            "_model_module": "@jupyter-widgets/controls",
            "_model_module_version": "1.5.0",
            "_model_name": "HTMLModel",
            "_view_count": null,
            "_view_module": "@jupyter-widgets/controls",
            "_view_module_version": "1.5.0",
            "_view_name": "HTMLView",
            "description": "",
            "description_tooltip": null,
            "layout": "IPY_MODEL_0acc718373c0425bbf77f8c22aeb0b38",
            "placeholder": "​",
            "style": "IPY_MODEL_863fecc9fa2148f8a80f731fc9d0ab3d",
            "value": "generation_config.json: 100%"
          }
        },
        "4e11a4930771477ca7dc59672e4e4f78": {
          "model_module": "@jupyter-widgets/controls",
          "model_module_version": "1.5.0",
          "model_name": "DescriptionStyleModel",
          "state": {
            "_model_module": "@jupyter-widgets/controls",
            "_model_module_version": "1.5.0",
            "_model_name": "DescriptionStyleModel",
            "_view_count": null,
            "_view_module": "@jupyter-widgets/base",
            "_view_module_version": "1.2.0",
            "_view_name": "StyleView",
            "description_width": ""
          }
        },
        "4eec5229825e40bbaa19e5a10fa5bda5": {
          "model_module": "@jupyter-widgets/base",
          "model_module_version": "1.2.0",
          "model_name": "LayoutModel",
          "state": {
            "_model_module": "@jupyter-widgets/base",
            "_model_module_version": "1.2.0",
            "_model_name": "LayoutModel",
            "_view_count": null,
            "_view_module": "@jupyter-widgets/base",
            "_view_module_version": "1.2.0",
            "_view_name": "LayoutView",
            "align_content": null,
            "align_items": null,
            "align_self": null,
            "border": null,
            "bottom": null,
            "display": null,
            "flex": null,
            "flex_flow": null,
            "grid_area": null,
            "grid_auto_columns": null,
            "grid_auto_flow": null,
            "grid_auto_rows": null,
            "grid_column": null,
            "grid_gap": null,
            "grid_row": null,
            "grid_template_areas": null,
            "grid_template_columns": null,
            "grid_template_rows": null,
            "height": null,
            "justify_content": null,
            "justify_items": null,
            "left": null,
            "margin": null,
            "max_height": null,
            "max_width": null,
            "min_height": null,
            "min_width": null,
            "object_fit": null,
            "object_position": null,
            "order": null,
            "overflow": null,
            "overflow_x": null,
            "overflow_y": null,
            "padding": null,
            "right": null,
            "top": null,
            "visibility": null,
            "width": null
          }
        },
        "4f7b2ef7654a4ea88beb36bf39fb78e4": {
          "model_module": "@jupyter-widgets/controls",
          "model_module_version": "1.5.0",
          "model_name": "HTMLModel",
          "state": {
            "_dom_classes": [],
            "_model_module": "@jupyter-widgets/controls",
            "_model_module_version": "1.5.0",
            "_model_name": "HTMLModel",
            "_view_count": null,
            "_view_module": "@jupyter-widgets/controls",
            "_view_module_version": "1.5.0",
            "_view_name": "HTMLView",
            "description": "",
            "description_tooltip": null,
            "layout": "IPY_MODEL_f336d3c4d8d142b4b3295d4a232fc8df",
            "placeholder": "​",
            "style": "IPY_MODEL_f59f25c5edec4a3cb0296fcbbde59147",
            "value": "special_tokens_map.json: 100%"
          }
        },
        "52906e1969034d4a8c3070847d016b6f": {
          "model_module": "@jupyter-widgets/controls",
          "model_module_version": "1.5.0",
          "model_name": "ProgressStyleModel",
          "state": {
            "_model_module": "@jupyter-widgets/controls",
            "_model_module_version": "1.5.0",
            "_model_name": "ProgressStyleModel",
            "_view_count": null,
            "_view_module": "@jupyter-widgets/base",
            "_view_module_version": "1.2.0",
            "_view_name": "StyleView",
            "bar_color": null,
            "description_width": ""
          }
        },
        "545982efc183497484490d5f4f802869": {
          "model_module": "@jupyter-widgets/base",
          "model_module_version": "1.2.0",
          "model_name": "LayoutModel",
          "state": {
            "_model_module": "@jupyter-widgets/base",
            "_model_module_version": "1.2.0",
            "_model_name": "LayoutModel",
            "_view_count": null,
            "_view_module": "@jupyter-widgets/base",
            "_view_module_version": "1.2.0",
            "_view_name": "LayoutView",
            "align_content": null,
            "align_items": null,
            "align_self": null,
            "border": null,
            "bottom": null,
            "display": null,
            "flex": null,
            "flex_flow": null,
            "grid_area": null,
            "grid_auto_columns": null,
            "grid_auto_flow": null,
            "grid_auto_rows": null,
            "grid_column": null,
            "grid_gap": null,
            "grid_row": null,
            "grid_template_areas": null,
            "grid_template_columns": null,
            "grid_template_rows": null,
            "height": null,
            "justify_content": null,
            "justify_items": null,
            "left": null,
            "margin": null,
            "max_height": null,
            "max_width": null,
            "min_height": null,
            "min_width": null,
            "object_fit": null,
            "object_position": null,
            "order": null,
            "overflow": null,
            "overflow_x": null,
            "overflow_y": null,
            "padding": null,
            "right": null,
            "top": null,
            "visibility": null,
            "width": null
          }
        },
        "55b97afaf5a14d4f9d24c17dfb158b68": {
          "model_module": "@jupyter-widgets/controls",
          "model_module_version": "1.5.0",
          "model_name": "DescriptionStyleModel",
          "state": {
            "_model_module": "@jupyter-widgets/controls",
            "_model_module_version": "1.5.0",
            "_model_name": "DescriptionStyleModel",
            "_view_count": null,
            "_view_module": "@jupyter-widgets/base",
            "_view_module_version": "1.2.0",
            "_view_name": "StyleView",
            "description_width": ""
          }
        },
        "57c0ac34b3c34488886ad748560a2e37": {
          "model_module": "@jupyter-widgets/base",
          "model_module_version": "1.2.0",
          "model_name": "LayoutModel",
          "state": {
            "_model_module": "@jupyter-widgets/base",
            "_model_module_version": "1.2.0",
            "_model_name": "LayoutModel",
            "_view_count": null,
            "_view_module": "@jupyter-widgets/base",
            "_view_module_version": "1.2.0",
            "_view_name": "LayoutView",
            "align_content": null,
            "align_items": null,
            "align_self": null,
            "border": null,
            "bottom": null,
            "display": null,
            "flex": null,
            "flex_flow": null,
            "grid_area": null,
            "grid_auto_columns": null,
            "grid_auto_flow": null,
            "grid_auto_rows": null,
            "grid_column": null,
            "grid_gap": null,
            "grid_row": null,
            "grid_template_areas": null,
            "grid_template_columns": null,
            "grid_template_rows": null,
            "height": null,
            "justify_content": null,
            "justify_items": null,
            "left": null,
            "margin": null,
            "max_height": null,
            "max_width": null,
            "min_height": null,
            "min_width": null,
            "object_fit": null,
            "object_position": null,
            "order": null,
            "overflow": null,
            "overflow_x": null,
            "overflow_y": null,
            "padding": null,
            "right": null,
            "top": null,
            "visibility": null,
            "width": null
          }
        },
        "584b3a66e9a8494bacb5183aa92509bd": {
          "model_module": "@jupyter-widgets/controls",
          "model_module_version": "1.5.0",
          "model_name": "DescriptionStyleModel",
          "state": {
            "_model_module": "@jupyter-widgets/controls",
            "_model_module_version": "1.5.0",
            "_model_name": "DescriptionStyleModel",
            "_view_count": null,
            "_view_module": "@jupyter-widgets/base",
            "_view_module_version": "1.2.0",
            "_view_name": "StyleView",
            "description_width": ""
          }
        },
        "5cf0ada5f9b3495290f9fda95cdedc66": {
          "model_module": "@jupyter-widgets/base",
          "model_module_version": "1.2.0",
          "model_name": "LayoutModel",
          "state": {
            "_model_module": "@jupyter-widgets/base",
            "_model_module_version": "1.2.0",
            "_model_name": "LayoutModel",
            "_view_count": null,
            "_view_module": "@jupyter-widgets/base",
            "_view_module_version": "1.2.0",
            "_view_name": "LayoutView",
            "align_content": null,
            "align_items": null,
            "align_self": null,
            "border": null,
            "bottom": null,
            "display": null,
            "flex": null,
            "flex_flow": null,
            "grid_area": null,
            "grid_auto_columns": null,
            "grid_auto_flow": null,
            "grid_auto_rows": null,
            "grid_column": null,
            "grid_gap": null,
            "grid_row": null,
            "grid_template_areas": null,
            "grid_template_columns": null,
            "grid_template_rows": null,
            "height": null,
            "justify_content": null,
            "justify_items": null,
            "left": null,
            "margin": null,
            "max_height": null,
            "max_width": null,
            "min_height": null,
            "min_width": null,
            "object_fit": null,
            "object_position": null,
            "order": null,
            "overflow": null,
            "overflow_x": null,
            "overflow_y": null,
            "padding": null,
            "right": null,
            "top": null,
            "visibility": null,
            "width": null
          }
        },
        "5f588a37541d4f13aa3b007150267804": {
          "model_module": "@jupyter-widgets/controls",
          "model_module_version": "1.5.0",
          "model_name": "HTMLModel",
          "state": {
            "_dom_classes": [],
            "_model_module": "@jupyter-widgets/controls",
            "_model_module_version": "1.5.0",
            "_model_name": "HTMLModel",
            "_view_count": null,
            "_view_module": "@jupyter-widgets/controls",
            "_view_module_version": "1.5.0",
            "_view_name": "HTMLView",
            "description": "",
            "description_tooltip": null,
            "layout": "IPY_MODEL_eac9aa0e807a4b3782a5d7235f59cbbd",
            "placeholder": "​",
            "style": "IPY_MODEL_e0dd09f7c65848968cd77384fd731b4c",
            "value": " 500k/500k [00:00&lt;00:00, 14.9MB/s]"
          }
        },
        "645ba29fb79748bf86a3553b970f22c2": {
          "model_module": "@jupyter-widgets/base",
          "model_module_version": "1.2.0",
          "model_name": "LayoutModel",
          "state": {
            "_model_module": "@jupyter-widgets/base",
            "_model_module_version": "1.2.0",
            "_model_name": "LayoutModel",
            "_view_count": null,
            "_view_module": "@jupyter-widgets/base",
            "_view_module_version": "1.2.0",
            "_view_name": "LayoutView",
            "align_content": null,
            "align_items": null,
            "align_self": null,
            "border": null,
            "bottom": null,
            "display": null,
            "flex": null,
            "flex_flow": null,
            "grid_area": null,
            "grid_auto_columns": null,
            "grid_auto_flow": null,
            "grid_auto_rows": null,
            "grid_column": null,
            "grid_gap": null,
            "grid_row": null,
            "grid_template_areas": null,
            "grid_template_columns": null,
            "grid_template_rows": null,
            "height": null,
            "justify_content": null,
            "justify_items": null,
            "left": null,
            "margin": null,
            "max_height": null,
            "max_width": null,
            "min_height": null,
            "min_width": null,
            "object_fit": null,
            "object_position": null,
            "order": null,
            "overflow": null,
            "overflow_x": null,
            "overflow_y": null,
            "padding": null,
            "right": null,
            "top": null,
            "visibility": null,
            "width": null
          }
        },
        "6512fee1d64d432a91033ec043132684": {
          "model_module": "@jupyter-widgets/controls",
          "model_module_version": "1.5.0",
          "model_name": "HBoxModel",
          "state": {
            "_dom_classes": [],
            "_model_module": "@jupyter-widgets/controls",
            "_model_module_version": "1.5.0",
            "_model_name": "HBoxModel",
            "_view_count": null,
            "_view_module": "@jupyter-widgets/controls",
            "_view_module_version": "1.5.0",
            "_view_name": "HBoxView",
            "box_style": "",
            "children": [
              "IPY_MODEL_241d686011a845bea660c4870f808595",
              "IPY_MODEL_12f4cb88ea9f48f4aed19ed1e44e6e29",
              "IPY_MODEL_aa0e37bc24bb4efc81aa94288df79ea1"
            ],
            "layout": "IPY_MODEL_4eec5229825e40bbaa19e5a10fa5bda5"
          }
        },
        "66d0a163396346dd8df1d3b0b7176b71": {
          "model_module": "@jupyter-widgets/controls",
          "model_module_version": "1.5.0",
          "model_name": "FloatProgressModel",
          "state": {
            "_dom_classes": [],
            "_model_module": "@jupyter-widgets/controls",
            "_model_module_version": "1.5.0",
            "_model_name": "FloatProgressModel",
            "_view_count": null,
            "_view_module": "@jupyter-widgets/controls",
            "_view_module_version": "1.5.0",
            "_view_name": "ProgressView",
            "bar_style": "success",
            "description": "",
            "description_tooltip": null,
            "layout": "IPY_MODEL_d69cf08b63f44492954c30edb2c28439",
            "max": 560,
            "min": 0,
            "orientation": "horizontal",
            "style": "IPY_MODEL_9f0846b1fb584b2589d8ae22e1b27faf",
            "value": 560
          }
        },
        "6adf85b11a484a9d9c22da15a4475d08": {
          "model_module": "@jupyter-widgets/controls",
          "model_module_version": "1.5.0",
          "model_name": "HTMLModel",
          "state": {
            "_dom_classes": [],
            "_model_module": "@jupyter-widgets/controls",
            "_model_module_version": "1.5.0",
            "_model_name": "HTMLModel",
            "_view_count": null,
            "_view_module": "@jupyter-widgets/controls",
            "_view_module_version": "1.5.0",
            "_view_name": "HTMLView",
            "description": "",
            "description_tooltip": null,
            "layout": "IPY_MODEL_84b20a28aaa94ba6887b0908abbdb797",
            "placeholder": "​",
            "style": "IPY_MODEL_401b8866435b459ab499fa33db9d3120",
            "value": "tokenizer.json: 100%"
          }
        },
        "6df188f81f354898a3e417b56f9f5acb": {
          "model_module": "@jupyter-widgets/controls",
          "model_module_version": "1.5.0",
          "model_name": "DescriptionStyleModel",
          "state": {
            "_model_module": "@jupyter-widgets/controls",
            "_model_module_version": "1.5.0",
            "_model_name": "DescriptionStyleModel",
            "_view_count": null,
            "_view_module": "@jupyter-widgets/base",
            "_view_module_version": "1.2.0",
            "_view_name": "StyleView",
            "description_width": ""
          }
        },
        "6f5958342c684172a4339eaf48212a6b": {
          "model_module": "@jupyter-widgets/controls",
          "model_module_version": "1.5.0",
          "model_name": "DescriptionStyleModel",
          "state": {
            "_model_module": "@jupyter-widgets/controls",
            "_model_module_version": "1.5.0",
            "_model_name": "DescriptionStyleModel",
            "_view_count": null,
            "_view_module": "@jupyter-widgets/base",
            "_view_module_version": "1.2.0",
            "_view_name": "StyleView",
            "description_width": ""
          }
        },
        "70b94189e15148739dad7db7aaf8ab42": {
          "model_module": "@jupyter-widgets/base",
          "model_module_version": "1.2.0",
          "model_name": "LayoutModel",
          "state": {
            "_model_module": "@jupyter-widgets/base",
            "_model_module_version": "1.2.0",
            "_model_name": "LayoutModel",
            "_view_count": null,
            "_view_module": "@jupyter-widgets/base",
            "_view_module_version": "1.2.0",
            "_view_name": "LayoutView",
            "align_content": null,
            "align_items": null,
            "align_self": null,
            "border": null,
            "bottom": null,
            "display": null,
            "flex": null,
            "flex_flow": null,
            "grid_area": null,
            "grid_auto_columns": null,
            "grid_auto_flow": null,
            "grid_auto_rows": null,
            "grid_column": null,
            "grid_gap": null,
            "grid_row": null,
            "grid_template_areas": null,
            "grid_template_columns": null,
            "grid_template_rows": null,
            "height": null,
            "justify_content": null,
            "justify_items": null,
            "left": null,
            "margin": null,
            "max_height": null,
            "max_width": null,
            "min_height": null,
            "min_width": null,
            "object_fit": null,
            "object_position": null,
            "order": null,
            "overflow": null,
            "overflow_x": null,
            "overflow_y": null,
            "padding": null,
            "right": null,
            "top": null,
            "visibility": null,
            "width": null
          }
        },
        "72da486212cb432783f334f069225239": {
          "model_module": "@jupyter-widgets/base",
          "model_module_version": "1.2.0",
          "model_name": "LayoutModel",
          "state": {
            "_model_module": "@jupyter-widgets/base",
            "_model_module_version": "1.2.0",
            "_model_name": "LayoutModel",
            "_view_count": null,
            "_view_module": "@jupyter-widgets/base",
            "_view_module_version": "1.2.0",
            "_view_name": "LayoutView",
            "align_content": null,
            "align_items": null,
            "align_self": null,
            "border": null,
            "bottom": null,
            "display": null,
            "flex": null,
            "flex_flow": null,
            "grid_area": null,
            "grid_auto_columns": null,
            "grid_auto_flow": null,
            "grid_auto_rows": null,
            "grid_column": null,
            "grid_gap": null,
            "grid_row": null,
            "grid_template_areas": null,
            "grid_template_columns": null,
            "grid_template_rows": null,
            "height": null,
            "justify_content": null,
            "justify_items": null,
            "left": null,
            "margin": null,
            "max_height": null,
            "max_width": null,
            "min_height": null,
            "min_width": null,
            "object_fit": null,
            "object_position": null,
            "order": null,
            "overflow": null,
            "overflow_x": null,
            "overflow_y": null,
            "padding": null,
            "right": null,
            "top": null,
            "visibility": null,
            "width": null
          }
        },
        "756eba6c613d438fbb44fb089357824f": {
          "model_module": "@jupyter-widgets/controls",
          "model_module_version": "1.5.0",
          "model_name": "ProgressStyleModel",
          "state": {
            "_model_module": "@jupyter-widgets/controls",
            "_model_module_version": "1.5.0",
            "_model_name": "ProgressStyleModel",
            "_view_count": null,
            "_view_module": "@jupyter-widgets/base",
            "_view_module_version": "1.2.0",
            "_view_name": "StyleView",
            "bar_color": null,
            "description_width": ""
          }
        },
        "7648cba6581c41d6807c44a1e6ec46f0": {
          "model_module": "@jupyter-widgets/controls",
          "model_module_version": "1.5.0",
          "model_name": "HBoxModel",
          "state": {
            "_dom_classes": [],
            "_model_module": "@jupyter-widgets/controls",
            "_model_module_version": "1.5.0",
            "_model_name": "HBoxModel",
            "_view_count": null,
            "_view_module": "@jupyter-widgets/controls",
            "_view_module_version": "1.5.0",
            "_view_name": "HBoxView",
            "box_style": "",
            "children": [
              "IPY_MODEL_9f397d441944401a9cdf31cd8cd3bb7a",
              "IPY_MODEL_66d0a163396346dd8df1d3b0b7176b71",
              "IPY_MODEL_bb4e97fa97b841dabdd6f48ac99b5be4"
            ],
            "layout": "IPY_MODEL_fd6a5b0a0f8b45bcb9648656ce63ad4e"
          }
        },
        "783f3cf86af745e7a35c97283a137322": {
          "model_module": "@jupyter-widgets/controls",
          "model_module_version": "1.5.0",
          "model_name": "FloatProgressModel",
          "state": {
            "_dom_classes": [],
            "_model_module": "@jupyter-widgets/controls",
            "_model_module_version": "1.5.0",
            "_model_name": "FloatProgressModel",
            "_view_count": null,
            "_view_module": "@jupyter-widgets/controls",
            "_view_module_version": "1.5.0",
            "_view_name": "ProgressView",
            "bar_style": "success",
            "description": "",
            "description_tooltip": null,
            "layout": "IPY_MODEL_8352bec67456474ca5ea922ee20a08d5",
            "max": 129,
            "min": 0,
            "orientation": "horizontal",
            "style": "IPY_MODEL_2aedc3d191bc43289ade6eb2e7879f0f",
            "value": 129
          }
        },
        "7d88ad9cef3b4995af4f8163af5b544d": {
          "model_module": "@jupyter-widgets/controls",
          "model_module_version": "1.5.0",
          "model_name": "FloatProgressModel",
          "state": {
            "_dom_classes": [],
            "_model_module": "@jupyter-widgets/controls",
            "_model_module_version": "1.5.0",
            "_model_name": "FloatProgressModel",
            "_view_count": null,
            "_view_module": "@jupyter-widgets/controls",
            "_view_module_version": "1.5.0",
            "_view_name": "ProgressView",
            "bar_style": "success",
            "description": "",
            "description_tooltip": null,
            "layout": "IPY_MODEL_fbba2db931df4d3d8f62380a1abcd558",
            "max": 499723,
            "min": 0,
            "orientation": "horizontal",
            "style": "IPY_MODEL_3479d2307a7947b5b10b2db1d780363b",
            "value": 499723
          }
        },
        "82f63a30f5cd4bf1b5fab69872179dde": {
          "model_module": "@jupyter-widgets/base",
          "model_module_version": "1.2.0",
          "model_name": "LayoutModel",
          "state": {
            "_model_module": "@jupyter-widgets/base",
            "_model_module_version": "1.2.0",
            "_model_name": "LayoutModel",
            "_view_count": null,
            "_view_module": "@jupyter-widgets/base",
            "_view_module_version": "1.2.0",
            "_view_name": "LayoutView",
            "align_content": null,
            "align_items": null,
            "align_self": null,
            "border": null,
            "bottom": null,
            "display": null,
            "flex": null,
            "flex_flow": null,
            "grid_area": null,
            "grid_auto_columns": null,
            "grid_auto_flow": null,
            "grid_auto_rows": null,
            "grid_column": null,
            "grid_gap": null,
            "grid_row": null,
            "grid_template_areas": null,
            "grid_template_columns": null,
            "grid_template_rows": null,
            "height": null,
            "justify_content": null,
            "justify_items": null,
            "left": null,
            "margin": null,
            "max_height": null,
            "max_width": null,
            "min_height": null,
            "min_width": null,
            "object_fit": null,
            "object_position": null,
            "order": null,
            "overflow": null,
            "overflow_x": null,
            "overflow_y": null,
            "padding": null,
            "right": null,
            "top": null,
            "visibility": null,
            "width": null
          }
        },
        "8352bec67456474ca5ea922ee20a08d5": {
          "model_module": "@jupyter-widgets/base",
          "model_module_version": "1.2.0",
          "model_name": "LayoutModel",
          "state": {
            "_model_module": "@jupyter-widgets/base",
            "_model_module_version": "1.2.0",
            "_model_name": "LayoutModel",
            "_view_count": null,
            "_view_module": "@jupyter-widgets/base",
            "_view_module_version": "1.2.0",
            "_view_name": "LayoutView",
            "align_content": null,
            "align_items": null,
            "align_self": null,
            "border": null,
            "bottom": null,
            "display": null,
            "flex": null,
            "flex_flow": null,
            "grid_area": null,
            "grid_auto_columns": null,
            "grid_auto_flow": null,
            "grid_auto_rows": null,
            "grid_column": null,
            "grid_gap": null,
            "grid_row": null,
            "grid_template_areas": null,
            "grid_template_columns": null,
            "grid_template_rows": null,
            "height": null,
            "justify_content": null,
            "justify_items": null,
            "left": null,
            "margin": null,
            "max_height": null,
            "max_width": null,
            "min_height": null,
            "min_width": null,
            "object_fit": null,
            "object_position": null,
            "order": null,
            "overflow": null,
            "overflow_x": null,
            "overflow_y": null,
            "padding": null,
            "right": null,
            "top": null,
            "visibility": null,
            "width": null
          }
        },
        "84b20a28aaa94ba6887b0908abbdb797": {
          "model_module": "@jupyter-widgets/base",
          "model_module_version": "1.2.0",
          "model_name": "LayoutModel",
          "state": {
            "_model_module": "@jupyter-widgets/base",
            "_model_module_version": "1.2.0",
            "_model_name": "LayoutModel",
            "_view_count": null,
            "_view_module": "@jupyter-widgets/base",
            "_view_module_version": "1.2.0",
            "_view_name": "LayoutView",
            "align_content": null,
            "align_items": null,
            "align_self": null,
            "border": null,
            "bottom": null,
            "display": null,
            "flex": null,
            "flex_flow": null,
            "grid_area": null,
            "grid_auto_columns": null,
            "grid_auto_flow": null,
            "grid_auto_rows": null,
            "grid_column": null,
            "grid_gap": null,
            "grid_row": null,
            "grid_template_areas": null,
            "grid_template_columns": null,
            "grid_template_rows": null,
            "height": null,
            "justify_content": null,
            "justify_items": null,
            "left": null,
            "margin": null,
            "max_height": null,
            "max_width": null,
            "min_height": null,
            "min_width": null,
            "object_fit": null,
            "object_position": null,
            "order": null,
            "overflow": null,
            "overflow_x": null,
            "overflow_y": null,
            "padding": null,
            "right": null,
            "top": null,
            "visibility": null,
            "width": null
          }
        },
        "863fecc9fa2148f8a80f731fc9d0ab3d": {
          "model_module": "@jupyter-widgets/controls",
          "model_module_version": "1.5.0",
          "model_name": "DescriptionStyleModel",
          "state": {
            "_model_module": "@jupyter-widgets/controls",
            "_model_module_version": "1.5.0",
            "_model_name": "DescriptionStyleModel",
            "_view_count": null,
            "_view_module": "@jupyter-widgets/base",
            "_view_module_version": "1.2.0",
            "_view_name": "StyleView",
            "description_width": ""
          }
        },
        "92eddac2de68402592536aa4d8132e88": {
          "model_module": "@jupyter-widgets/base",
          "model_module_version": "1.2.0",
          "model_name": "LayoutModel",
          "state": {
            "_model_module": "@jupyter-widgets/base",
            "_model_module_version": "1.2.0",
            "_model_name": "LayoutModel",
            "_view_count": null,
            "_view_module": "@jupyter-widgets/base",
            "_view_module_version": "1.2.0",
            "_view_name": "LayoutView",
            "align_content": null,
            "align_items": null,
            "align_self": null,
            "border": null,
            "bottom": null,
            "display": null,
            "flex": null,
            "flex_flow": null,
            "grid_area": null,
            "grid_auto_columns": null,
            "grid_auto_flow": null,
            "grid_auto_rows": null,
            "grid_column": null,
            "grid_gap": null,
            "grid_row": null,
            "grid_template_areas": null,
            "grid_template_columns": null,
            "grid_template_rows": null,
            "height": null,
            "justify_content": null,
            "justify_items": null,
            "left": null,
            "margin": null,
            "max_height": null,
            "max_width": null,
            "min_height": null,
            "min_width": null,
            "object_fit": null,
            "object_position": null,
            "order": null,
            "overflow": null,
            "overflow_x": null,
            "overflow_y": null,
            "padding": null,
            "right": null,
            "top": null,
            "visibility": null,
            "width": null
          }
        },
        "9f0846b1fb584b2589d8ae22e1b27faf": {
          "model_module": "@jupyter-widgets/controls",
          "model_module_version": "1.5.0",
          "model_name": "ProgressStyleModel",
          "state": {
            "_model_module": "@jupyter-widgets/controls",
            "_model_module_version": "1.5.0",
            "_model_name": "ProgressStyleModel",
            "_view_count": null,
            "_view_module": "@jupyter-widgets/base",
            "_view_module_version": "1.2.0",
            "_view_name": "StyleView",
            "bar_color": null,
            "description_width": ""
          }
        },
        "9f397d441944401a9cdf31cd8cd3bb7a": {
          "model_module": "@jupyter-widgets/controls",
          "model_module_version": "1.5.0",
          "model_name": "HTMLModel",
          "state": {
            "_dom_classes": [],
            "_model_module": "@jupyter-widgets/controls",
            "_model_module_version": "1.5.0",
            "_model_name": "HTMLModel",
            "_view_count": null,
            "_view_module": "@jupyter-widgets/controls",
            "_view_module_version": "1.5.0",
            "_view_name": "HTMLView",
            "description": "",
            "description_tooltip": null,
            "layout": "IPY_MODEL_d8ee427e21724c469ffe33de51ff4b3b",
            "placeholder": "​",
            "style": "IPY_MODEL_13d390959219401990e19a402647d806",
            "value": "config.json: 100%"
          }
        },
        "a0c6f760286f40958d6239a4686a4559": {
          "model_module": "@jupyter-widgets/controls",
          "model_module_version": "1.5.0",
          "model_name": "FloatProgressModel",
          "state": {
            "_dom_classes": [],
            "_model_module": "@jupyter-widgets/controls",
            "_model_module_version": "1.5.0",
            "_model_name": "FloatProgressModel",
            "_view_count": null,
            "_view_module": "@jupyter-widgets/controls",
            "_view_module_version": "1.5.0",
            "_view_name": "ProgressView",
            "bar_style": "success",
            "description": "",
            "description_tooltip": null,
            "layout": "IPY_MODEL_3d1321cc589a49e8afda9be94788153d",
            "max": 1842767,
            "min": 0,
            "orientation": "horizontal",
            "style": "IPY_MODEL_0517c508b4fe4fc6b25296267753eda3",
            "value": 1842767
          }
        },
        "aa0e37bc24bb4efc81aa94288df79ea1": {
          "model_module": "@jupyter-widgets/controls",
          "model_module_version": "1.5.0",
          "model_name": "HTMLModel",
          "state": {
            "_dom_classes": [],
            "_model_module": "@jupyter-widgets/controls",
            "_model_module_version": "1.5.0",
            "_model_name": "HTMLModel",
            "_view_count": null,
            "_view_module": "@jupyter-widgets/controls",
            "_view_module_version": "1.5.0",
            "_view_name": "HTMLView",
            "description": "",
            "description_tooltip": null,
            "layout": "IPY_MODEL_1d60c64cbe684ac9bd9c997679f7fa44",
            "placeholder": "​",
            "style": "IPY_MODEL_6f5958342c684172a4339eaf48212a6b",
            "value": " 4.40G/4.40G [00:26&lt;00:00, 260MB/s]"
          }
        },
        "b380e2bab84f49a29405f1caa46e4672": {
          "model_module": "@jupyter-widgets/controls",
          "model_module_version": "1.5.0",
          "model_name": "HTMLModel",
          "state": {
            "_dom_classes": [],
            "_model_module": "@jupyter-widgets/controls",
            "_model_module_version": "1.5.0",
            "_model_name": "HTMLModel",
            "_view_count": null,
            "_view_module": "@jupyter-widgets/controls",
            "_view_module_version": "1.5.0",
            "_view_name": "HTMLView",
            "description": "",
            "description_tooltip": null,
            "layout": "IPY_MODEL_92eddac2de68402592536aa4d8132e88",
            "placeholder": "​",
            "style": "IPY_MODEL_55b97afaf5a14d4f9d24c17dfb158b68",
            "value": " 129/129 [00:00&lt;00:00, 9.20kB/s]"
          }
        },
        "b83340500412489284f23181b7faa5f5": {
          "model_module": "@jupyter-widgets/controls",
          "model_module_version": "1.5.0",
          "model_name": "HBoxModel",
          "state": {
            "_dom_classes": [],
            "_model_module": "@jupyter-widgets/controls",
            "_model_module_version": "1.5.0",
            "_model_name": "HBoxModel",
            "_view_count": null,
            "_view_module": "@jupyter-widgets/controls",
            "_view_module_version": "1.5.0",
            "_view_name": "HBoxView",
            "box_style": "",
            "children": [
              "IPY_MODEL_481b28c71e7c4fe6a26c08b4e8b36395",
              "IPY_MODEL_783f3cf86af745e7a35c97283a137322",
              "IPY_MODEL_b380e2bab84f49a29405f1caa46e4672"
            ],
            "layout": "IPY_MODEL_e7f9648d3ff540c6b529927e01d4d542"
          }
        },
        "bb4e97fa97b841dabdd6f48ac99b5be4": {
          "model_module": "@jupyter-widgets/controls",
          "model_module_version": "1.5.0",
          "model_name": "HTMLModel",
          "state": {
            "_dom_classes": [],
            "_model_module": "@jupyter-widgets/controls",
            "_model_module_version": "1.5.0",
            "_model_name": "HTMLModel",
            "_view_count": null,
            "_view_module": "@jupyter-widgets/controls",
            "_view_module_version": "1.5.0",
            "_view_name": "HTMLView",
            "description": "",
            "description_tooltip": null,
            "layout": "IPY_MODEL_d755d2bda2224d9cab2a6c1d40aac6e8",
            "placeholder": "​",
            "style": "IPY_MODEL_6df188f81f354898a3e417b56f9f5acb",
            "value": " 560/560 [00:00&lt;00:00, 39.5kB/s]"
          }
        },
        "c24cdc8074d6446ba36beb7ced513ad6": {
          "model_module": "@jupyter-widgets/controls",
          "model_module_version": "1.5.0",
          "model_name": "HBoxModel",
          "state": {
            "_dom_classes": [],
            "_model_module": "@jupyter-widgets/controls",
            "_model_module_version": "1.5.0",
            "_model_name": "HBoxModel",
            "_view_count": null,
            "_view_module": "@jupyter-widgets/controls",
            "_view_module_version": "1.5.0",
            "_view_name": "HBoxView",
            "box_style": "",
            "children": [
              "IPY_MODEL_defc4a44496140c7b4c5708b95960f96",
              "IPY_MODEL_7d88ad9cef3b4995af4f8163af5b544d",
              "IPY_MODEL_5f588a37541d4f13aa3b007150267804"
            ],
            "layout": "IPY_MODEL_645ba29fb79748bf86a3553b970f22c2"
          }
        },
        "d2494418df4843e1a6fafaec3045633c": {
          "model_module": "@jupyter-widgets/base",
          "model_module_version": "1.2.0",
          "model_name": "LayoutModel",
          "state": {
            "_model_module": "@jupyter-widgets/base",
            "_model_module_version": "1.2.0",
            "_model_name": "LayoutModel",
            "_view_count": null,
            "_view_module": "@jupyter-widgets/base",
            "_view_module_version": "1.2.0",
            "_view_name": "LayoutView",
            "align_content": null,
            "align_items": null,
            "align_self": null,
            "border": null,
            "bottom": null,
            "display": null,
            "flex": null,
            "flex_flow": null,
            "grid_area": null,
            "grid_auto_columns": null,
            "grid_auto_flow": null,
            "grid_auto_rows": null,
            "grid_column": null,
            "grid_gap": null,
            "grid_row": null,
            "grid_template_areas": null,
            "grid_template_columns": null,
            "grid_template_rows": null,
            "height": null,
            "justify_content": null,
            "justify_items": null,
            "left": null,
            "margin": null,
            "max_height": null,
            "max_width": null,
            "min_height": null,
            "min_width": null,
            "object_fit": null,
            "object_position": null,
            "order": null,
            "overflow": null,
            "overflow_x": null,
            "overflow_y": null,
            "padding": null,
            "right": null,
            "top": null,
            "visibility": null,
            "width": null
          }
        },
        "d44c221686964c09ad24f72f87bb2733": {
          "model_module": "@jupyter-widgets/base",
          "model_module_version": "1.2.0",
          "model_name": "LayoutModel",
          "state": {
            "_model_module": "@jupyter-widgets/base",
            "_model_module_version": "1.2.0",
            "_model_name": "LayoutModel",
            "_view_count": null,
            "_view_module": "@jupyter-widgets/base",
            "_view_module_version": "1.2.0",
            "_view_name": "LayoutView",
            "align_content": null,
            "align_items": null,
            "align_self": null,
            "border": null,
            "bottom": null,
            "display": null,
            "flex": null,
            "flex_flow": null,
            "grid_area": null,
            "grid_auto_columns": null,
            "grid_auto_flow": null,
            "grid_auto_rows": null,
            "grid_column": null,
            "grid_gap": null,
            "grid_row": null,
            "grid_template_areas": null,
            "grid_template_columns": null,
            "grid_template_rows": null,
            "height": null,
            "justify_content": null,
            "justify_items": null,
            "left": null,
            "margin": null,
            "max_height": null,
            "max_width": null,
            "min_height": null,
            "min_width": null,
            "object_fit": null,
            "object_position": null,
            "order": null,
            "overflow": null,
            "overflow_x": null,
            "overflow_y": null,
            "padding": null,
            "right": null,
            "top": null,
            "visibility": null,
            "width": null
          }
        },
        "d69cf08b63f44492954c30edb2c28439": {
          "model_module": "@jupyter-widgets/base",
          "model_module_version": "1.2.0",
          "model_name": "LayoutModel",
          "state": {
            "_model_module": "@jupyter-widgets/base",
            "_model_module_version": "1.2.0",
            "_model_name": "LayoutModel",
            "_view_count": null,
            "_view_module": "@jupyter-widgets/base",
            "_view_module_version": "1.2.0",
            "_view_name": "LayoutView",
            "align_content": null,
            "align_items": null,
            "align_self": null,
            "border": null,
            "bottom": null,
            "display": null,
            "flex": null,
            "flex_flow": null,
            "grid_area": null,
            "grid_auto_columns": null,
            "grid_auto_flow": null,
            "grid_auto_rows": null,
            "grid_column": null,
            "grid_gap": null,
            "grid_row": null,
            "grid_template_areas": null,
            "grid_template_columns": null,
            "grid_template_rows": null,
            "height": null,
            "justify_content": null,
            "justify_items": null,
            "left": null,
            "margin": null,
            "max_height": null,
            "max_width": null,
            "min_height": null,
            "min_width": null,
            "object_fit": null,
            "object_position": null,
            "order": null,
            "overflow": null,
            "overflow_x": null,
            "overflow_y": null,
            "padding": null,
            "right": null,
            "top": null,
            "visibility": null,
            "width": null
          }
        },
        "d755d2bda2224d9cab2a6c1d40aac6e8": {
          "model_module": "@jupyter-widgets/base",
          "model_module_version": "1.2.0",
          "model_name": "LayoutModel",
          "state": {
            "_model_module": "@jupyter-widgets/base",
            "_model_module_version": "1.2.0",
            "_model_name": "LayoutModel",
            "_view_count": null,
            "_view_module": "@jupyter-widgets/base",
            "_view_module_version": "1.2.0",
            "_view_name": "LayoutView",
            "align_content": null,
            "align_items": null,
            "align_self": null,
            "border": null,
            "bottom": null,
            "display": null,
            "flex": null,
            "flex_flow": null,
            "grid_area": null,
            "grid_auto_columns": null,
            "grid_auto_flow": null,
            "grid_auto_rows": null,
            "grid_column": null,
            "grid_gap": null,
            "grid_row": null,
            "grid_template_areas": null,
            "grid_template_columns": null,
            "grid_template_rows": null,
            "height": null,
            "justify_content": null,
            "justify_items": null,
            "left": null,
            "margin": null,
            "max_height": null,
            "max_width": null,
            "min_height": null,
            "min_width": null,
            "object_fit": null,
            "object_position": null,
            "order": null,
            "overflow": null,
            "overflow_x": null,
            "overflow_y": null,
            "padding": null,
            "right": null,
            "top": null,
            "visibility": null,
            "width": null
          }
        },
        "d8ee427e21724c469ffe33de51ff4b3b": {
          "model_module": "@jupyter-widgets/base",
          "model_module_version": "1.2.0",
          "model_name": "LayoutModel",
          "state": {
            "_model_module": "@jupyter-widgets/base",
            "_model_module_version": "1.2.0",
            "_model_name": "LayoutModel",
            "_view_count": null,
            "_view_module": "@jupyter-widgets/base",
            "_view_module_version": "1.2.0",
            "_view_name": "LayoutView",
            "align_content": null,
            "align_items": null,
            "align_self": null,
            "border": null,
            "bottom": null,
            "display": null,
            "flex": null,
            "flex_flow": null,
            "grid_area": null,
            "grid_auto_columns": null,
            "grid_auto_flow": null,
            "grid_auto_rows": null,
            "grid_column": null,
            "grid_gap": null,
            "grid_row": null,
            "grid_template_areas": null,
            "grid_template_columns": null,
            "grid_template_rows": null,
            "height": null,
            "justify_content": null,
            "justify_items": null,
            "left": null,
            "margin": null,
            "max_height": null,
            "max_width": null,
            "min_height": null,
            "min_width": null,
            "object_fit": null,
            "object_position": null,
            "order": null,
            "overflow": null,
            "overflow_x": null,
            "overflow_y": null,
            "padding": null,
            "right": null,
            "top": null,
            "visibility": null,
            "width": null
          }
        },
        "defc4a44496140c7b4c5708b95960f96": {
          "model_module": "@jupyter-widgets/controls",
          "model_module_version": "1.5.0",
          "model_name": "HTMLModel",
          "state": {
            "_dom_classes": [],
            "_model_module": "@jupyter-widgets/controls",
            "_model_module_version": "1.5.0",
            "_model_name": "HTMLModel",
            "_view_count": null,
            "_view_module": "@jupyter-widgets/controls",
            "_view_module_version": "1.5.0",
            "_view_name": "HTMLView",
            "description": "",
            "description_tooltip": null,
            "layout": "IPY_MODEL_5cf0ada5f9b3495290f9fda95cdedc66",
            "placeholder": "​",
            "style": "IPY_MODEL_005eed6540744f089e737fa1ff10079e",
            "value": "tokenizer.model: 100%"
          }
        },
        "e0dd09f7c65848968cd77384fd731b4c": {
          "model_module": "@jupyter-widgets/controls",
          "model_module_version": "1.5.0",
          "model_name": "DescriptionStyleModel",
          "state": {
            "_model_module": "@jupyter-widgets/controls",
            "_model_module_version": "1.5.0",
            "_model_name": "DescriptionStyleModel",
            "_view_count": null,
            "_view_module": "@jupyter-widgets/base",
            "_view_module_version": "1.2.0",
            "_view_name": "StyleView",
            "description_width": ""
          }
        },
        "e6421f67cbeb4fd3ab7bb3264ee51df4": {
          "model_module": "@jupyter-widgets/controls",
          "model_module_version": "1.5.0",
          "model_name": "HBoxModel",
          "state": {
            "_dom_classes": [],
            "_model_module": "@jupyter-widgets/controls",
            "_model_module_version": "1.5.0",
            "_model_name": "HBoxModel",
            "_view_count": null,
            "_view_module": "@jupyter-widgets/controls",
            "_view_module_version": "1.5.0",
            "_view_name": "HBoxView",
            "box_style": "",
            "children": [
              "IPY_MODEL_473247a28332437d8254c896e6c57051",
              "IPY_MODEL_1d4d674929df41adb6a45acc74e0863f",
              "IPY_MODEL_25c03fbbdef4497397f1ab4ac36d8e30"
            ],
            "layout": "IPY_MODEL_08ae93f57daa4569ba4a3e4c405ce8da"
          }
        },
        "e7f9648d3ff540c6b529927e01d4d542": {
          "model_module": "@jupyter-widgets/base",
          "model_module_version": "1.2.0",
          "model_name": "LayoutModel",
          "state": {
            "_model_module": "@jupyter-widgets/base",
            "_model_module_version": "1.2.0",
            "_model_name": "LayoutModel",
            "_view_count": null,
            "_view_module": "@jupyter-widgets/base",
            "_view_module_version": "1.2.0",
            "_view_name": "LayoutView",
            "align_content": null,
            "align_items": null,
            "align_self": null,
            "border": null,
            "bottom": null,
            "display": null,
            "flex": null,
            "flex_flow": null,
            "grid_area": null,
            "grid_auto_columns": null,
            "grid_auto_flow": null,
            "grid_auto_rows": null,
            "grid_column": null,
            "grid_gap": null,
            "grid_row": null,
            "grid_template_areas": null,
            "grid_template_columns": null,
            "grid_template_rows": null,
            "height": null,
            "justify_content": null,
            "justify_items": null,
            "left": null,
            "margin": null,
            "max_height": null,
            "max_width": null,
            "min_height": null,
            "min_width": null,
            "object_fit": null,
            "object_position": null,
            "order": null,
            "overflow": null,
            "overflow_x": null,
            "overflow_y": null,
            "padding": null,
            "right": null,
            "top": null,
            "visibility": null,
            "width": null
          }
        },
        "ea5c4813efee43b39f2aef43ff754405": {
          "model_module": "@jupyter-widgets/controls",
          "model_module_version": "1.5.0",
          "model_name": "ProgressStyleModel",
          "state": {
            "_model_module": "@jupyter-widgets/controls",
            "_model_module_version": "1.5.0",
            "_model_name": "ProgressStyleModel",
            "_view_count": null,
            "_view_module": "@jupyter-widgets/base",
            "_view_module_version": "1.2.0",
            "_view_name": "StyleView",
            "bar_color": null,
            "description_width": ""
          }
        },
        "eac9aa0e807a4b3782a5d7235f59cbbd": {
          "model_module": "@jupyter-widgets/base",
          "model_module_version": "1.2.0",
          "model_name": "LayoutModel",
          "state": {
            "_model_module": "@jupyter-widgets/base",
            "_model_module_version": "1.2.0",
            "_model_name": "LayoutModel",
            "_view_count": null,
            "_view_module": "@jupyter-widgets/base",
            "_view_module_version": "1.2.0",
            "_view_name": "LayoutView",
            "align_content": null,
            "align_items": null,
            "align_self": null,
            "border": null,
            "bottom": null,
            "display": null,
            "flex": null,
            "flex_flow": null,
            "grid_area": null,
            "grid_auto_columns": null,
            "grid_auto_flow": null,
            "grid_auto_rows": null,
            "grid_column": null,
            "grid_gap": null,
            "grid_row": null,
            "grid_template_areas": null,
            "grid_template_columns": null,
            "grid_template_rows": null,
            "height": null,
            "justify_content": null,
            "justify_items": null,
            "left": null,
            "margin": null,
            "max_height": null,
            "max_width": null,
            "min_height": null,
            "min_width": null,
            "object_fit": null,
            "object_position": null,
            "order": null,
            "overflow": null,
            "overflow_x": null,
            "overflow_y": null,
            "padding": null,
            "right": null,
            "top": null,
            "visibility": null,
            "width": null
          }
        },
        "ebba9c999eaf42eaad6c021b34d624f7": {
          "model_module": "@jupyter-widgets/base",
          "model_module_version": "1.2.0",
          "model_name": "LayoutModel",
          "state": {
            "_model_module": "@jupyter-widgets/base",
            "_model_module_version": "1.2.0",
            "_model_name": "LayoutModel",
            "_view_count": null,
            "_view_module": "@jupyter-widgets/base",
            "_view_module_version": "1.2.0",
            "_view_name": "LayoutView",
            "align_content": null,
            "align_items": null,
            "align_self": null,
            "border": null,
            "bottom": null,
            "display": null,
            "flex": null,
            "flex_flow": null,
            "grid_area": null,
            "grid_auto_columns": null,
            "grid_auto_flow": null,
            "grid_auto_rows": null,
            "grid_column": null,
            "grid_gap": null,
            "grid_row": null,
            "grid_template_areas": null,
            "grid_template_columns": null,
            "grid_template_rows": null,
            "height": null,
            "justify_content": null,
            "justify_items": null,
            "left": null,
            "margin": null,
            "max_height": null,
            "max_width": null,
            "min_height": null,
            "min_width": null,
            "object_fit": null,
            "object_position": null,
            "order": null,
            "overflow": null,
            "overflow_x": null,
            "overflow_y": null,
            "padding": null,
            "right": null,
            "top": null,
            "visibility": null,
            "width": null
          }
        },
        "f336d3c4d8d142b4b3295d4a232fc8df": {
          "model_module": "@jupyter-widgets/base",
          "model_module_version": "1.2.0",
          "model_name": "LayoutModel",
          "state": {
            "_model_module": "@jupyter-widgets/base",
            "_model_module_version": "1.2.0",
            "_model_name": "LayoutModel",
            "_view_count": null,
            "_view_module": "@jupyter-widgets/base",
            "_view_module_version": "1.2.0",
            "_view_name": "LayoutView",
            "align_content": null,
            "align_items": null,
            "align_self": null,
            "border": null,
            "bottom": null,
            "display": null,
            "flex": null,
            "flex_flow": null,
            "grid_area": null,
            "grid_auto_columns": null,
            "grid_auto_flow": null,
            "grid_auto_rows": null,
            "grid_column": null,
            "grid_gap": null,
            "grid_row": null,
            "grid_template_areas": null,
            "grid_template_columns": null,
            "grid_template_rows": null,
            "height": null,
            "justify_content": null,
            "justify_items": null,
            "left": null,
            "margin": null,
            "max_height": null,
            "max_width": null,
            "min_height": null,
            "min_width": null,
            "object_fit": null,
            "object_position": null,
            "order": null,
            "overflow": null,
            "overflow_x": null,
            "overflow_y": null,
            "padding": null,
            "right": null,
            "top": null,
            "visibility": null,
            "width": null
          }
        },
        "f59f25c5edec4a3cb0296fcbbde59147": {
          "model_module": "@jupyter-widgets/controls",
          "model_module_version": "1.5.0",
          "model_name": "DescriptionStyleModel",
          "state": {
            "_model_module": "@jupyter-widgets/controls",
            "_model_module_version": "1.5.0",
            "_model_name": "DescriptionStyleModel",
            "_view_count": null,
            "_view_module": "@jupyter-widgets/base",
            "_view_module_version": "1.2.0",
            "_view_name": "StyleView",
            "description_width": ""
          }
        },
        "fbba2db931df4d3d8f62380a1abcd558": {
          "model_module": "@jupyter-widgets/base",
          "model_module_version": "1.2.0",
          "model_name": "LayoutModel",
          "state": {
            "_model_module": "@jupyter-widgets/base",
            "_model_module_version": "1.2.0",
            "_model_name": "LayoutModel",
            "_view_count": null,
            "_view_module": "@jupyter-widgets/base",
            "_view_module_version": "1.2.0",
            "_view_name": "LayoutView",
            "align_content": null,
            "align_items": null,
            "align_self": null,
            "border": null,
            "bottom": null,
            "display": null,
            "flex": null,
            "flex_flow": null,
            "grid_area": null,
            "grid_auto_columns": null,
            "grid_auto_flow": null,
            "grid_auto_rows": null,
            "grid_column": null,
            "grid_gap": null,
            "grid_row": null,
            "grid_template_areas": null,
            "grid_template_columns": null,
            "grid_template_rows": null,
            "height": null,
            "justify_content": null,
            "justify_items": null,
            "left": null,
            "margin": null,
            "max_height": null,
            "max_width": null,
            "min_height": null,
            "min_width": null,
            "object_fit": null,
            "object_position": null,
            "order": null,
            "overflow": null,
            "overflow_x": null,
            "overflow_y": null,
            "padding": null,
            "right": null,
            "top": null,
            "visibility": null,
            "width": null
          }
        },
        "fd6a5b0a0f8b45bcb9648656ce63ad4e": {
          "model_module": "@jupyter-widgets/base",
          "model_module_version": "1.2.0",
          "model_name": "LayoutModel",
          "state": {
            "_model_module": "@jupyter-widgets/base",
            "_model_module_version": "1.2.0",
            "_model_name": "LayoutModel",
            "_view_count": null,
            "_view_module": "@jupyter-widgets/base",
            "_view_module_version": "1.2.0",
            "_view_name": "LayoutView",
            "align_content": null,
            "align_items": null,
            "align_self": null,
            "border": null,
            "bottom": null,
            "display": null,
            "flex": null,
            "flex_flow": null,
            "grid_area": null,
            "grid_auto_columns": null,
            "grid_auto_flow": null,
            "grid_auto_rows": null,
            "grid_column": null,
            "grid_gap": null,
            "grid_row": null,
            "grid_template_areas": null,
            "grid_template_columns": null,
            "grid_template_rows": null,
            "height": null,
            "justify_content": null,
            "justify_items": null,
            "left": null,
            "margin": null,
            "max_height": null,
            "max_width": null,
            "min_height": null,
            "min_width": null,
            "object_fit": null,
            "object_position": null,
            "order": null,
            "overflow": null,
            "overflow_x": null,
            "overflow_y": null,
            "padding": null,
            "right": null,
            "top": null,
            "visibility": null,
            "width": null
          }
        }
      }
    }
  },
  "nbformat": 4,
  "nbformat_minor": 0
}
